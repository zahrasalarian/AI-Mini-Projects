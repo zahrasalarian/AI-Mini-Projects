{
  "nbformat": 4,
  "nbformat_minor": 0,
  "metadata": {
    "accelerator": "GPU",
    "colab": {
      "name": "main_p3.ipynb",
      "provenance": [],
      "collapsed_sections": []
    },
    "kernelspec": {
      "display_name": "Python 3",
      "name": "python3"
    },
    "language_info": {
      "name": "python"
    }
  },
  "cells": [
    {
      "cell_type": "markdown",
      "metadata": {
        "id": "BMxk4i8hrTU6"
      },
      "source": [
        "# Load data"
      ]
    },
    {
      "cell_type": "code",
      "metadata": {
        "colab": {
          "base_uri": "https://localhost:8080/"
        },
        "id": "E5fNVEUun2ZF",
        "outputId": "973d8013-9430-421c-9ac7-789b8bfbbac1"
      },
      "source": [
        "!wget -O Data.npz https://zenodo.org/record/4269852/files/dermamnist.npz?download=1"
      ],
      "execution_count": 4,
      "outputs": [
        {
          "output_type": "stream",
          "text": [
            "--2021-08-14 15:55:56--  https://zenodo.org/record/4269852/files/dermamnist.npz?download=1\n",
            "Resolving zenodo.org (zenodo.org)... 137.138.76.77\n",
            "Connecting to zenodo.org (zenodo.org)|137.138.76.77|:443... connected.\n",
            "HTTP request sent, awaiting response... 200 OK\n",
            "Length: 19725078 (19M) [application/octet-stream]\n",
            "Saving to: ‘Data.npz’\n",
            "\n",
            "Data.npz            100%[===================>]  18.81M  67.4MB/s    in 0.3s    \n",
            "\n",
            "2021-08-14 15:55:56 (67.4 MB/s) - ‘Data.npz’ saved [19725078/19725078]\n",
            "\n"
          ],
          "name": "stdout"
        }
      ]
    },
    {
      "cell_type": "code",
      "metadata": {
        "id": "x7ZUY6vVtbWX"
      },
      "source": [
        "import matplotlib.pyplot as plt   \n",
        "import numpy as np\n",
        "import matplotlib.image as mpimg\n",
        "import cv2\n",
        "from tensorflow.keras.utils import to_categorical"
      ],
      "execution_count": 247,
      "outputs": []
    },
    {
      "cell_type": "code",
      "metadata": {
        "colab": {
          "base_uri": "https://localhost:8080/"
        },
        "id": "9ithl4SfqlN5",
        "outputId": "4fbad265-8811-4384-844e-00e31e62d595"
      },
      "source": [
        "d = np.load('Data.npz')\n",
        "print(d.files)"
      ],
      "execution_count": 248,
      "outputs": [
        {
          "output_type": "stream",
          "text": [
            "['train_images', 'val_images', 'test_images', 'train_labels', 'val_labels', 'test_labels']\n"
          ],
          "name": "stdout"
        }
      ]
    },
    {
      "cell_type": "code",
      "metadata": {
        "colab": {
          "base_uri": "https://localhost:8080/"
        },
        "id": "KEZ6ktGDq4O_",
        "outputId": "4cf88baf-9a84-436d-92a9-bfef50727e38"
      },
      "source": [
        "print(d['train_labels'].shape)"
      ],
      "execution_count": 249,
      "outputs": [
        {
          "output_type": "stream",
          "text": [
            "(7007, 1)\n"
          ],
          "name": "stdout"
        }
      ]
    },
    {
      "cell_type": "code",
      "metadata": {
        "colab": {
          "base_uri": "https://localhost:8080/",
          "height": 303
        },
        "id": "KWzqjD2xtCYT",
        "outputId": "7f220b12-d3d4-44fd-9df6-f9f140087bcd"
      },
      "source": [
        "print('Train: X=%s, y=%s' % (d['train_images'].shape, d['train_labels'].shape))\n",
        "print('Test: X=%s, y=%s' % (d['test_images'].shape, d['test_labels'].shape))\n",
        "# plot some images\n",
        "for i in range(4):\n",
        "\tplt.subplot(220 + 1 + i)\n",
        "\tplt.imshow(d['train_images'][i])\n",
        "plt.show()"
      ],
      "execution_count": 250,
      "outputs": [
        {
          "output_type": "stream",
          "text": [
            "Train: X=(7007, 28, 28, 3), y=(7007, 1)\n",
            "Test: X=(2005, 28, 28, 3), y=(2005, 1)\n"
          ],
          "name": "stdout"
        },
        {
          "output_type": "display_data",
          "data": {
            "image/png": "[encoded data removed]",
            "text/plain": [
              "<Figure size 432x288 with 4 Axes>"
            ]
          },
          "metadata": {
            "tags": [],
            "needs_background": "light"
          }
        }
      ]
    },
    {
      "cell_type": "code",
      "metadata": {
        "id": "jcb-zZcNwtr4"
      },
      "source": [
        "data = {key: d[key] for key in d.files}"
      ],
      "execution_count": 251,
      "outputs": []
    },
    {
      "cell_type": "code",
      "metadata": {
        "colab": {
          "base_uri": "https://localhost:8080/"
        },
        "id": "9Zuq-fcUK283",
        "outputId": "0e6bae13-f5ba-4d4b-e3ff-810370c0739c"
      },
      "source": [
        "data['train_images'][0].shape"
      ],
      "execution_count": 252,
      "outputs": [
        {
          "output_type": "execute_result",
          "data": {
            "text/plain": [
              "(28, 28, 3)"
            ]
          },
          "metadata": {
            "tags": []
          },
          "execution_count": 252
        }
      ]
    },
    {
      "cell_type": "markdown",
      "metadata": {
        "id": "1_ioEopHrbiN"
      },
      "source": [
        "# Preprocessing"
      ]
    },
    {
      "cell_type": "code",
      "metadata": {
        "id": "w3Lex-JBPXiJ"
      },
      "source": [
        "# Display one image\n",
        "def display_one(a, title1 = \"Original\"):\n",
        "    plt.imshow(a), plt.title(title1)\n",
        "    plt.xticks([]), plt.yticks([])\n",
        "    plt.show()\n",
        "\n",
        "# Display two images\n",
        "def display(a, b, title1 = \"Original\", title2 = \"Edited\"):\n",
        "    plt.subplot(121), plt.imshow(a), plt.title(title1)\n",
        "    plt.xticks([]), plt.yticks([])\n",
        "    plt.subplot(122), plt.imshow(b), plt.title(title2)\n",
        "    plt.xticks([]), plt.yticks([])\n",
        "    plt.show()"
      ],
      "execution_count": 253,
      "outputs": []
    },
    {
      "cell_type": "markdown",
      "metadata": {
        "id": "pms-SVftPnA5"
      },
      "source": [
        "## Resize Images\n",
        "## Remove noise(Denoise)\n"
      ]
    },
    {
      "cell_type": "code",
      "metadata": {
        "id": "DPBIiSorLTsP"
      },
      "source": [
        "# resize images\n",
        "def resize_image(data):\n",
        "    img = data\n",
        "    print(len(img))\n",
        "    print('Original size',img[0].shape)\n",
        "    # setting dim of the resize\n",
        "    height = 32\n",
        "    width = 32\n",
        "    dim = (width, height)\n",
        "    res_img = []\n",
        "    for i in range(len(img)):\n",
        "        res = cv2.resize(img[i], dim, interpolation=cv2.INTER_LINEAR)\n",
        "        res_img.append(res)\n",
        "\n",
        "    # Checcking the size\n",
        "    print(\"RESIZED\", res_img[0].shape)\n",
        "    \n",
        "    # Visualizing one of the images in the array\n",
        "    original = res_img[0]\n",
        "    display_one(original)\n",
        "\n",
        "    # Remove noise\n",
        "    # Gaussian\n",
        "    #no_noise = []\n",
        "    #for i in range(len(res_img)):\n",
        "    #  blur = cv2.GaussianBlur(res_img[i], (5, 5), 0)\n",
        "    #  no_noise.append(blur)\n",
        "\n",
        "    #image = no_noise[0]\n",
        "    #display(original, image, 'Original', 'Blured')\n",
        "\n",
        "    return np.array(res_img)"
      ],
      "execution_count": 254,
      "outputs": []
    },
    {
      "cell_type": "code",
      "metadata": {
        "colab": {
          "base_uri": "https://localhost:8080/",
          "height": 929
        },
        "id": "6Zuj6Ku4LoZE",
        "outputId": "a526f2ff-cffa-4998-8396-3e045fa03c28"
      },
      "source": [
        "# Resize all images\n",
        "data = dict({key: resize_image(data[key]) for key in d.files[:3]}, **{key: data[key] for key in d.files[3:]})"
      ],
      "execution_count": 255,
      "outputs": [
        {
          "output_type": "stream",
          "text": [
            "7007\n",
            "Original size (28, 28, 3)\n",
            "RESIZED (32, 32, 3)\n"
          ],
          "name": "stdout"
        },
        {
          "output_type": "display_data",
          "data": {
            "image/png": "[encoded data removed]",
            "text/plain": [
              "<Figure size 432x288 with 1 Axes>"
            ]
          },
          "metadata": {
            "tags": []
          }
        },
        {
          "output_type": "stream",
          "text": [
            "1003\n",
            "Original size (28, 28, 3)\n",
            "RESIZED (32, 32, 3)\n"
          ],
          "name": "stdout"
        },
        {
          "output_type": "display_data",
          "data": {
            "image/png": "[encoded data removed]",
            "text/plain": [
              "<Figure size 432x288 with 1 Axes>"
            ]
          },
          "metadata": {
            "tags": []
          }
        },
        {
          "output_type": "stream",
          "text": [
            "2005\n",
            "Original size (28, 28, 3)\n",
            "RESIZED (32, 32, 3)\n"
          ],
          "name": "stdout"
        },
        {
          "output_type": "display_data",
          "data": {
            "image/png": "[encoded data removed]",
            "text/plain": [
              "<Figure size 432x288 with 1 Axes>"
            ]
          },
          "metadata": {
            "tags": []
          }
        }
      ]
    },
    {
      "cell_type": "code",
      "metadata": {
        "colab": {
          "base_uri": "https://localhost:8080/"
        },
        "id": "vLtFUTBCRF3o",
        "outputId": "4ae93f22-627e-4898-ce28-e3a3ae46fc5b"
      },
      "source": [
        "data['val_images'][6].shape"
      ],
      "execution_count": 256,
      "outputs": [
        {
          "output_type": "execute_result",
          "data": {
            "text/plain": [
              "(32, 32, 3)"
            ]
          },
          "metadata": {
            "tags": []
          },
          "execution_count": 256
        }
      ]
    },
    {
      "cell_type": "code",
      "metadata": {
        "id": "jssWRiLYXtJF"
      },
      "source": [
        "from keras.preprocessing.image import ImageDataGenerator"
      ],
      "execution_count": 218,
      "outputs": []
    },
    {
      "cell_type": "code",
      "metadata": {
        "id": "Y8ckzcFBXyna"
      },
      "source": [
        "datagen = ImageDataGenerator(\n",
        "    rotation_range=30,\n",
        "    width_shift_range=10,\n",
        "    height_shift_range=10,\n",
        "    brightness_range=(0.3, 1.8),\n",
        "    shear_range=5,\n",
        "    zoom_range=0.2,\n",
        "    fill_mode = 'wrap',\n",
        "    horizontal_flip = True,\n",
        "    validation_split=0.2,\n",
        ")"
      ],
      "execution_count": 219,
      "outputs": []
    },
    {
      "cell_type": "code",
      "metadata": {
        "colab": {
          "base_uri": "https://localhost:8080/",
          "height": 266
        },
        "id": "fRX5VzCbXzbt",
        "outputId": "c3a04280-f8b2-46c3-ad3a-6a1477ace4cc"
      },
      "source": [
        "image = data['val_images'][0].reshape((-1,) + data['val_images'][0].shape)\n",
        "train_gen = datagen.flow(image, [0], batch_size=1, shuffle=False)\n",
        "X, y = train_gen.next()\n",
        "plt.imshow(X[0].astype(np.uint8))\n",
        "\n",
        "train_imgs, train_labels = [], []\n",
        "for image, label in zip(data['train_images'], data['train_labels']):\n",
        "  image = image.reshape((-1,) + image.shape)\n",
        "  rain_gen = datagen.flow(image, [0], batch_size=1, shuffle=False)\n",
        "  X, y = train_gen.next()\n",
        "  train_imgs.append(X[0].astype(np.uint8))\n",
        "  train_labels.append(label)"
      ],
      "execution_count": 220,
      "outputs": [
        {
          "output_type": "display_data",
          "data": {
            "image/png": "[encoded data removed]",
            "text/plain": [
              "<Figure size 432x288 with 1 Axes>"
            ]
          },
          "metadata": {
            "tags": [],
            "needs_background": "light"
          }
        }
      ]
    },
    {
      "cell_type": "code",
      "metadata": {
        "id": "Aa8P25g4fXi_"
      },
      "source": [
        "data['train_images'] = np.concatenate([np.array(train_imgs), data['train_images']])\n",
        "data['train_labels'] = np.concatenate([np.array(train_labels), data['train_labels']])"
      ],
      "execution_count": 221,
      "outputs": []
    },
    {
      "cell_type": "code",
      "metadata": {
        "colab": {
          "base_uri": "https://localhost:8080/"
        },
        "id": "hIotJxpufh1h",
        "outputId": "a8727de8-09da-4318-fa4a-3d7ce81cefb3"
      },
      "source": [
        "data['train_images'].shape"
      ],
      "execution_count": 222,
      "outputs": [
        {
          "output_type": "execute_result",
          "data": {
            "text/plain": [
              "(14014, 32, 32, 3)"
            ]
          },
          "metadata": {
            "tags": []
          },
          "execution_count": 222
        }
      ]
    },
    {
      "cell_type": "code",
      "metadata": {
        "colab": {
          "base_uri": "https://localhost:8080/",
          "height": 284
        },
        "id": "g8gA6qlReMj_",
        "outputId": "d0f29f55-a88d-4fdb-82e9-69815ebdfe94"
      },
      "source": [
        "plt.imshow(train_imgs[1])"
      ],
      "execution_count": 223,
      "outputs": [
        {
          "output_type": "execute_result",
          "data": {
            "text/plain": [
              "<matplotlib.image.AxesImage at 0x7f03d0334b50>"
            ]
          },
          "metadata": {
            "tags": []
          },
          "execution_count": 223
        },
        {
          "output_type": "display_data",
          "data": {
            "image/png": "[encoded data removed]",
            "text/plain": [
              "<Figure size 432x288 with 1 Axes>"
            ]
          },
          "metadata": {
            "tags": [],
            "needs_background": "light"
          }
        }
      ]
    },
    {
      "cell_type": "code",
      "metadata": {
        "colab": {
          "base_uri": "https://localhost:8080/"
        },
        "id": "tvHE0ei8dA8u",
        "outputId": "55b3f48a-a4a6-4d59-a5b2-6626dc3477f8"
      },
      "source": [
        "X[0].astype(np.uint8).shape"
      ],
      "execution_count": 224,
      "outputs": [
        {
          "output_type": "execute_result",
          "data": {
            "text/plain": [
              "(32, 32, 3)"
            ]
          },
          "metadata": {
            "tags": []
          },
          "execution_count": 224
        }
      ]
    },
    {
      "cell_type": "code",
      "metadata": {
        "colab": {
          "base_uri": "https://localhost:8080/",
          "height": 284
        },
        "id": "eW4HGx_aZ6VM",
        "outputId": "8ba1f7e4-61ec-4ad7-9853-cd1b0924c65d"
      },
      "source": [
        "plt.imshow(data['train_images'][1].astype(np.uint8))"
      ],
      "execution_count": 225,
      "outputs": [
        {
          "output_type": "execute_result",
          "data": {
            "text/plain": [
              "<matplotlib.image.AxesImage at 0x7f0324dd1a50>"
            ]
          },
          "metadata": {
            "tags": []
          },
          "execution_count": 225
        },
        {
          "output_type": "display_data",
          "data": {
            "image/png": "[encoded data removed]",
            "text/plain": [
              "<Figure size 432x288 with 1 Axes>"
            ]
          },
          "metadata": {
            "tags": [],
            "needs_background": "light"
          }
        }
      ]
    },
    {
      "cell_type": "markdown",
      "metadata": {
        "id": "20jTd0rQrUe1"
      },
      "source": [
        "# Concat train, val and test, then shuffle and split"
      ]
    },
    {
      "cell_type": "code",
      "metadata": {
        "id": "qCwsOLFyrTb2"
      },
      "source": [
        "combined_images = np.concatenate([data['train_images'], data['val_images'], data['test_images']])\n",
        "combined_labels = np.concatenate([data['train_labels'], data['val_labels'], data['test_labels']])"
      ],
      "execution_count": 257,
      "outputs": []
    },
    {
      "cell_type": "code",
      "metadata": {
        "colab": {
          "base_uri": "https://localhost:8080/"
        },
        "id": "8NEVcFV8rgaV",
        "outputId": "eba44050-feb9-49b3-f274-9b5316bd788f"
      },
      "source": [
        "combined_images.shape"
      ],
      "execution_count": 258,
      "outputs": [
        {
          "output_type": "execute_result",
          "data": {
            "text/plain": [
              "(10015, 32, 32, 3)"
            ]
          },
          "metadata": {
            "tags": []
          },
          "execution_count": 258
        }
      ]
    },
    {
      "cell_type": "code",
      "metadata": {
        "id": "Qy3sseemrg6K"
      },
      "source": [
        "c = np.c_[combined_images.reshape(len(combined_images), -1), combined_labels.reshape(len(combined_labels), -1)]"
      ],
      "execution_count": 259,
      "outputs": []
    },
    {
      "cell_type": "code",
      "metadata": {
        "id": "uvq2u0EQrl8u"
      },
      "source": [
        "np.random.shuffle(c)"
      ],
      "execution_count": 260,
      "outputs": []
    },
    {
      "cell_type": "code",
      "metadata": {
        "id": "8yMjWKSVrpR4"
      },
      "source": [
        "shuffled_images = c[:, :combined_images.size//len(combined_images)].reshape(combined_images.shape)\n",
        "shuffled_labels = c[:, combined_images.size//len(combined_images):].reshape(combined_labels.shape)"
      ],
      "execution_count": 261,
      "outputs": []
    },
    {
      "cell_type": "code",
      "metadata": {
        "colab": {
          "base_uri": "https://localhost:8080/"
        },
        "id": "c2ZH0EXlruVf",
        "outputId": "a4952ed7-97cc-4f7f-d2ef-eb38bd4c8387"
      },
      "source": [
        "shuffled_images.shape"
      ],
      "execution_count": 262,
      "outputs": [
        {
          "output_type": "execute_result",
          "data": {
            "text/plain": [
              "(10015, 32, 32, 3)"
            ]
          },
          "metadata": {
            "tags": []
          },
          "execution_count": 262
        }
      ]
    },
    {
      "cell_type": "code",
      "metadata": {
        "colab": {
          "base_uri": "https://localhost:8080/",
          "height": 284
        },
        "id": "xdbC68G1sII_",
        "outputId": "afed8000-7cea-43a1-8e3a-957b3db99df8"
      },
      "source": [
        "plt.imshow(shuffled_images[0])\n",
        "print(shuffled_labels[0])"
      ],
      "execution_count": 263,
      "outputs": [
        {
          "output_type": "stream",
          "text": [
            "[4]\n"
          ],
          "name": "stdout"
        },
        {
          "output_type": "display_data",
          "data": {
            "image/png": "[encoded data removed]",
            "text/plain": [
              "<Figure size 432x288 with 1 Axes>"
            ]
          },
          "metadata": {
            "tags": [],
            "needs_background": "light"
          }
        }
      ]
    },
    {
      "cell_type": "code",
      "metadata": {
        "id": "CcnZm0os1VsX"
      },
      "source": [
        "# split train, val and test\n",
        "[data['train_images'], data['val_images'], data['test_images']] = np.split(shuffled_images, [int(.6 * len(shuffled_images)), int(.8 * len(shuffled_images))])\n",
        "[data['train_labels'], data['val_labels'], data['test_labels']] = np.split(shuffled_labels, [int(.6 * len(shuffled_labels)), int(.8 * len(shuffled_labels))])"
      ],
      "execution_count": 264,
      "outputs": []
    },
    {
      "cell_type": "code",
      "metadata": {
        "id": "d-CP344Hq_Qs"
      },
      "source": [
        "for tag in list(data.keys())[:3]:\n",
        "  # convert from integers to floats\n",
        "  data[tag] = data[tag].astype('float32')\n",
        "  # normalize to range 0-1\n",
        "  data[tag] /= 255\n",
        "\n",
        "# one hot y values\n",
        "for tag in list(data.keys())[3:]:\n",
        "  data[tag] = to_categorical(data[tag])"
      ],
      "execution_count": 265,
      "outputs": []
    },
    {
      "cell_type": "code",
      "metadata": {
        "colab": {
          "base_uri": "https://localhost:8080/"
        },
        "id": "hFRRejkIwBdU",
        "outputId": "c1589f22-0fa5-47a1-c184-a89bc357c0ed"
      },
      "source": [
        "data['test_images'].shape"
      ],
      "execution_count": 266,
      "outputs": [
        {
          "output_type": "execute_result",
          "data": {
            "text/plain": [
              "(2003, 32, 32, 3)"
            ]
          },
          "metadata": {
            "tags": []
          },
          "execution_count": 266
        }
      ]
    },
    {
      "cell_type": "markdown",
      "metadata": {
        "id": "jbRz5ZgQZma8"
      },
      "source": [
        "# VGG Model"
      ]
    },
    {
      "cell_type": "code",
      "metadata": {
        "id": "xGLU6TYhZqIT"
      },
      "source": [
        "import tensorflow as tf\n",
        "from tensorflow.keras import Sequential\n",
        "from tensorflow.keras.regularizers import l1, l2\n",
        "from tensorflow.keras.layers import Conv2D, MaxPool2D, Flatten, Dense, Dropout\n",
        "from tensorflow.keras.utils import to_categorical\n",
        "from tensorflow.keras.optimizers import *\n",
        "from tensorflow.keras.losses import *\n",
        "from tensorflow.keras.layers import *\n",
        "from tensorflow.keras.activations import *"
      ],
      "execution_count": 267,
      "outputs": []
    },
    {
      "cell_type": "code",
      "metadata": {
        "colab": {
          "base_uri": "https://localhost:8080/"
        },
        "id": "GYuDQ47lYvVq",
        "outputId": "369a3bb7-dac7-4921-fd56-f29091378198"
      },
      "source": [
        "model = Sequential()\n",
        "\n",
        "model.add(Conv2D(128, (3, 3), activation='relu', padding='same', input_shape=data['train_images'][0].shape, kernel_regularizer=l2(0.0001), kernel_initializer='he_uniform'))\n",
        "model.add(Conv2D(128, (3, 3), activation='relu', padding='same', kernel_regularizer=l2(0.0001), kernel_initializer='he_uniform'))\n",
        "model.add(MaxPool2D((4, 4), strides=(2, 2)))\n",
        "model.add(Dropout(0.05))\n",
        "\n",
        "model.add(Conv2D(256, (3, 3), activation='relu', padding='same', kernel_regularizer=l2(0.001), kernel_initializer='he_uniform'))\n",
        "model.add(Conv2D(256, (3, 3), activation='relu', padding='same', kernel_regularizer=l2(0.001), kernel_initializer='he_uniform'))\n",
        "model.add(MaxPool2D((4, 4), strides=(2, 2)))\n",
        "model.add(Dropout(0.1))\n",
        "\n",
        "model.add(Conv2D(512, (3, 3), activation='relu', padding='same', kernel_regularizer=l2(0.0001), kernel_initializer='he_uniform'))\n",
        "model.add(Conv2D(512, (3, 3), activation='relu', padding='same', kernel_regularizer=l2(0.001), kernel_initializer='he_uniform'))\n",
        "model.add(MaxPool2D((4, 4), strides=(2, 2)))\n",
        "model.add(Dropout(0.05))\n",
        "\n",
        "model.add(Flatten())\n",
        "\n",
        "model.add(Dense(128, activation='relu', kernel_regularizer=l2(0.0001), kernel_initializer='he_uniform'))\n",
        "model.add(Dropout(0.05))\n",
        "model.add(Dense(7, activation='softmax'))\n",
        "\n",
        "model.summary()"
      ],
      "execution_count": 268,
      "outputs": [
        {
          "output_type": "stream",
          "text": [
            "Model: \"sequential_1\"\n",
            "_________________________________________________________________\n",
            "Layer (type)                 Output Shape              Param #   \n",
            "=================================================================\n",
            "conv2d_6 (Conv2D)            (None, 32, 32, 128)       3584      \n",
            "_________________________________________________________________\n",
            "conv2d_7 (Conv2D)            (None, 32, 32, 128)       147584    \n",
            "_________________________________________________________________\n",
            "max_pooling2d_3 (MaxPooling2 (None, 15, 15, 128)       0         \n",
            "_________________________________________________________________\n",
            "dropout_4 (Dropout)          (None, 15, 15, 128)       0         \n",
            "_________________________________________________________________\n",
            "conv2d_8 (Conv2D)            (None, 15, 15, 256)       295168    \n",
            "_________________________________________________________________\n",
            "conv2d_9 (Conv2D)            (None, 15, 15, 256)       590080    \n",
            "_________________________________________________________________\n",
            "max_pooling2d_4 (MaxPooling2 (None, 6, 6, 256)         0         \n",
            "_________________________________________________________________\n",
            "dropout_5 (Dropout)          (None, 6, 6, 256)         0         \n",
            "_________________________________________________________________\n",
            "conv2d_10 (Conv2D)           (None, 6, 6, 512)         1180160   \n",
            "_________________________________________________________________\n",
            "conv2d_11 (Conv2D)           (None, 6, 6, 512)         2359808   \n",
            "_________________________________________________________________\n",
            "max_pooling2d_5 (MaxPooling2 (None, 2, 2, 512)         0         \n",
            "_________________________________________________________________\n",
            "dropout_6 (Dropout)          (None, 2, 2, 512)         0         \n",
            "_________________________________________________________________\n",
            "flatten_1 (Flatten)          (None, 2048)              0         \n",
            "_________________________________________________________________\n",
            "dense_2 (Dense)              (None, 128)               262272    \n",
            "_________________________________________________________________\n",
            "dropout_7 (Dropout)          (None, 128)               0         \n",
            "_________________________________________________________________\n",
            "dense_3 (Dense)              (None, 7)                 903       \n",
            "=================================================================\n",
            "Total params: 4,839,559\n",
            "Trainable params: 4,839,559\n",
            "Non-trainable params: 0\n",
            "_________________________________________________________________\n"
          ],
          "name": "stdout"
        }
      ]
    },
    {
      "cell_type": "code",
      "metadata": {
        "id": "jqe598n-Z7mW"
      },
      "source": [
        "model.compile(optimizer=Adam(learning_rate=0.0001), loss='categorical_crossentropy', metrics=[tf.keras.metrics.Precision()])"
      ],
      "execution_count": 283,
      "outputs": []
    },
    {
      "cell_type": "code",
      "metadata": {
        "colab": {
          "base_uri": "https://localhost:8080/"
        },
        "id": "3h_7GPM1aGu5",
        "outputId": "9727342c-5f08-49d2-d145-eb2090d00a74"
      },
      "source": [
        "history = model.fit(data['train_images'], data['train_labels'], batch_size=32, epochs=30, validation_data=(data['val_images'], data['val_labels']))"
      ],
      "execution_count": 284,
      "outputs": [
        {
          "output_type": "stream",
          "text": [
            "Epoch 1/30\n",
            "188/188 [==============================] - 11s 53ms/step - loss: 0.3805 - precision: 0.9827 - val_loss: 1.5452 - val_precision: 0.7540\n",
            "Epoch 2/30\n",
            "188/188 [==============================] - 10s 51ms/step - loss: 0.3961 - precision: 0.9776 - val_loss: 1.4445 - val_precision: 0.7639\n",
            "Epoch 3/30\n",
            "188/188 [==============================] - 10s 51ms/step - loss: 0.3811 - precision: 0.9816 - val_loss: 1.5147 - val_precision: 0.7569\n",
            "Epoch 4/30\n",
            "188/188 [==============================] - 9s 50ms/step - loss: 0.3729 - precision: 0.9840 - val_loss: 1.5811 - val_precision: 0.7547\n",
            "Epoch 5/30\n",
            "188/188 [==============================] - 10s 51ms/step - loss: 0.3570 - precision: 0.9873 - val_loss: 1.6716 - val_precision: 0.7385\n",
            "Epoch 6/30\n",
            "188/188 [==============================] - 9s 50ms/step - loss: 0.3737 - precision: 0.9796 - val_loss: 1.5839 - val_precision: 0.7381\n",
            "Epoch 7/30\n",
            "188/188 [==============================] - 9s 50ms/step - loss: 0.3797 - precision: 0.9784 - val_loss: 1.4728 - val_precision: 0.7585\n",
            "Epoch 8/30\n",
            "188/188 [==============================] - 9s 50ms/step - loss: 0.3536 - precision: 0.9885 - val_loss: 1.5246 - val_precision: 0.7569\n",
            "Epoch 9/30\n",
            "188/188 [==============================] - 9s 50ms/step - loss: 0.3589 - precision: 0.9833 - val_loss: 1.6060 - val_precision: 0.7574\n",
            "Epoch 10/30\n",
            "188/188 [==============================] - 9s 50ms/step - loss: 0.3672 - precision: 0.9786 - val_loss: 1.4817 - val_precision: 0.7659\n",
            "Epoch 11/30\n",
            "188/188 [==============================] - 9s 51ms/step - loss: 0.3497 - precision: 0.9857 - val_loss: 1.5561 - val_precision: 0.7613\n",
            "Epoch 12/30\n",
            "188/188 [==============================] - 9s 51ms/step - loss: 0.3370 - precision: 0.9902 - val_loss: 1.5596 - val_precision: 0.7510\n",
            "Epoch 13/30\n",
            "188/188 [==============================] - 9s 50ms/step - loss: 0.3232 - precision: 0.9917 - val_loss: 1.5317 - val_precision: 0.7623\n",
            "Epoch 14/30\n",
            "188/188 [==============================] - 9s 50ms/step - loss: 0.3308 - precision: 0.9882 - val_loss: 1.6071 - val_precision: 0.7506\n",
            "Epoch 15/30\n",
            "188/188 [==============================] - 10s 51ms/step - loss: 0.3262 - precision: 0.9883 - val_loss: 1.6272 - val_precision: 0.7489\n",
            "Epoch 16/30\n",
            "188/188 [==============================] - 9s 51ms/step - loss: 0.3311 - precision: 0.9862 - val_loss: 1.8207 - val_precision: 0.7430\n",
            "Epoch 17/30\n",
            "188/188 [==============================] - 9s 51ms/step - loss: 0.3473 - precision: 0.9815 - val_loss: 1.5243 - val_precision: 0.7635\n",
            "Epoch 18/30\n",
            "188/188 [==============================] - 10s 51ms/step - loss: 0.3462 - precision: 0.9801 - val_loss: 1.4941 - val_precision: 0.7471\n",
            "Epoch 19/30\n",
            "188/188 [==============================] - 9s 50ms/step - loss: 0.3072 - precision: 0.9922 - val_loss: 1.5969 - val_precision: 0.7669\n",
            "Epoch 20/30\n",
            "188/188 [==============================] - 9s 50ms/step - loss: 0.3210 - precision: 0.9875 - val_loss: 1.6216 - val_precision: 0.7632\n",
            "Epoch 21/30\n",
            "188/188 [==============================] - 9s 50ms/step - loss: 0.3421 - precision: 0.9791 - val_loss: 1.5238 - val_precision: 0.7587\n",
            "Epoch 22/30\n",
            "188/188 [==============================] - 9s 51ms/step - loss: 0.3193 - precision: 0.9865 - val_loss: 1.5712 - val_precision: 0.7551\n",
            "Epoch 23/30\n",
            "188/188 [==============================] - 9s 51ms/step - loss: 0.2985 - precision: 0.9935 - val_loss: 1.6047 - val_precision: 0.7699\n",
            "Epoch 24/30\n",
            "188/188 [==============================] - 9s 50ms/step - loss: 0.3127 - precision: 0.9875 - val_loss: 1.7083 - val_precision: 0.7679\n",
            "Epoch 25/30\n",
            "188/188 [==============================] - 9s 50ms/step - loss: 0.3459 - precision: 0.9761 - val_loss: 1.4412 - val_precision: 0.7590\n",
            "Epoch 26/30\n",
            "188/188 [==============================] - 9s 50ms/step - loss: 0.2968 - precision: 0.9918 - val_loss: 1.5449 - val_precision: 0.7769\n",
            "Epoch 27/30\n",
            "188/188 [==============================] - 9s 50ms/step - loss: 0.2895 - precision: 0.9923 - val_loss: 1.5954 - val_precision: 0.7568\n",
            "Epoch 28/30\n",
            "188/188 [==============================] - 10s 51ms/step - loss: 0.3102 - precision: 0.9863 - val_loss: 1.5932 - val_precision: 0.7306\n",
            "Epoch 29/30\n",
            "188/188 [==============================] - 9s 50ms/step - loss: 0.2821 - precision: 0.9928 - val_loss: 1.5648 - val_precision: 0.7635\n",
            "Epoch 30/30\n",
            "188/188 [==============================] - 9s 50ms/step - loss: 0.3055 - precision: 0.9848 - val_loss: 1.5974 - val_precision: 0.7628\n"
          ],
          "name": "stdout"
        }
      ]
    },
    {
      "cell_type": "code",
      "metadata": {
        "colab": {
          "base_uri": "https://localhost:8080/",
          "height": 282
        },
        "id": "ywns2S9GaKEF",
        "outputId": "c3a790a0-1302-480e-de17-282f071899f8"
      },
      "source": [
        "plt.plot(history.history['loss'], 'b-o')\n",
        "plt.plot(history.history['val_loss'], 'r--o')"
      ],
      "execution_count": 285,
      "outputs": [
        {
          "output_type": "execute_result",
          "data": {
            "text/plain": [
              "[<matplotlib.lines.Line2D at 0x7f03d042f7d0>]"
            ]
          },
          "metadata": {
            "tags": []
          },
          "execution_count": 285
        },
        {
          "output_type": "display_data",
          "data": {
            "image/png": "[encoded data removed]",
            "text/plain": [
              "<Figure size 432x288 with 1 Axes>"
            ]
          },
          "metadata": {
            "tags": [],
            "needs_background": "light"
          }
        }
      ]
    },
    {
      "cell_type": "code",
      "metadata": {
        "colab": {
          "base_uri": "https://localhost:8080/",
          "height": 282
        },
        "id": "NAmAGsJefxNt",
        "outputId": "4bfe01e2-b136-4a08-b949-9800a158b95b"
      },
      "source": [
        "plt.plot(history.history['precision'], 'b-o')\n",
        "plt.plot(history.history['val_precision'], 'r--o')"
      ],
      "execution_count": 287,
      "outputs": [
        {
          "output_type": "execute_result",
          "data": {
            "text/plain": [
              "[<matplotlib.lines.Line2D at 0x7f03dc1b3d10>]"
            ]
          },
          "metadata": {
            "tags": []
          },
          "execution_count": 287
        },
        {
          "output_type": "display_data",
          "data": {
            "image/png": "[encoded data removed]",
            "text/plain": [
              "<Figure size 432x288 with 1 Axes>"
            ]
          },
          "metadata": {
            "tags": [],
            "needs_background": "light"
          }
        }
      ]
    },
    {
      "cell_type": "code",
      "metadata": {
        "colab": {
          "base_uri": "https://localhost:8080/"
        },
        "id": "PaVltZrkaP5q",
        "outputId": "5d975bea-cfb0-4ff5-af37-d41bc47dfdad"
      },
      "source": [
        "model.evaluate(data['test_images'], data['test_labels'])"
      ],
      "execution_count": 288,
      "outputs": [
        {
          "output_type": "stream",
          "text": [
            "63/63 [==============================] - 1s 17ms/step - loss: 1.6705 - precision: 0.7520\n"
          ],
          "name": "stdout"
        },
        {
          "output_type": "execute_result",
          "data": {
            "text/plain": [
              "[1.6704858541488647, 0.7520284056663513]"
            ]
          },
          "metadata": {
            "tags": []
          },
          "execution_count": 288
        }
      ]
    },
    {
      "cell_type": "code",
      "metadata": {
        "id": "yZqem9cEVjbZ",
        "colab": {
          "base_uri": "https://localhost:8080/",
          "height": 569
        },
        "outputId": "541e55f2-c275-4c7d-af33-4551351b8b00"
      },
      "source": [
        "from sklearn.metrics import confusion_matrix\n",
        "from sklearn.metrics import plot_confusion_matrix\n",
        "import pandas as pd\n",
        "import seaborn as sn\n",
        "\n",
        "\n",
        "pred_test_values = np.argmax(model.predict(data['test_images']), axis=1)\n",
        "y_test_arg = np.argmax(data['test_labels'], axis=1)\n",
        "\n",
        "cm = confusion_matrix(pred_test_values, y_test_arg)\n",
        "print(cm)\n",
        "\n",
        "target_labels = '1234567'\n",
        "df_cm = pd.DataFrame(cm, index = [i for i in target_labels],\n",
        "                  columns = [i for i in target_labels])\n",
        "plt.figure(figsize = (10,7))\n",
        "sn.heatmap(df_cm, annot=True, fmt='g')"
      ],
      "execution_count": 294,
      "outputs": [
        {
          "output_type": "stream",
          "text": [
            "[[  13    2    4    1    2    2    0]\n",
            " [  16   38   17    3    6    2    2]\n",
            " [  24   15   95    3   31   47    0]\n",
            " [   1    2    1    6    1    0    0]\n",
            " [   6    6   11    0   76   45    0]\n",
            " [  11   25   90   11  107 1253    6]\n",
            " [   0    3    0    1    0    4   14]]\n"
          ],
          "name": "stdout"
        },
        {
          "output_type": "execute_result",
          "data": {
            "text/plain": [
              "<matplotlib.axes._subplots.AxesSubplot at 0x7f0320415c90>"
            ]
          },
          "metadata": {
            "tags": []
          },
          "execution_count": 294
        },
        {
          "output_type": "display_data",
          "data": {
            "image/png": "[encoded data removed]",
            "text/plain": [
              "<Figure size 720x504 with 2 Axes>"
            ]
          },
          "metadata": {
            "tags": [],
            "needs_background": "light"
          }
        }
      ]
    },
    {
      "cell_type": "code",
      "metadata": {
        "colab": {
          "base_uri": "https://localhost:8080/"
        },
        "id": "gEOaKVkqrBZK",
        "outputId": "9a7afc25-4862-4476-c214-7bcfbac12537"
      },
      "source": [
        "from sklearn.metrics import classification_report\n",
        "from sklearn.metrics import accuracy_score\n",
        "\n",
        "print(classification_report(y_test_arg, pred_test_values, target_names=target_labels, digits=4))"
      ],
      "execution_count": 295,
      "outputs": [
        {
          "output_type": "stream",
          "text": [
            "              precision    recall  f1-score   support\n",
            "\n",
            "           1     0.5417    0.1831    0.2737        71\n",
            "           2     0.4524    0.4176    0.4343        91\n",
            "           3     0.4419    0.4358    0.4388       218\n",
            "           4     0.5455    0.2400    0.3333        25\n",
            "           5     0.5278    0.3408    0.4142       223\n",
            "           6     0.8337    0.9261    0.8775      1353\n",
            "           7     0.6364    0.6364    0.6364        22\n",
            "\n",
            "    accuracy                         0.7464      2003\n",
            "   macro avg     0.5685    0.4542    0.4869      2003\n",
            "weighted avg     0.7235    0.7464    0.7272      2003\n",
            "\n"
          ],
          "name": "stdout"
        }
      ]
    },
    {
      "cell_type": "code",
      "metadata": {
        "id": "MGt33VR39O3H"
      },
      "source": [
        ""
      ],
      "execution_count": null,
      "outputs": []
    }
  ]
}