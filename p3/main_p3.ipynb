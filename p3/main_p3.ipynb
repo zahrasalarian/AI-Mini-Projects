{
  "nbformat": 4,
  "nbformat_minor": 0,
  "metadata": {
    "accelerator": "GPU",
    "colab": {
      "name": "main_p3.ipynb",
      "provenance": [],
      "collapsed_sections": []
    },
    "kernelspec": {
      "display_name": "Python 3",
      "name": "python3"
    },
    "language_info": {
      "name": "python"
    }
  },
  "cells": [
    {
      "cell_type": "markdown",
      "metadata": {
        "id": "BMxk4i8hrTU6"
      },
      "source": [
        "# Load data"
      ]
    },
    {
      "cell_type": "code",
      "metadata": {
        "colab": {
          "base_uri": "https://localhost:8080/"
        },
        "id": "E5fNVEUun2ZF",
        "outputId": "5cf9bba8-07a8-4461-9aa3-4b232ca6fdb1"
      },
      "source": [
        "!wget -O Data.npz https://zenodo.org/record/4269852/files/dermamnist.npz?download=1"
      ],
      "execution_count": 1,
      "outputs": [
        {
          "output_type": "stream",
          "text": [
            "--2021-08-16 10:03:35--  https://zenodo.org/record/4269852/files/dermamnist.npz?download=1\n",
            "Resolving zenodo.org (zenodo.org)... 137.138.76.77\n",
            "Connecting to zenodo.org (zenodo.org)|137.138.76.77|:443... connected.\n",
            "HTTP request sent, awaiting response... 200 OK\n",
            "Length: 19725078 (19M) [application/octet-stream]\n",
            "Saving to: ‘Data.npz’\n",
            "\n",
            "Data.npz            100%[===================>]  18.81M  4.24MB/s    in 4.4s    \n",
            "\n",
            "2021-08-16 10:03:42 (4.24 MB/s) - ‘Data.npz’ saved [19725078/19725078]\n",
            "\n"
          ],
          "name": "stdout"
        }
      ]
    },
    {
      "cell_type": "code",
      "metadata": {
        "id": "x7ZUY6vVtbWX"
      },
      "source": [
        "import matplotlib.pyplot as plt   \n",
        "import numpy as np\n",
        "import matplotlib.image as mpimg\n",
        "import cv2\n",
        "from tensorflow.keras.utils import to_categorical\n",
        "import operator"
      ],
      "execution_count": 329,
      "outputs": []
    },
    {
      "cell_type": "code",
      "metadata": {
        "colab": {
          "base_uri": "https://localhost:8080/"
        },
        "id": "9ithl4SfqlN5",
        "outputId": "fc63ba9c-76a4-412e-998c-54714d38517b"
      },
      "source": [
        "d = np.load('Data.npz')\n",
        "print(d.files)"
      ],
      "execution_count": 330,
      "outputs": [
        {
          "output_type": "stream",
          "text": [
            "['train_images', 'val_images', 'test_images', 'train_labels', 'val_labels', 'test_labels']\n"
          ],
          "name": "stdout"
        }
      ]
    },
    {
      "cell_type": "code",
      "metadata": {
        "colab": {
          "base_uri": "https://localhost:8080/"
        },
        "id": "KEZ6ktGDq4O_",
        "outputId": "250259cf-1b0b-4a3e-d470-b53453d69097"
      },
      "source": [
        "print(d['train_labels'].shape)"
      ],
      "execution_count": 331,
      "outputs": [
        {
          "output_type": "stream",
          "text": [
            "(7007, 1)\n"
          ],
          "name": "stdout"
        }
      ]
    },
    {
      "cell_type": "code",
      "metadata": {
        "colab": {
          "base_uri": "https://localhost:8080/",
          "height": 304
        },
        "id": "KWzqjD2xtCYT",
        "outputId": "05d4005e-0f53-45f5-b2e3-3f929cc1b576"
      },
      "source": [
        "print('Train: X=%s, y=%s' % (d['train_images'].shape, d['train_labels'].shape))\n",
        "print('Test: X=%s, y=%s' % (d['test_images'].shape, d['test_labels'].shape))\n",
        "# plot some images\n",
        "for i in range(4):\n",
        "\tplt.subplot(220 + 1 + i)\n",
        "\tplt.imshow(d['train_images'][i])\n",
        "plt.show()"
      ],
      "execution_count": 332,
      "outputs": [
        {
          "output_type": "stream",
          "text": [
            "Train: X=(7007, 28, 28, 3), y=(7007, 1)\n",
            "Test: X=(2005, 28, 28, 3), y=(2005, 1)\n"
          ],
          "name": "stdout"
        },
        {
          "output_type": "display_data",
          "data": {
            "image/png": "[encoded data removed]",
            "text/plain": [
              "<Figure size 432x288 with 4 Axes>"
            ]
          },
          "metadata": {
            "tags": [],
            "needs_background": "light"
          }
        }
      ]
    },
    {
      "cell_type": "code",
      "metadata": {
        "id": "jcb-zZcNwtr4"
      },
      "source": [
        "data = {key: d[key] for key in d.files}"
      ],
      "execution_count": 333,
      "outputs": []
    },
    {
      "cell_type": "code",
      "metadata": {
        "colab": {
          "base_uri": "https://localhost:8080/"
        },
        "id": "9Zuq-fcUK283",
        "outputId": "12da3b55-c7a1-42d4-803c-3860a27672a7"
      },
      "source": [
        "data['train_images'][0].shape"
      ],
      "execution_count": 334,
      "outputs": [
        {
          "output_type": "execute_result",
          "data": {
            "text/plain": [
              "(28, 28, 3)"
            ]
          },
          "metadata": {
            "tags": []
          },
          "execution_count": 334
        }
      ]
    },
    {
      "cell_type": "markdown",
      "metadata": {
        "id": "1_ioEopHrbiN"
      },
      "source": [
        "# Preprocessing"
      ]
    },
    {
      "cell_type": "code",
      "metadata": {
        "id": "w3Lex-JBPXiJ"
      },
      "source": [
        "# Display one image\n",
        "def display_one(a, title1 = \"Original\"):\n",
        "    plt.imshow(a), plt.title(title1)\n",
        "    plt.xticks([]), plt.yticks([])\n",
        "    plt.show()\n",
        "\n",
        "# Display two images\n",
        "def display(a, b, title1 = \"Original\", title2 = \"Edited\"):\n",
        "    plt.subplot(121), plt.imshow(a), plt.title(title1)\n",
        "    plt.xticks([]), plt.yticks([])\n",
        "    plt.subplot(122), plt.imshow(b), plt.title(title2)\n",
        "    plt.xticks([]), plt.yticks([])\n",
        "    plt.show()"
      ],
      "execution_count": 335,
      "outputs": []
    },
    {
      "cell_type": "markdown",
      "metadata": {
        "id": "pms-SVftPnA5"
      },
      "source": [
        "## Resize Images\n",
        "## Remove noise(Denoise)\n"
      ]
    },
    {
      "cell_type": "code",
      "metadata": {
        "id": "DPBIiSorLTsP"
      },
      "source": [
        "# resize images\n",
        "def resize_image(data):\n",
        "    img = data\n",
        "    print(len(img))\n",
        "    print('Original size',img[0].shape)\n",
        "    # setting dim of the resize\n",
        "    height = 32\n",
        "    width = 32\n",
        "    dim = (width, height)\n",
        "    res_img = []\n",
        "    for i in range(len(img)):\n",
        "        res = cv2.resize(img[i], dim, interpolation=cv2.INTER_LINEAR)\n",
        "        res_img.append(res)\n",
        "\n",
        "    # Checcking the size\n",
        "    print(\"RESIZED\", res_img[0].shape)\n",
        "    \n",
        "    # Visualizing one of the images in the array\n",
        "    original = res_img[0]\n",
        "    display_one(original)\n",
        "\n",
        "    # Remove noise\n",
        "    # Gaussian\n",
        "    #no_noise = []\n",
        "    #for i in range(len(res_img)):\n",
        "    #  blur = cv2.GaussianBlur(res_img[i], (5, 5), 0)\n",
        "    #  no_noise.append(blur)\n",
        "\n",
        "    #image = no_noise[0]\n",
        "    #display(original, image, 'Original', 'Blured')\n",
        "\n",
        "    return np.array(res_img)"
      ],
      "execution_count": 336,
      "outputs": []
    },
    {
      "cell_type": "code",
      "metadata": {
        "colab": {
          "base_uri": "https://localhost:8080/",
          "height": 930
        },
        "id": "6Zuj6Ku4LoZE",
        "outputId": "f6ee3619-cdc3-49ef-a415-9248bb577195"
      },
      "source": [
        "# Resize all images\n",
        "data = dict({key: resize_image(data[key]) for key in d.files[:3]}, **{key: data[key] for key in d.files[3:]})"
      ],
      "execution_count": 337,
      "outputs": [
        {
          "output_type": "stream",
          "text": [
            "7007\n",
            "Original size (28, 28, 3)\n",
            "RESIZED (32, 32, 3)\n"
          ],
          "name": "stdout"
        },
        {
          "output_type": "display_data",
          "data": {
            "image/png": "[encoded data removed]",
            "text/plain": [
              "<Figure size 432x288 with 1 Axes>"
            ]
          },
          "metadata": {
            "tags": []
          }
        },
        {
          "output_type": "stream",
          "text": [
            "1003\n",
            "Original size (28, 28, 3)\n",
            "RESIZED (32, 32, 3)\n"
          ],
          "name": "stdout"
        },
        {
          "output_type": "display_data",
          "data": {
            "image/png": "[encoded data removed]",
            "text/plain": [
              "<Figure size 432x288 with 1 Axes>"
            ]
          },
          "metadata": {
            "tags": []
          }
        },
        {
          "output_type": "stream",
          "text": [
            "2005\n",
            "Original size (28, 28, 3)\n",
            "RESIZED (32, 32, 3)\n"
          ],
          "name": "stdout"
        },
        {
          "output_type": "display_data",
          "data": {
            "image/png": "[encoded data removed]",
            "text/plain": [
              "<Figure size 432x288 with 1 Axes>"
            ]
          },
          "metadata": {
            "tags": []
          }
        }
      ]
    },
    {
      "cell_type": "code",
      "metadata": {
        "colab": {
          "base_uri": "https://localhost:8080/"
        },
        "id": "vLtFUTBCRF3o",
        "outputId": "75c192b9-783e-455d-9c46-b8cabab28393"
      },
      "source": [
        "data['val_images'][6].shape"
      ],
      "execution_count": 338,
      "outputs": [
        {
          "output_type": "execute_result",
          "data": {
            "text/plain": [
              "(32, 32, 3)"
            ]
          },
          "metadata": {
            "tags": []
          },
          "execution_count": 338
        }
      ]
    },
    {
      "cell_type": "code",
      "metadata": {
        "id": "fRX5VzCbXzbt"
      },
      "source": [
        "# image = data['val_images'][0].reshape((-1,) + data['val_images'][0].shape)\n",
        "# train_gen = datagen.flow(image, [0], batch_size=1, shuffle=False)\n",
        "# X, y = train_gen.next()\n",
        "# plt.imshow(X[0].astype(np.uint8))\n",
        "\n",
        "# train_imgs, train_labels = [], []\n",
        "# for image, label in zip(data['train_images'], data['train_labels']):\n",
        "#   image = image.reshape((-1,) + image.shape)\n",
        "#   rain_gen = datagen.flow(image, [0], batch_size=1, shuffle=False)\n",
        "#   X, y = train_gen.next()\n",
        "#   train_imgs.append(X[0].astype(np.uint8))\n",
        "#   train_labels.append(label)"
      ],
      "execution_count": 339,
      "outputs": []
    },
    {
      "cell_type": "code",
      "metadata": {
        "id": "Aa8P25g4fXi_"
      },
      "source": [
        "#data['train_images'] = np.concatenate([np.array(train_imgs), data['train_images']])\n",
        "#data['train_labels'] = np.concatenate([np.array(train_labels), data['train_labels']])"
      ],
      "execution_count": 340,
      "outputs": []
    },
    {
      "cell_type": "code",
      "metadata": {
        "id": "hIotJxpufh1h"
      },
      "source": [
        "#data['train_images'].shape"
      ],
      "execution_count": 341,
      "outputs": []
    },
    {
      "cell_type": "code",
      "metadata": {
        "id": "g8gA6qlReMj_"
      },
      "source": [
        "#plt.imshow(train_imgs[1])"
      ],
      "execution_count": 342,
      "outputs": []
    },
    {
      "cell_type": "code",
      "metadata": {
        "id": "tvHE0ei8dA8u"
      },
      "source": [
        "#X[0].astype(np.uint8).shape"
      ],
      "execution_count": 343,
      "outputs": []
    },
    {
      "cell_type": "code",
      "metadata": {
        "id": "eW4HGx_aZ6VM"
      },
      "source": [
        "#plt.imshow(data['train_images'][1].astype(np.uint8))"
      ],
      "execution_count": 344,
      "outputs": []
    },
    {
      "cell_type": "markdown",
      "metadata": {
        "id": "20jTd0rQrUe1"
      },
      "source": [
        "# Concat train, val and test, then shuffle and split"
      ]
    },
    {
      "cell_type": "code",
      "metadata": {
        "id": "qCwsOLFyrTb2"
      },
      "source": [
        "combined_images = np.concatenate([data['train_images'], data['val_images'], data['test_images']])\n",
        "combined_labels = np.concatenate([data['train_labels'], data['val_labels'], data['test_labels']])"
      ],
      "execution_count": 345,
      "outputs": []
    },
    {
      "cell_type": "code",
      "metadata": {
        "colab": {
          "base_uri": "https://localhost:8080/"
        },
        "id": "8NEVcFV8rgaV",
        "outputId": "c193e82b-c095-4a61-cca0-1a346599224b"
      },
      "source": [
        "combined_images.shape"
      ],
      "execution_count": 346,
      "outputs": [
        {
          "output_type": "execute_result",
          "data": {
            "text/plain": [
              "(10015, 32, 32, 3)"
            ]
          },
          "metadata": {
            "tags": []
          },
          "execution_count": 346
        }
      ]
    },
    {
      "cell_type": "code",
      "metadata": {
        "id": "Qy3sseemrg6K"
      },
      "source": [
        "c = np.c_[combined_images.reshape(len(combined_images), -1), combined_labels.reshape(len(combined_labels), -1)]"
      ],
      "execution_count": 347,
      "outputs": []
    },
    {
      "cell_type": "code",
      "metadata": {
        "id": "uvq2u0EQrl8u"
      },
      "source": [
        "np.random.shuffle(c)"
      ],
      "execution_count": 348,
      "outputs": []
    },
    {
      "cell_type": "code",
      "metadata": {
        "id": "8yMjWKSVrpR4"
      },
      "source": [
        "shuffled_images = c[:, :combined_images.size//len(combined_images)].reshape(combined_images.shape)\n",
        "shuffled_labels = c[:, combined_images.size//len(combined_images):].reshape(combined_labels.shape)"
      ],
      "execution_count": 349,
      "outputs": []
    },
    {
      "cell_type": "code",
      "metadata": {
        "colab": {
          "base_uri": "https://localhost:8080/"
        },
        "id": "c2ZH0EXlruVf",
        "outputId": "6ed14a94-9fc4-45f0-abce-43b3b2d379ee"
      },
      "source": [
        "shuffled_images.shape"
      ],
      "execution_count": 350,
      "outputs": [
        {
          "output_type": "execute_result",
          "data": {
            "text/plain": [
              "(10015, 32, 32, 3)"
            ]
          },
          "metadata": {
            "tags": []
          },
          "execution_count": 350
        }
      ]
    },
    {
      "cell_type": "code",
      "metadata": {
        "colab": {
          "base_uri": "https://localhost:8080/"
        },
        "id": "jISxmcmAD5a9",
        "outputId": "0215a15b-d9c7-46e7-b626-7bb029663c78"
      },
      "source": [
        "shuffled_labels.shape"
      ],
      "execution_count": 351,
      "outputs": [
        {
          "output_type": "execute_result",
          "data": {
            "text/plain": [
              "(10015, 1)"
            ]
          },
          "metadata": {
            "tags": []
          },
          "execution_count": 351
        }
      ]
    },
    {
      "cell_type": "code",
      "metadata": {
        "colab": {
          "base_uri": "https://localhost:8080/",
          "height": 284
        },
        "id": "xdbC68G1sII_",
        "outputId": "59599a98-8bdb-4d87-9a3d-0c80be1c9d09"
      },
      "source": [
        "plt.imshow(shuffled_images[0])\n",
        "print(shuffled_labels[0])"
      ],
      "execution_count": 352,
      "outputs": [
        {
          "output_type": "stream",
          "text": [
            "[5]\n"
          ],
          "name": "stdout"
        },
        {
          "output_type": "display_data",
          "data": {
            "image/png": "[encoded data removed]",
            "text/plain": [
              "<Figure size 432x288 with 1 Axes>"
            ]
          },
          "metadata": {
            "tags": [],
            "needs_background": "light"
          }
        }
      ]
    },
    {
      "cell_type": "markdown",
      "metadata": {
        "id": "aPsoqwVFqDJC"
      },
      "source": [
        "## Undersampling"
      ]
    },
    {
      "cell_type": "markdown",
      "metadata": {
        "id": "5XlvMNg_GBq3"
      },
      "source": [
        "# Image Data Generator"
      ]
    },
    {
      "cell_type": "code",
      "metadata": {
        "id": "jssWRiLYXtJF"
      },
      "source": [
        "from keras.preprocessing.image import ImageDataGenerator"
      ],
      "execution_count": 353,
      "outputs": []
    },
    {
      "cell_type": "code",
      "metadata": {
        "id": "Y8ckzcFBXyna"
      },
      "source": [
        "datagen = ImageDataGenerator(\n",
        "    rotation_range=30,\n",
        "    width_shift_range=10,\n",
        "    height_shift_range=10,\n",
        "    brightness_range=(1, 1.8),\n",
        "    #shear_range=5,\n",
        "    zoom_range=0.1,\n",
        "    #fill_mode = 'wrap',\n",
        "    horizontal_flip = True,\n",
        "    vertical_flip = True,\n",
        "    rescale = 1/255.,\n",
        "    #validation_split=0.2,\n",
        ")\n",
        "\n",
        "#train_gen = datagen.flow(data['train_images'], data['train_labels'], batch_size=32, subset='training')\n",
        "#val_gen = datagen.flow(data['train_images'], data['train_labels'], batch_size=32, subset='validation')"
      ],
      "execution_count": 354,
      "outputs": []
    },
    {
      "cell_type": "code",
      "metadata": {
        "colab": {
          "base_uri": "https://localhost:8080/"
        },
        "id": "gIBa4x1b0hPu",
        "outputId": "841e5292-8d0f-4832-cfc3-a736c7b57351"
      },
      "source": [
        "from tqdm import tqdm\n",
        "\n",
        "result = np.where(shuffled_labels == [6])\n",
        "index_tmp = np.random.choice(result[0].shape[0], 4, replace=False)  \n",
        "index = result[0][index_tmp]\n",
        "shuffled_labels[index]\n",
        "shuffled_images[index]\n",
        "\n",
        "class_count = {}\n",
        "new_images , new_labels = [], []\n",
        "\n",
        "# count number of samples of each class \n",
        "for class_num in range(7):\n",
        "  class_count[class_num] = np.count_nonzero(shuffled_labels == [class_num])\n",
        "\n",
        "max_class_c = max(class_count.items(), key=operator.itemgetter(1))[1]\n",
        "print(max_class_c)\n",
        "\n",
        "for class_num, count in tqdm(class_count.items()):\n",
        "  #print(count)\n",
        "  result = np.where(shuffled_labels == [class_num])\n",
        "  index_tmp = np.random.choice(result[0].shape[0], count, replace=False)  \n",
        "  index = result[0][index_tmp]\n",
        "  imgs = shuffled_images[index]\n",
        "  lbls = shuffled_labels[index]\n",
        "\n",
        "  #print(len(imgs), len(lbls))\n",
        "  counter = 0\n",
        "  diff = max_class_c - count\n",
        "  train_gen = datagen.flow(imgs, lbls, batch_size=1)\n",
        "  \n",
        "  while counter < diff:\n",
        "    #image = image.reshape((-1,) + image.shape)\n",
        "    #train_gen = datagen.flow(image, [0], batch_size=1, shuffle=False)\n",
        "    X, y = train_gen.next()\n",
        "    new_images.append(np.array(X[0]))\n",
        "    new_labels.append(y)\n",
        "\n",
        "    counter += 1"
      ],
      "execution_count": 355,
      "outputs": [
        {
          "output_type": "stream",
          "text": [
            "6705\n"
          ],
          "name": "stdout"
        },
        {
          "output_type": "stream",
          "text": [
            "100%|██████████| 7/7 [00:32<00:00,  4.65s/it]\n"
          ],
          "name": "stderr"
        }
      ]
    },
    {
      "cell_type": "code",
      "metadata": {
        "colab": {
          "base_uri": "https://localhost:8080/"
        },
        "id": "kuMk0blUbaGC",
        "outputId": "4a921269-85aa-409f-a7d9-9e4aac853f31"
      },
      "source": [
        "new_labels = np.array(new_labels).reshape(-1,1)\n",
        "new_labels.shape"
      ],
      "execution_count": 356,
      "outputs": [
        {
          "output_type": "execute_result",
          "data": {
            "text/plain": [
              "(36920, 1)"
            ]
          },
          "metadata": {
            "tags": []
          },
          "execution_count": 356
        }
      ]
    },
    {
      "cell_type": "code",
      "metadata": {
        "colab": {
          "base_uri": "https://localhost:8080/"
        },
        "id": "wSOxbonVi0-Z",
        "outputId": "679442d1-7f44-4e4d-fde8-d2291f633ea2"
      },
      "source": [
        "shuffled_labels.shape"
      ],
      "execution_count": 357,
      "outputs": [
        {
          "output_type": "execute_result",
          "data": {
            "text/plain": [
              "(10015, 1)"
            ]
          },
          "metadata": {
            "tags": []
          },
          "execution_count": 357
        }
      ]
    },
    {
      "cell_type": "code",
      "metadata": {
        "id": "YB1kmaXziNeb"
      },
      "source": [
        "# combine new data with older ones\n",
        "combined_images = np.concatenate([shuffled_images, np.array(new_images)])\n",
        "combined_labels = np.concatenate([shuffled_labels, np.array(new_labels)])\n",
        "c = np.c_[combined_images.reshape(len(combined_images), -1), combined_labels.reshape(len(combined_labels), -1)]\n",
        "# shuffle \n",
        "np.random.shuffle(c)\n",
        "# split\n",
        "shuffled_images = c[:, :combined_images.size//len(combined_images)].reshape(combined_images.shape)\n",
        "shuffled_labels = c[:, combined_images.size//len(combined_images):].reshape(combined_labels.shape)"
      ],
      "execution_count": 358,
      "outputs": []
    },
    {
      "cell_type": "code",
      "metadata": {
        "colab": {
          "base_uri": "https://localhost:8080/"
        },
        "id": "NsvtlMz_6CCW",
        "outputId": "4fcff486-8cf2-4f67-9f2e-ec68fdea911b"
      },
      "source": [
        "print(shuffled_images.shape)\n",
        "print(shuffled_labels.shape)"
      ],
      "execution_count": 359,
      "outputs": [
        {
          "output_type": "stream",
          "text": [
            "(46935, 32, 32, 3)\n",
            "(46935, 1)\n"
          ],
          "name": "stdout"
        }
      ]
    },
    {
      "cell_type": "code",
      "metadata": {
        "id": "CcnZm0os1VsX"
      },
      "source": [
        "# split train, val and test\n",
        "[data['train_images'], data['val_images'], data['test_images']] = np.split(shuffled_images, [int(.8 * len(shuffled_images)), int(.9 * len(shuffled_images))])\n",
        "[data['train_labels'], data['val_labels'], data['test_labels']] = np.split(shuffled_labels, [int(.8 * len(shuffled_labels)), int(.9 * len(shuffled_labels))])"
      ],
      "execution_count": 360,
      "outputs": []
    },
    {
      "cell_type": "code",
      "metadata": {
        "id": "d-CP344Hq_Qs"
      },
      "source": [
        "for tag in list(data.keys())[:3]:\n",
        "  # convert from integers to floats\n",
        "  data[tag] = data[tag].astype('float32')\n",
        "  # normalize to range 0-1\n",
        "  #data[tag] /= 255\n",
        "\n",
        "# one hot y values\n",
        "for tag in list(data.keys())[3:]:\n",
        "  data[tag] = to_categorical(data[tag])"
      ],
      "execution_count": 361,
      "outputs": []
    },
    {
      "cell_type": "code",
      "metadata": {
        "colab": {
          "base_uri": "https://localhost:8080/"
        },
        "id": "hFRRejkIwBdU",
        "outputId": "4b62e0a4-e761-4e42-a7d7-9834b67221e9"
      },
      "source": [
        "data['test_images'].shape"
      ],
      "execution_count": 362,
      "outputs": [
        {
          "output_type": "execute_result",
          "data": {
            "text/plain": [
              "(4694, 32, 32, 3)"
            ]
          },
          "metadata": {
            "tags": []
          },
          "execution_count": 362
        }
      ]
    },
    {
      "cell_type": "markdown",
      "metadata": {
        "id": "jbRz5ZgQZma8"
      },
      "source": [
        "# VGG Model"
      ]
    },
    {
      "cell_type": "code",
      "metadata": {
        "id": "xGLU6TYhZqIT"
      },
      "source": [
        "import tensorflow as tf\n",
        "from tensorflow.keras import Sequential\n",
        "from tensorflow.keras.regularizers import l1, l2\n",
        "from tensorflow.keras.layers import Conv2D, MaxPool2D, Flatten, Dense, Dropout\n",
        "from tensorflow.keras.utils import to_categorical\n",
        "from tensorflow.keras.optimizers import *\n",
        "from tensorflow.keras.losses import *\n",
        "from tensorflow.keras.layers import *\n",
        "from tensorflow.keras.activations import *"
      ],
      "execution_count": 363,
      "outputs": []
    },
    {
      "cell_type": "code",
      "metadata": {
        "colab": {
          "base_uri": "https://localhost:8080/"
        },
        "id": "GYuDQ47lYvVq",
        "outputId": "3f7cd289-b9f5-4c4b-bf3a-91c7dc2e30de"
      },
      "source": [
        "model = Sequential()\n",
        "\n",
        "model.add(Conv2D(64, (3, 3), activation='relu', padding='same', input_shape=data['train_images'][0].shape, kernel_regularizer=l2(0.0001), kernel_initializer='he_uniform'))\n",
        "model.add(Conv2D(64, (3, 3), activation='relu', padding='same', kernel_regularizer=l2(0.0001), kernel_initializer='he_uniform'))\n",
        "model.add(MaxPool2D((4, 4), strides=(2, 2)))\n",
        "model.add(Dropout(0.05))\n",
        "\n",
        "model.add(Conv2D(128, (3, 3), activation='relu', padding='same', kernel_regularizer=l2(0.001), kernel_initializer='he_uniform'))\n",
        "model.add(Conv2D(128, (3, 3), activation='relu', padding='same', kernel_regularizer=l2(0.001), kernel_initializer='he_uniform'))\n",
        "model.add(MaxPool2D((4, 4), strides=(2, 2)))\n",
        "#model.add(Dropout(0.1))\n",
        "\n",
        "model.add(Conv2D(256, (3, 3), activation='relu', padding='same', kernel_regularizer=l2(0.0001), kernel_initializer='he_uniform'))\n",
        "model.add(Conv2D(256, (3, 3), activation='relu', padding='same', kernel_regularizer=l2(0.001), kernel_initializer='he_uniform'))\n",
        "model.add(MaxPool2D((4, 4), strides=(2, 2)))\n",
        "model.add(Dropout(0.05))\n",
        "\n",
        "model.add(Flatten())\n",
        "\n",
        "model.add(Dense(64, activation='relu', kernel_regularizer=l2(0.0001), kernel_initializer='he_uniform'))\n",
        "#model.add(Dropout(0.05))\n",
        "model.add(Dense(7, activation='softmax'))\n",
        "\n",
        "model.summary()"
      ],
      "execution_count": 364,
      "outputs": [
        {
          "output_type": "stream",
          "text": [
            "Model: \"sequential_13\"\n",
            "_________________________________________________________________\n",
            "Layer (type)                 Output Shape              Param #   \n",
            "=================================================================\n",
            "conv2d_78 (Conv2D)           (None, 32, 32, 64)        1792      \n",
            "_________________________________________________________________\n",
            "conv2d_79 (Conv2D)           (None, 32, 32, 64)        36928     \n",
            "_________________________________________________________________\n",
            "max_pooling2d_39 (MaxPooling (None, 15, 15, 64)        0         \n",
            "_________________________________________________________________\n",
            "dropout_44 (Dropout)         (None, 15, 15, 64)        0         \n",
            "_________________________________________________________________\n",
            "conv2d_80 (Conv2D)           (None, 15, 15, 128)       73856     \n",
            "_________________________________________________________________\n",
            "conv2d_81 (Conv2D)           (None, 15, 15, 128)       147584    \n",
            "_________________________________________________________________\n",
            "max_pooling2d_40 (MaxPooling (None, 6, 6, 128)         0         \n",
            "_________________________________________________________________\n",
            "conv2d_82 (Conv2D)           (None, 6, 6, 256)         295168    \n",
            "_________________________________________________________________\n",
            "conv2d_83 (Conv2D)           (None, 6, 6, 256)         590080    \n",
            "_________________________________________________________________\n",
            "max_pooling2d_41 (MaxPooling (None, 2, 2, 256)         0         \n",
            "_________________________________________________________________\n",
            "dropout_45 (Dropout)         (None, 2, 2, 256)         0         \n",
            "_________________________________________________________________\n",
            "flatten_13 (Flatten)         (None, 1024)              0         \n",
            "_________________________________________________________________\n",
            "dense_26 (Dense)             (None, 64)                65600     \n",
            "_________________________________________________________________\n",
            "dense_27 (Dense)             (None, 7)                 455       \n",
            "=================================================================\n",
            "Total params: 1,211,463\n",
            "Trainable params: 1,211,463\n",
            "Non-trainable params: 0\n",
            "_________________________________________________________________\n"
          ],
          "name": "stdout"
        }
      ]
    },
    {
      "cell_type": "code",
      "metadata": {
        "id": "jqe598n-Z7mW"
      },
      "source": [
        "model.compile(optimizer=Adam(learning_rate=0.0001), loss='categorical_crossentropy', metrics=['acc'])"
      ],
      "execution_count": 365,
      "outputs": []
    },
    {
      "cell_type": "code",
      "metadata": {
        "colab": {
          "base_uri": "https://localhost:8080/"
        },
        "id": "xY-zYHCqlu3X",
        "outputId": "01609d77-f2d3-4069-f886-b465bd105a86"
      },
      "source": [
        "data['train_images'].shape\n",
        "data['train_labels'].shape"
      ],
      "execution_count": 366,
      "outputs": [
        {
          "output_type": "execute_result",
          "data": {
            "text/plain": [
              "(37548, 7)"
            ]
          },
          "metadata": {
            "tags": []
          },
          "execution_count": 366
        }
      ]
    },
    {
      "cell_type": "code",
      "metadata": {
        "colab": {
          "base_uri": "https://localhost:8080/"
        },
        "id": "r-WlYOGglyBy",
        "outputId": "7a5da806-91ef-4a93-c55b-4dfc4e102a23"
      },
      "source": [
        "data['val_images'].shape\n",
        "data['val_labels'].shape"
      ],
      "execution_count": 367,
      "outputs": [
        {
          "output_type": "execute_result",
          "data": {
            "text/plain": [
              "(4693, 7)"
            ]
          },
          "metadata": {
            "tags": []
          },
          "execution_count": 367
        }
      ]
    },
    {
      "cell_type": "code",
      "metadata": {
        "colab": {
          "base_uri": "https://localhost:8080/"
        },
        "id": "3h_7GPM1aGu5",
        "outputId": "df018adb-1f40-401e-fd86-78bec2877cbb"
      },
      "source": [
        "history = model.fit(data['train_images'], data['train_labels'], batch_size=32, epochs=30, validation_data=(data['val_images'], data['val_labels']))"
      ],
      "execution_count": 368,
      "outputs": [
        {
          "output_type": "stream",
          "text": [
            "Epoch 1/30\n",
            "1174/1174 [==============================] - 28s 23ms/step - loss: 6.2096 - acc: 0.2685 - val_loss: 2.7821 - val_acc: 0.3356\n",
            "Epoch 2/30\n",
            "1174/1174 [==============================] - 26s 22ms/step - loss: 2.6588 - acc: 0.3357 - val_loss: 2.3619 - val_acc: 0.4117\n",
            "Epoch 3/30\n",
            "1174/1174 [==============================] - 26s 22ms/step - loss: 2.2233 - acc: 0.4639 - val_loss: 2.1192 - val_acc: 0.4973\n",
            "Epoch 4/30\n",
            "1174/1174 [==============================] - 27s 23ms/step - loss: 2.0678 - acc: 0.5119 - val_loss: 2.0878 - val_acc: 0.4948\n",
            "Epoch 5/30\n",
            "1174/1174 [==============================] - 27s 23ms/step - loss: 1.9861 - acc: 0.5307 - val_loss: 2.1095 - val_acc: 0.4939\n",
            "Epoch 6/30\n",
            "1174/1174 [==============================] - 26s 22ms/step - loss: 1.9009 - acc: 0.5491 - val_loss: 1.8509 - val_acc: 0.5685\n",
            "Epoch 7/30\n",
            "1174/1174 [==============================] - 26s 22ms/step - loss: 1.8208 - acc: 0.5593 - val_loss: 1.7495 - val_acc: 0.5875\n",
            "Epoch 8/30\n",
            "1174/1174 [==============================] - 26s 22ms/step - loss: 1.7215 - acc: 0.5763 - val_loss: 1.6537 - val_acc: 0.6011\n",
            "Epoch 9/30\n",
            "1174/1174 [==============================] - 26s 22ms/step - loss: 1.6246 - acc: 0.5925 - val_loss: 1.6856 - val_acc: 0.5572\n",
            "Epoch 10/30\n",
            "1174/1174 [==============================] - 26s 22ms/step - loss: 1.5343 - acc: 0.6069 - val_loss: 1.7189 - val_acc: 0.5270\n",
            "Epoch 11/30\n",
            "1174/1174 [==============================] - 26s 22ms/step - loss: 1.4470 - acc: 0.6154 - val_loss: 1.3944 - val_acc: 0.6358\n",
            "Epoch 12/30\n",
            "1174/1174 [==============================] - 26s 22ms/step - loss: 1.3585 - acc: 0.6333 - val_loss: 1.3453 - val_acc: 0.6265\n",
            "Epoch 13/30\n",
            "1174/1174 [==============================] - 26s 22ms/step - loss: 1.2753 - acc: 0.6486 - val_loss: 1.2760 - val_acc: 0.6444\n",
            "Epoch 14/30\n",
            "1174/1174 [==============================] - 26s 22ms/step - loss: 1.2128 - acc: 0.6650 - val_loss: 1.2637 - val_acc: 0.6454\n",
            "Epoch 15/30\n",
            "1174/1174 [==============================] - 26s 22ms/step - loss: 1.1699 - acc: 0.6718 - val_loss: 1.2076 - val_acc: 0.6550\n",
            "Epoch 16/30\n",
            "1174/1174 [==============================] - 26s 22ms/step - loss: 1.1251 - acc: 0.6846 - val_loss: 1.1860 - val_acc: 0.6576\n",
            "Epoch 17/30\n",
            "1174/1174 [==============================] - 26s 22ms/step - loss: 1.0702 - acc: 0.7026 - val_loss: 1.1963 - val_acc: 0.6687\n",
            "Epoch 18/30\n",
            "1174/1174 [==============================] - 26s 22ms/step - loss: 1.0367 - acc: 0.7108 - val_loss: 1.0879 - val_acc: 0.6944\n",
            "Epoch 19/30\n",
            "1174/1174 [==============================] - 26s 22ms/step - loss: 0.9984 - acc: 0.7220 - val_loss: 1.0783 - val_acc: 0.6917\n",
            "Epoch 20/30\n",
            "1174/1174 [==============================] - 26s 22ms/step - loss: 0.9714 - acc: 0.7311 - val_loss: 1.0346 - val_acc: 0.7076\n",
            "Epoch 21/30\n",
            "1174/1174 [==============================] - 26s 22ms/step - loss: 0.9313 - acc: 0.7465 - val_loss: 1.1189 - val_acc: 0.6742\n",
            "Epoch 22/30\n",
            "1174/1174 [==============================] - 26s 22ms/step - loss: 0.9123 - acc: 0.7525 - val_loss: 1.0001 - val_acc: 0.7217\n",
            "Epoch 23/30\n",
            "1174/1174 [==============================] - 26s 22ms/step - loss: 0.8851 - acc: 0.7638 - val_loss: 1.0153 - val_acc: 0.7209\n",
            "Epoch 24/30\n",
            "1174/1174 [==============================] - 26s 22ms/step - loss: 0.8510 - acc: 0.7741 - val_loss: 0.9858 - val_acc: 0.7287\n",
            "Epoch 25/30\n",
            "1174/1174 [==============================] - 26s 22ms/step - loss: 0.8231 - acc: 0.7863 - val_loss: 0.9853 - val_acc: 0.7373\n",
            "Epoch 26/30\n",
            "1174/1174 [==============================] - 26s 22ms/step - loss: 0.7878 - acc: 0.8008 - val_loss: 1.0174 - val_acc: 0.7228\n",
            "Epoch 27/30\n",
            "1174/1174 [==============================] - 26s 22ms/step - loss: 0.7714 - acc: 0.8070 - val_loss: 0.9876 - val_acc: 0.7345\n",
            "Epoch 28/30\n",
            "1174/1174 [==============================] - 26s 22ms/step - loss: 0.7390 - acc: 0.8221 - val_loss: 1.0113 - val_acc: 0.7245\n",
            "Epoch 29/30\n",
            "1174/1174 [==============================] - 26s 22ms/step - loss: 0.7236 - acc: 0.8305 - val_loss: 0.9927 - val_acc: 0.7413\n",
            "Epoch 30/30\n",
            "1174/1174 [==============================] - 26s 22ms/step - loss: 0.6859 - acc: 0.8465 - val_loss: 0.9907 - val_acc: 0.7501\n"
          ],
          "name": "stdout"
        }
      ]
    },
    {
      "cell_type": "code",
      "metadata": {
        "colab": {
          "base_uri": "https://localhost:8080/",
          "height": 281
        },
        "id": "ywns2S9GaKEF",
        "outputId": "67513555-0b64-45a1-f6c2-9d15cbd2b422"
      },
      "source": [
        " plt.plot(history.history['loss'], 'b-o')\n",
        "plt.plot(history.history['val_loss'], 'r--o')"
      ],
      "execution_count": 369,
      "outputs": [
        {
          "output_type": "execute_result",
          "data": {
            "text/plain": [
              "[<matplotlib.lines.Line2D at 0x7f59e0189e90>]"
            ]
          },
          "metadata": {
            "tags": []
          },
          "execution_count": 369
        },
        {
          "output_type": "display_data",
          "data": {
            "image/png": "[encoded data removed]",
            "text/plain": [
              "<Figure size 432x288 with 1 Axes>"
            ]
          },
          "metadata": {
            "tags": [],
            "needs_background": "light"
          }
        }
      ]
    },
    {
      "cell_type": "code",
      "metadata": {
        "colab": {
          "base_uri": "https://localhost:8080/",
          "height": 281
        },
        "id": "NAmAGsJefxNt",
        "outputId": "80c6bf05-9587-4b39-a0d5-e029fa8fa94b"
      },
      "source": [
        "plt.plot(history.history['acc'], 'b-o')\n",
        "plt.plot(history.history['val_acc'], 'r--o')"
      ],
      "execution_count": 370,
      "outputs": [
        {
          "output_type": "execute_result",
          "data": {
            "text/plain": [
              "[<matplotlib.lines.Line2D at 0x7f5a4f19e950>]"
            ]
          },
          "metadata": {
            "tags": []
          },
          "execution_count": 370
        },
        {
          "output_type": "display_data",
          "data": {
            "image/png": "[encoded data removed]",
            "text/plain": [
              "<Figure size 432x288 with 1 Axes>"
            ]
          },
          "metadata": {
            "tags": [],
            "needs_background": "light"
          }
        }
      ]
    },
    {
      "cell_type": "code",
      "metadata": {
        "colab": {
          "base_uri": "https://localhost:8080/"
        },
        "id": "PaVltZrkaP5q",
        "outputId": "3fe3173a-c021-4cfc-a096-ac0c1aa2c82e"
      },
      "source": [
        "model.evaluate(data['test_images'], data['test_labels'])"
      ],
      "execution_count": 371,
      "outputs": [
        {
          "output_type": "stream",
          "text": [
            "147/147 [==============================] - 2s 11ms/step - loss: 1.0261 - acc: 0.7280\n"
          ],
          "name": "stdout"
        },
        {
          "output_type": "execute_result",
          "data": {
            "text/plain": [
              "[1.0260721445083618, 0.7279505729675293]"
            ]
          },
          "metadata": {
            "tags": []
          },
          "execution_count": 371
        }
      ]
    },
    {
      "cell_type": "code",
      "metadata": {
        "id": "yZqem9cEVjbZ",
        "colab": {
          "base_uri": "https://localhost:8080/",
          "height": 564
        },
        "outputId": "6bc121a2-a2b0-4d42-c1d7-e8fbac5dad91"
      },
      "source": [
        "from sklearn.metrics import confusion_matrix\n",
        "from sklearn.metrics import plot_confusion_matrix\n",
        "import pandas as pd\n",
        "import seaborn as sn\n",
        "\n",
        "\n",
        "pred_test_values = np.argmax(model.predict(data['test_images']), axis=1)\n",
        "y_test_arg = np.argmax(data['test_labels'], axis=1)\n",
        "\n",
        "cm = confusion_matrix(pred_test_values, y_test_arg)\n",
        "print(cm)\n",
        "\n",
        "target_labels = '1234567'\n",
        "df_cm = pd.DataFrame(cm, index = [i for i in target_labels],\n",
        "                  columns = [i for i in target_labels])\n",
        "plt.figure(figsize = (10,7))\n",
        "sn.heatmap(df_cm, annot=True, fmt='g')"
      ],
      "execution_count": 372,
      "outputs": [
        {
          "output_type": "stream",
          "text": [
            "[[447  75  83  24  72   2   1]\n",
            " [ 85 496  61  37  43   4   9]\n",
            " [100  50 343  28 178  22   4]\n",
            " [ 11  11  14 611  10   2   2]\n",
            " [ 40  21 110   2 345  44  16]\n",
            " [  4   6  29   4  45 564   4]\n",
            " [  0   9   5   2   8   0 611]]\n"
          ],
          "name": "stdout"
        },
        {
          "output_type": "execute_result",
          "data": {
            "text/plain": [
              "<matplotlib.axes._subplots.AxesSubplot at 0x7f59dfef8b90>"
            ]
          },
          "metadata": {
            "tags": []
          },
          "execution_count": 372
        },
        {
          "output_type": "display_data",
          "data": {
            "image/png": "[encoded data removed]",
            "text/plain": [
              "<Figure size 720x504 with 2 Axes>"
            ]
          },
          "metadata": {
            "tags": [],
            "needs_background": "light"
          }
        }
      ]
    },
    {
      "cell_type": "code",
      "metadata": {
        "colab": {
          "base_uri": "https://localhost:8080/"
        },
        "id": "gEOaKVkqrBZK",
        "outputId": "f9097fd8-c2bb-45dc-e4cc-027c68aba91f"
      },
      "source": [
        "from sklearn.metrics import classification_report\n",
        "from sklearn.metrics import accuracy_score\n",
        "\n",
        "print(classification_report(y_test_arg, pred_test_values, target_names=target_labels, digits=4))"
      ],
      "execution_count": 373,
      "outputs": [
        {
          "output_type": "stream",
          "text": [
            "              precision    recall  f1-score   support\n",
            "\n",
            "           1     0.6349    0.6507    0.6427       687\n",
            "           2     0.6748    0.7425    0.7071       668\n",
            "           3     0.4731    0.5318    0.5007       645\n",
            "           4     0.9244    0.8630    0.8926       708\n",
            "           5     0.5969    0.4922    0.5395       701\n",
            "           6     0.8598    0.8840    0.8717       638\n",
            "           7     0.9622    0.9444    0.9532       647\n",
            "\n",
            "    accuracy                         0.7280      4694\n",
            "   macro avg     0.7323    0.7298    0.7296      4694\n",
            "weighted avg     0.7320    0.7280    0.7286      4694\n",
            "\n"
          ],
          "name": "stdout"
        }
      ]
    },
    {
      "cell_type": "code",
      "metadata": {
        "id": "MGt33VR39O3H"
      },
      "source": [
        ""
      ],
      "execution_count": null,
      "outputs": []
    }
  ]
}