{
  "nbformat": 4,
  "nbformat_minor": 0,
  "metadata": {
    "colab": {
      "name": "main_p3.ipynb",
      "provenance": [],
      "collapsed_sections": []
    },
    "kernelspec": {
      "name": "python3",
      "display_name": "Python 3"
    },
    "language_info": {
      "name": "python"
    }
  },
  "cells": [
    {
      "cell_type": "markdown",
      "metadata": {
        "id": "BMxk4i8hrTU6"
      },
      "source": [
        "# Load data"
      ]
    },
    {
      "cell_type": "code",
      "metadata": {
        "colab": {
          "base_uri": "https://localhost:8080/"
        },
        "id": "E5fNVEUun2ZF",
        "outputId": "20e91d60-909f-4b30-efff-1422f27000b8"
      },
      "source": [
        "!wget -O Data.npz https://zenodo.org/record/4269852/files/dermamnist.npz?download=1"
      ],
      "execution_count": 2,
      "outputs": [
        {
          "output_type": "stream",
          "text": [
            "--2021-08-12 18:40:48--  https://zenodo.org/record/4269852/files/dermamnist.npz?download=1\n",
            "Resolving zenodo.org (zenodo.org)... 137.138.76.77\n",
            "Connecting to zenodo.org (zenodo.org)|137.138.76.77|:443... connected.\n",
            "HTTP request sent, awaiting response... 200 OK\n",
            "Length: 19725078 (19M) [application/octet-stream]\n",
            "Saving to: ‘Data.npz’\n",
            "\n",
            "Data.npz            100%[===================>]  18.81M  13.2MB/s    in 1.4s    \n",
            "\n",
            "2021-08-12 18:40:50 (13.2 MB/s) - ‘Data.npz’ saved [19725078/19725078]\n",
            "\n"
          ],
          "name": "stdout"
        }
      ]
    },
    {
      "cell_type": "code",
      "metadata": {
        "id": "x7ZUY6vVtbWX"
      },
      "source": [
        "import matplotlib.pyplot as plt   \n",
        "import numpy as np"
      ],
      "execution_count": 27,
      "outputs": []
    },
    {
      "cell_type": "code",
      "metadata": {
        "colab": {
          "base_uri": "https://localhost:8080/"
        },
        "id": "9ithl4SfqlN5",
        "outputId": "e0282074-325b-423e-a946-8433a090664a"
      },
      "source": [
        "d = np.load('Data.npz')\n",
        "print(d.files)"
      ],
      "execution_count": 28,
      "outputs": [
        {
          "output_type": "stream",
          "text": [
            "['train_images', 'val_images', 'test_images', 'train_labels', 'val_labels', 'test_labels']\n"
          ],
          "name": "stdout"
        }
      ]
    },
    {
      "cell_type": "code",
      "metadata": {
        "colab": {
          "base_uri": "https://localhost:8080/"
        },
        "id": "KEZ6ktGDq4O_",
        "outputId": "a0ed76da-ca1b-46f1-c5da-df16e60c36f9"
      },
      "source": [
        "print(d['train_labels'].shape)"
      ],
      "execution_count": 29,
      "outputs": [
        {
          "output_type": "stream",
          "text": [
            "(7007, 1)\n"
          ],
          "name": "stdout"
        }
      ]
    },
    {
      "cell_type": "code",
      "metadata": {
        "colab": {
          "base_uri": "https://localhost:8080/",
          "height": 303
        },
        "id": "KWzqjD2xtCYT",
        "outputId": "391abbdb-2f03-4fb9-f874-065e5bd3d9f5"
      },
      "source": [
        "print('Train: X=%s, y=%s' % (d['train_images'].shape, d['train_labels'].shape))\n",
        "print('Test: X=%s, y=%s' % (d['test_images'].shape, d['test_labels'].shape))\n",
        "# plot some images\n",
        "for i in range(4):\n",
        "\tplt.subplot(220 + 1 + i)\n",
        "\tplt.imshow(d['train_images'][i])\n",
        "plt.show()"
      ],
      "execution_count": 30,
      "outputs": [
        {
          "output_type": "stream",
          "text": [
            "Train: X=(7007, 28, 28, 3), y=(7007, 1)\n",
            "Test: X=(2005, 28, 28, 3), y=(2005, 1)\n"
          ],
          "name": "stdout"
        },
        {
          "output_type": "display_data",
          "data": {
            "image/png": "[encoded data removed]",
            "text/plain": [
              "<Figure size 432x288 with 4 Axes>"
            ]
          },
          "metadata": {
            "tags": [],
            "needs_background": "light"
          }
        }
      ]
    },
    {
      "cell_type": "code",
      "metadata": {
        "id": "jcb-zZcNwtr4"
      },
      "source": [
        "data = {key: d[key] for key in d.files}"
      ],
      "execution_count": 31,
      "outputs": []
    },
    {
      "cell_type": "code",
      "metadata": {
        "colab": {
          "base_uri": "https://localhost:8080/"
        },
        "id": "QwpE6f1NxTFz",
        "outputId": "0e7ad938-6aba-4878-f4a1-7a31b784714c"
      },
      "source": [
        "print(data['train_labels'].shape)"
      ],
      "execution_count": 33,
      "outputs": [
        {
          "output_type": "stream",
          "text": [
            "(7007, 1)\n"
          ],
          "name": "stdout"
        }
      ]
    },
    {
      "cell_type": "markdown",
      "metadata": {
        "id": "1_ioEopHrbiN"
      },
      "source": [
        "# Preprocessing"
      ]
    },
    {
      "cell_type": "code",
      "metadata": {
        "id": "d-CP344Hq_Qs"
      },
      "source": [
        "# convert from integers to floats\n",
        "data['train_images'] = data['train_images'].astype('float32')\n",
        "data['val_images'] = data['val_images'].astype('float32')\n",
        "data['test_images'] = data['test_images'].astype('float32')\n",
        "\n",
        "# normalize to range 0-1\n",
        "data['train_images'] /= 255\n",
        "data['val_images'] /= 255\n",
        "data['test_images'] /= 255"
      ],
      "execution_count": 34,
      "outputs": []
    },
    {
      "cell_type": "code",
      "metadata": {
        "id": "hFRRejkIwBdU"
      },
      "source": [
        ""
      ],
      "execution_count": null,
      "outputs": []
    }
  ]
}