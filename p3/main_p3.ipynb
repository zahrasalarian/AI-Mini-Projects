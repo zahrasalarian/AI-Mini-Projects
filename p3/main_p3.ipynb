{
  "nbformat": 4,
  "nbformat_minor": 0,
  "metadata": {
    "accelerator": "GPU",
    "colab": {
      "name": "main_p3.ipynb",
      "provenance": [],
      "collapsed_sections": []
    },
    "kernelspec": {
      "display_name": "Python 3",
      "name": "python3"
    },
    "language_info": {
      "name": "python"
    }
  },
  "cells": [
    {
      "cell_type": "markdown",
      "metadata": {
        "id": "BMxk4i8hrTU6"
      },
      "source": [
        "# Load data"
      ]
    },
    {
      "cell_type": "code",
      "metadata": {
        "colab": {
          "base_uri": "https://localhost:8080/"
        },
        "id": "E5fNVEUun2ZF",
        "outputId": "a0480e1b-cd58-475f-949a-807f2719b896"
      },
      "source": [
        "!wget -O Data.npz https://zenodo.org/record/4269852/files/dermamnist.npz?download=1"
      ],
      "execution_count": 1,
      "outputs": [
        {
          "output_type": "stream",
          "text": [
            "--2021-08-14 19:09:46--  https://zenodo.org/record/4269852/files/dermamnist.npz?download=1\n",
            "Resolving zenodo.org (zenodo.org)... 137.138.76.77\n",
            "Connecting to zenodo.org (zenodo.org)|137.138.76.77|:443... connected.\n",
            "HTTP request sent, awaiting response... 200 OK\n",
            "Length: 19725078 (19M) [application/octet-stream]\n",
            "Saving to: ‘Data.npz’\n",
            "\n",
            "Data.npz            100%[===================>]  18.81M  8.66MB/s    in 2.2s    \n",
            "\n",
            "2021-08-14 19:09:49 (8.66 MB/s) - ‘Data.npz’ saved [19725078/19725078]\n",
            "\n"
          ],
          "name": "stdout"
        }
      ]
    },
    {
      "cell_type": "code",
      "metadata": {
        "id": "x7ZUY6vVtbWX"
      },
      "source": [
        "import matplotlib.pyplot as plt   \n",
        "import numpy as np\n",
        "import matplotlib.image as mpimg\n",
        "import cv2\n",
        "from tensorflow.keras.utils import to_categorical"
      ],
      "execution_count": 2,
      "outputs": []
    },
    {
      "cell_type": "code",
      "metadata": {
        "colab": {
          "base_uri": "https://localhost:8080/"
        },
        "id": "9ithl4SfqlN5",
        "outputId": "9aa9613d-0d45-43c8-b136-921aa5a2719f"
      },
      "source": [
        "d = np.load('Data.npz')\n",
        "print(d.files)"
      ],
      "execution_count": 3,
      "outputs": [
        {
          "output_type": "stream",
          "text": [
            "['train_images', 'val_images', 'test_images', 'train_labels', 'val_labels', 'test_labels']\n"
          ],
          "name": "stdout"
        }
      ]
    },
    {
      "cell_type": "code",
      "metadata": {
        "colab": {
          "base_uri": "https://localhost:8080/"
        },
        "id": "KEZ6ktGDq4O_",
        "outputId": "6d783c5f-ee66-460f-99a9-cb0e70b45e37"
      },
      "source": [
        "print(d['train_labels'].shape)"
      ],
      "execution_count": 4,
      "outputs": [
        {
          "output_type": "stream",
          "text": [
            "(7007, 1)\n"
          ],
          "name": "stdout"
        }
      ]
    },
    {
      "cell_type": "code",
      "metadata": {
        "colab": {
          "base_uri": "https://localhost:8080/",
          "height": 303
        },
        "id": "KWzqjD2xtCYT",
        "outputId": "316eaea6-fc57-463d-ec11-77a29813cb4c"
      },
      "source": [
        "print('Train: X=%s, y=%s' % (d['train_images'].shape, d['train_labels'].shape))\n",
        "print('Test: X=%s, y=%s' % (d['test_images'].shape, d['test_labels'].shape))\n",
        "# plot some images\n",
        "for i in range(4):\n",
        "\tplt.subplot(220 + 1 + i)\n",
        "\tplt.imshow(d['train_images'][i])\n",
        "plt.show()"
      ],
      "execution_count": 5,
      "outputs": [
        {
          "output_type": "stream",
          "text": [
            "Train: X=(7007, 28, 28, 3), y=(7007, 1)\n",
            "Test: X=(2005, 28, 28, 3), y=(2005, 1)\n"
          ],
          "name": "stdout"
        },
        {
          "output_type": "display_data",
          "data": {
            "image/png": "[encoded data removed]",
            "text/plain": [
              "<Figure size 432x288 with 4 Axes>"
            ]
          },
          "metadata": {
            "tags": [],
            "needs_background": "light"
          }
        }
      ]
    },
    {
      "cell_type": "code",
      "metadata": {
        "id": "jcb-zZcNwtr4"
      },
      "source": [
        "data = {key: d[key] for key in d.files}"
      ],
      "execution_count": 6,
      "outputs": []
    },
    {
      "cell_type": "code",
      "metadata": {
        "colab": {
          "base_uri": "https://localhost:8080/"
        },
        "id": "9Zuq-fcUK283",
        "outputId": "209c1ecd-9750-477e-9ea0-40b1cd72c733"
      },
      "source": [
        "data['train_images'][0].shape"
      ],
      "execution_count": 7,
      "outputs": [
        {
          "output_type": "execute_result",
          "data": {
            "text/plain": [
              "(28, 28, 3)"
            ]
          },
          "metadata": {
            "tags": []
          },
          "execution_count": 7
        }
      ]
    },
    {
      "cell_type": "markdown",
      "metadata": {
        "id": "1_ioEopHrbiN"
      },
      "source": [
        "# Preprocessing"
      ]
    },
    {
      "cell_type": "code",
      "metadata": {
        "id": "w3Lex-JBPXiJ"
      },
      "source": [
        "# Display one image\n",
        "def display_one(a, title1 = \"Original\"):\n",
        "    plt.imshow(a), plt.title(title1)\n",
        "    plt.xticks([]), plt.yticks([])\n",
        "    plt.show()\n",
        "\n",
        "# Display two images\n",
        "def display(a, b, title1 = \"Original\", title2 = \"Edited\"):\n",
        "    plt.subplot(121), plt.imshow(a), plt.title(title1)\n",
        "    plt.xticks([]), plt.yticks([])\n",
        "    plt.subplot(122), plt.imshow(b), plt.title(title2)\n",
        "    plt.xticks([]), plt.yticks([])\n",
        "    plt.show()"
      ],
      "execution_count": 8,
      "outputs": []
    },
    {
      "cell_type": "markdown",
      "metadata": {
        "id": "pms-SVftPnA5"
      },
      "source": [
        "## Resize Images\n",
        "## Remove noise(Denoise)\n"
      ]
    },
    {
      "cell_type": "code",
      "metadata": {
        "id": "DPBIiSorLTsP"
      },
      "source": [
        "# resize images\n",
        "def resize_image(data):\n",
        "    img = data\n",
        "    print(len(img))\n",
        "    print('Original size',img[0].shape)\n",
        "    # setting dim of the resize\n",
        "    height = 32\n",
        "    width = 32\n",
        "    dim = (width, height)\n",
        "    res_img = []\n",
        "    for i in range(len(img)):\n",
        "        res = cv2.resize(img[i], dim, interpolation=cv2.INTER_LINEAR)\n",
        "        res_img.append(res)\n",
        "\n",
        "    # Checcking the size\n",
        "    print(\"RESIZED\", res_img[0].shape)\n",
        "    \n",
        "    # Visualizing one of the images in the array\n",
        "    original = res_img[0]\n",
        "    display_one(original)\n",
        "\n",
        "    # Remove noise\n",
        "    # Gaussian\n",
        "    #no_noise = []\n",
        "    #for i in range(len(res_img)):\n",
        "    #  blur = cv2.GaussianBlur(res_img[i], (5, 5), 0)\n",
        "    #  no_noise.append(blur)\n",
        "\n",
        "    #image = no_noise[0]\n",
        "    #display(original, image, 'Original', 'Blured')\n",
        "\n",
        "    return np.array(res_img)"
      ],
      "execution_count": 9,
      "outputs": []
    },
    {
      "cell_type": "code",
      "metadata": {
        "colab": {
          "base_uri": "https://localhost:8080/",
          "height": 929
        },
        "id": "6Zuj6Ku4LoZE",
        "outputId": "bb5eca38-39c1-440a-d97d-5f95d5f9ca73"
      },
      "source": [
        "# Resize all images\n",
        "data = dict({key: resize_image(data[key]) for key in d.files[:3]}, **{key: data[key] for key in d.files[3:]})"
      ],
      "execution_count": 10,
      "outputs": [
        {
          "output_type": "stream",
          "text": [
            "7007\n",
            "Original size (28, 28, 3)\n",
            "RESIZED (32, 32, 3)\n"
          ],
          "name": "stdout"
        },
        {
          "output_type": "display_data",
          "data": {
            "image/png": "[encoded data removed]",
            "text/plain": [
              "<Figure size 432x288 with 1 Axes>"
            ]
          },
          "metadata": {
            "tags": []
          }
        },
        {
          "output_type": "stream",
          "text": [
            "1003\n",
            "Original size (28, 28, 3)\n",
            "RESIZED (32, 32, 3)\n"
          ],
          "name": "stdout"
        },
        {
          "output_type": "display_data",
          "data": {
            "image/png": "[encoded data removed]",
            "text/plain": [
              "<Figure size 432x288 with 1 Axes>"
            ]
          },
          "metadata": {
            "tags": []
          }
        },
        {
          "output_type": "stream",
          "text": [
            "2005\n",
            "Original size (28, 28, 3)\n",
            "RESIZED (32, 32, 3)\n"
          ],
          "name": "stdout"
        },
        {
          "output_type": "display_data",
          "data": {
            "image/png": "[encoded data removed]",
            "text/plain": [
              "<Figure size 432x288 with 1 Axes>"
            ]
          },
          "metadata": {
            "tags": []
          }
        }
      ]
    },
    {
      "cell_type": "code",
      "metadata": {
        "colab": {
          "base_uri": "https://localhost:8080/"
        },
        "id": "vLtFUTBCRF3o",
        "outputId": "355c740f-3e6c-444f-a30c-d202f9515cf0"
      },
      "source": [
        "data['val_images'][6].shape"
      ],
      "execution_count": 11,
      "outputs": [
        {
          "output_type": "execute_result",
          "data": {
            "text/plain": [
              "(32, 32, 3)"
            ]
          },
          "metadata": {
            "tags": []
          },
          "execution_count": 11
        }
      ]
    },
    {
      "cell_type": "markdown",
      "metadata": {
        "id": "5XlvMNg_GBq3"
      },
      "source": [
        "# Image Data Generator"
      ]
    },
    {
      "cell_type": "code",
      "metadata": {
        "id": "jssWRiLYXtJF"
      },
      "source": [
        "from keras.preprocessing.image import ImageDataGenerator"
      ],
      "execution_count": 306,
      "outputs": []
    },
    {
      "cell_type": "code",
      "metadata": {
        "id": "Y8ckzcFBXyna"
      },
      "source": [
        "datagen = ImageDataGenerator(\n",
        "    rotation_range=30,\n",
        "    width_shift_range=10,\n",
        "    height_shift_range=10,\n",
        "    brightness_range=(0.3, 1.8),\n",
        "    shear_range=5,\n",
        "    zoom_range=0.2,\n",
        "    fill_mode = 'wrap',\n",
        "    horizontal_flip = True,\n",
        "    validation_split=0.2,\n",
        ")"
      ],
      "execution_count": 307,
      "outputs": []
    },
    {
      "cell_type": "code",
      "metadata": {
        "colab": {
          "base_uri": "https://localhost:8080/",
          "height": 266
        },
        "id": "fRX5VzCbXzbt",
        "outputId": "97b5ee13-8816-41e4-b25c-59cfc802a622"
      },
      "source": [
        "image = data['val_images'][0].reshape((-1,) + data['val_images'][0].shape)\n",
        "train_gen = datagen.flow(image, [0], batch_size=1, shuffle=False)\n",
        "X, y = train_gen.next()\n",
        "plt.imshow(X[0].astype(np.uint8))\n",
        "\n",
        "train_imgs, train_labels = [], []\n",
        "for image, label in zip(data['train_images'], data['train_labels']):\n",
        "  image = image.reshape((-1,) + image.shape)\n",
        "  rain_gen = datagen.flow(image, [0], batch_size=1, shuffle=False)\n",
        "  X, y = train_gen.next()\n",
        "  train_imgs.append(X[0].astype(np.uint8))\n",
        "  train_labels.append(label)"
      ],
      "execution_count": 308,
      "outputs": [
        {
          "output_type": "display_data",
          "data": {
            "image/png": "[encoded data removed]",
            "text/plain": [
              "<Figure size 432x288 with 1 Axes>"
            ]
          },
          "metadata": {
            "tags": [],
            "needs_background": "light"
          }
        }
      ]
    },
    {
      "cell_type": "code",
      "metadata": {
        "id": "Aa8P25g4fXi_"
      },
      "source": [
        "data['train_images'] = np.concatenate([np.array(train_imgs), data['train_images']])\n",
        "data['train_labels'] = np.concatenate([np.array(train_labels), data['train_labels']])"
      ],
      "execution_count": 309,
      "outputs": []
    },
    {
      "cell_type": "code",
      "metadata": {
        "colab": {
          "base_uri": "https://localhost:8080/"
        },
        "id": "hIotJxpufh1h",
        "outputId": "3f6b35f0-e5af-45d9-b227-bc14ca050d38"
      },
      "source": [
        "data['train_images'].shape"
      ],
      "execution_count": 310,
      "outputs": [
        {
          "output_type": "execute_result",
          "data": {
            "text/plain": [
              "(14014, 32, 32, 3)"
            ]
          },
          "metadata": {
            "tags": []
          },
          "execution_count": 310
        }
      ]
    },
    {
      "cell_type": "code",
      "metadata": {
        "colab": {
          "base_uri": "https://localhost:8080/",
          "height": 284
        },
        "id": "g8gA6qlReMj_",
        "outputId": "f4b2a202-a7df-408f-f7cd-7ed1e75f3997"
      },
      "source": [
        "plt.imshow(train_imgs[1])"
      ],
      "execution_count": 311,
      "outputs": [
        {
          "output_type": "execute_result",
          "data": {
            "text/plain": [
              "<matplotlib.image.AxesImage at 0x7f0324b53ed0>"
            ]
          },
          "metadata": {
            "tags": []
          },
          "execution_count": 311
        },
        {
          "output_type": "display_data",
          "data": {
            "image/png": "[encoded data removed]",
            "text/plain": [
              "<Figure size 432x288 with 1 Axes>"
            ]
          },
          "metadata": {
            "tags": [],
            "needs_background": "light"
          }
        }
      ]
    },
    {
      "cell_type": "code",
      "metadata": {
        "colab": {
          "base_uri": "https://localhost:8080/"
        },
        "id": "tvHE0ei8dA8u",
        "outputId": "35ee2451-3874-4a10-f720-e84d94a3f831"
      },
      "source": [
        "X[0].astype(np.uint8).shape"
      ],
      "execution_count": 312,
      "outputs": [
        {
          "output_type": "execute_result",
          "data": {
            "text/plain": [
              "(32, 32, 3)"
            ]
          },
          "metadata": {
            "tags": []
          },
          "execution_count": 312
        }
      ]
    },
    {
      "cell_type": "code",
      "metadata": {
        "colab": {
          "base_uri": "https://localhost:8080/",
          "height": 284
        },
        "id": "eW4HGx_aZ6VM",
        "outputId": "0eeda29e-8160-415e-bcb7-00cc4594cb14"
      },
      "source": [
        "plt.imshow(data['train_images'][1].astype(np.uint8))"
      ],
      "execution_count": 313,
      "outputs": [
        {
          "output_type": "execute_result",
          "data": {
            "text/plain": [
              "<matplotlib.image.AxesImage at 0x7f0320bf4c10>"
            ]
          },
          "metadata": {
            "tags": []
          },
          "execution_count": 313
        },
        {
          "output_type": "display_data",
          "data": {
            "image/png": "[encoded data removed]",
            "text/plain": [
              "<Figure size 432x288 with 1 Axes>"
            ]
          },
          "metadata": {
            "tags": [],
            "needs_background": "light"
          }
        }
      ]
    },
    {
      "cell_type": "markdown",
      "metadata": {
        "id": "20jTd0rQrUe1"
      },
      "source": [
        "# Concat train, val and test, then shuffle and split"
      ]
    },
    {
      "cell_type": "code",
      "metadata": {
        "id": "qCwsOLFyrTb2"
      },
      "source": [
        "combined_images = np.concatenate([data['train_images'], data['val_images'], data['test_images']])\n",
        "combined_labels = np.concatenate([data['train_labels'], data['val_labels'], data['test_labels']])"
      ],
      "execution_count": 12,
      "outputs": []
    },
    {
      "cell_type": "code",
      "metadata": {
        "colab": {
          "base_uri": "https://localhost:8080/"
        },
        "id": "8NEVcFV8rgaV",
        "outputId": "94e9c4ca-be14-4915-8f91-5bdc7f4d2f39"
      },
      "source": [
        "combined_images.shape"
      ],
      "execution_count": 13,
      "outputs": [
        {
          "output_type": "execute_result",
          "data": {
            "text/plain": [
              "(10015, 32, 32, 3)"
            ]
          },
          "metadata": {
            "tags": []
          },
          "execution_count": 13
        }
      ]
    },
    {
      "cell_type": "code",
      "metadata": {
        "id": "Qy3sseemrg6K"
      },
      "source": [
        "c = np.c_[combined_images.reshape(len(combined_images), -1), combined_labels.reshape(len(combined_labels), -1)]"
      ],
      "execution_count": 14,
      "outputs": []
    },
    {
      "cell_type": "code",
      "metadata": {
        "id": "uvq2u0EQrl8u"
      },
      "source": [
        "np.random.shuffle(c)"
      ],
      "execution_count": 15,
      "outputs": []
    },
    {
      "cell_type": "code",
      "metadata": {
        "id": "8yMjWKSVrpR4"
      },
      "source": [
        "shuffled_images = c[:, :combined_images.size//len(combined_images)].reshape(combined_images.shape)\n",
        "shuffled_labels = c[:, combined_images.size//len(combined_images):].reshape(combined_labels.shape)"
      ],
      "execution_count": 16,
      "outputs": []
    },
    {
      "cell_type": "code",
      "metadata": {
        "colab": {
          "base_uri": "https://localhost:8080/"
        },
        "id": "c2ZH0EXlruVf",
        "outputId": "8c03f78f-784f-45a2-ebfc-6f8eb69b4181"
      },
      "source": [
        "shuffled_images.shape"
      ],
      "execution_count": 17,
      "outputs": [
        {
          "output_type": "execute_result",
          "data": {
            "text/plain": [
              "(10015, 32, 32, 3)"
            ]
          },
          "metadata": {
            "tags": []
          },
          "execution_count": 17
        }
      ]
    },
    {
      "cell_type": "code",
      "metadata": {
        "colab": {
          "base_uri": "https://localhost:8080/"
        },
        "id": "jISxmcmAD5a9",
        "outputId": "4c930d9f-a2c2-4f76-f078-da2dbd3fd085"
      },
      "source": [
        "shuffled_labels.shape"
      ],
      "execution_count": 18,
      "outputs": [
        {
          "output_type": "execute_result",
          "data": {
            "text/plain": [
              "(10015, 1)"
            ]
          },
          "metadata": {
            "tags": []
          },
          "execution_count": 18
        }
      ]
    },
    {
      "cell_type": "code",
      "metadata": {
        "colab": {
          "base_uri": "https://localhost:8080/",
          "height": 284
        },
        "id": "xdbC68G1sII_",
        "outputId": "29b77e78-0c59-4b30-8865-999952cc3a85"
      },
      "source": [
        "plt.imshow(shuffled_images[0])\n",
        "print(shuffled_labels[0])"
      ],
      "execution_count": 19,
      "outputs": [
        {
          "output_type": "stream",
          "text": [
            "[2]\n"
          ],
          "name": "stdout"
        },
        {
          "output_type": "display_data",
          "data": {
            "image/png": "[encoded data removed]",
            "text/plain": [
              "<Figure size 432x288 with 1 Axes>"
            ]
          },
          "metadata": {
            "tags": [],
            "needs_background": "light"
          }
        }
      ]
    },
    {
      "cell_type": "code",
      "metadata": {
        "id": "CcnZm0os1VsX"
      },
      "source": [
        "# split train, val and test\n",
        "[data['train_images'], data['val_images'], data['test_images']] = np.split(shuffled_images, [int(.4 * len(shuffled_images)), int(.7 * len(shuffled_images))])\n",
        "[data['train_labels'], data['val_labels'], data['test_labels']] = np.split(shuffled_labels, [int(.4 * len(shuffled_labels)), int(.7 * len(shuffled_labels))])"
      ],
      "execution_count": 20,
      "outputs": []
    },
    {
      "cell_type": "code",
      "metadata": {
        "id": "d-CP344Hq_Qs"
      },
      "source": [
        "for tag in list(data.keys())[:3]:\n",
        "  # convert from integers to floats\n",
        "  data[tag] = data[tag].astype('float32')\n",
        "  # normalize to range 0-1\n",
        "  data[tag] /= 255\n",
        "\n",
        "# one hot y values\n",
        "for tag in list(data.keys())[3:]:\n",
        "  data[tag] = to_categorical(data[tag])"
      ],
      "execution_count": 21,
      "outputs": []
    },
    {
      "cell_type": "code",
      "metadata": {
        "colab": {
          "base_uri": "https://localhost:8080/"
        },
        "id": "hFRRejkIwBdU",
        "outputId": "39c2fb13-e2da-4b2e-92b4-d5dd9d8f79ce"
      },
      "source": [
        "data['test_images'].shape"
      ],
      "execution_count": 22,
      "outputs": [
        {
          "output_type": "execute_result",
          "data": {
            "text/plain": [
              "(3005, 32, 32, 3)"
            ]
          },
          "metadata": {
            "tags": []
          },
          "execution_count": 22
        }
      ]
    },
    {
      "cell_type": "markdown",
      "metadata": {
        "id": "jbRz5ZgQZma8"
      },
      "source": [
        "# VGG Model"
      ]
    },
    {
      "cell_type": "code",
      "metadata": {
        "id": "xGLU6TYhZqIT"
      },
      "source": [
        "import tensorflow as tf\n",
        "from tensorflow.keras import Sequential\n",
        "from tensorflow.keras.regularizers import l1, l2\n",
        "from tensorflow.keras.layers import Conv2D, MaxPool2D, Flatten, Dense, Dropout\n",
        "from tensorflow.keras.utils import to_categorical\n",
        "from tensorflow.keras.optimizers import *\n",
        "from tensorflow.keras.losses import *\n",
        "from tensorflow.keras.layers import *\n",
        "from tensorflow.keras.activations import *"
      ],
      "execution_count": 23,
      "outputs": []
    },
    {
      "cell_type": "code",
      "metadata": {
        "colab": {
          "base_uri": "https://localhost:8080/"
        },
        "id": "GYuDQ47lYvVq",
        "outputId": "ef38c618-c2be-4cc1-eb78-be218cf80859"
      },
      "source": [
        "model = Sequential()\n",
        "\n",
        "model.add(Conv2D(128, (3, 3), activation='relu', padding='same', input_shape=data['train_images'][0].shape, kernel_regularizer=l2(0.0001), kernel_initializer='he_uniform'))\n",
        "model.add(Conv2D(128, (3, 3), activation='relu', padding='same', kernel_regularizer=l2(0.0001), kernel_initializer='he_uniform'))\n",
        "model.add(MaxPool2D((4, 4), strides=(2, 2)))\n",
        "model.add(Dropout(0.05))\n",
        "\n",
        "model.add(Conv2D(256, (3, 3), activation='relu', padding='same', kernel_regularizer=l2(0.001), kernel_initializer='he_uniform'))\n",
        "model.add(Conv2D(256, (3, 3), activation='relu', padding='same', kernel_regularizer=l2(0.001), kernel_initializer='he_uniform'))\n",
        "model.add(MaxPool2D((4, 4), strides=(2, 2)))\n",
        "model.add(Dropout(0.1))\n",
        "\n",
        "model.add(Conv2D(512, (3, 3), activation='relu', padding='same', kernel_regularizer=l2(0.0001), kernel_initializer='he_uniform'))\n",
        "model.add(Conv2D(512, (3, 3), activation='relu', padding='same', kernel_regularizer=l2(0.001), kernel_initializer='he_uniform'))\n",
        "model.add(MaxPool2D((4, 4), strides=(2, 2)))\n",
        "model.add(Dropout(0.05))\n",
        "\n",
        "model.add(Flatten())\n",
        "\n",
        "model.add(Dense(128, activation='relu', kernel_regularizer=l2(0.0001), kernel_initializer='he_uniform'))\n",
        "model.add(Dropout(0.05))\n",
        "model.add(Dense(7, activation='softmax'))\n",
        "\n",
        "model.summary()"
      ],
      "execution_count": 32,
      "outputs": [
        {
          "output_type": "stream",
          "text": [
            "Model: \"sequential_1\"\n",
            "_________________________________________________________________\n",
            "Layer (type)                 Output Shape              Param #   \n",
            "=================================================================\n",
            "conv2d_6 (Conv2D)            (None, 32, 32, 128)       3584      \n",
            "_________________________________________________________________\n",
            "conv2d_7 (Conv2D)            (None, 32, 32, 128)       147584    \n",
            "_________________________________________________________________\n",
            "max_pooling2d_3 (MaxPooling2 (None, 15, 15, 128)       0         \n",
            "_________________________________________________________________\n",
            "dropout_4 (Dropout)          (None, 15, 15, 128)       0         \n",
            "_________________________________________________________________\n",
            "conv2d_8 (Conv2D)            (None, 15, 15, 256)       295168    \n",
            "_________________________________________________________________\n",
            "conv2d_9 (Conv2D)            (None, 15, 15, 256)       590080    \n",
            "_________________________________________________________________\n",
            "max_pooling2d_4 (MaxPooling2 (None, 6, 6, 256)         0         \n",
            "_________________________________________________________________\n",
            "dropout_5 (Dropout)          (None, 6, 6, 256)         0         \n",
            "_________________________________________________________________\n",
            "conv2d_10 (Conv2D)           (None, 6, 6, 512)         1180160   \n",
            "_________________________________________________________________\n",
            "conv2d_11 (Conv2D)           (None, 6, 6, 512)         2359808   \n",
            "_________________________________________________________________\n",
            "max_pooling2d_5 (MaxPooling2 (None, 2, 2, 512)         0         \n",
            "_________________________________________________________________\n",
            "dropout_6 (Dropout)          (None, 2, 2, 512)         0         \n",
            "_________________________________________________________________\n",
            "flatten_1 (Flatten)          (None, 2048)              0         \n",
            "_________________________________________________________________\n",
            "dense_2 (Dense)              (None, 128)               262272    \n",
            "_________________________________________________________________\n",
            "dropout_7 (Dropout)          (None, 128)               0         \n",
            "_________________________________________________________________\n",
            "dense_3 (Dense)              (None, 7)                 903       \n",
            "=================================================================\n",
            "Total params: 4,839,559\n",
            "Trainable params: 4,839,559\n",
            "Non-trainable params: 0\n",
            "_________________________________________________________________\n"
          ],
          "name": "stdout"
        }
      ]
    },
    {
      "cell_type": "code",
      "metadata": {
        "id": "jqe598n-Z7mW"
      },
      "source": [
        "model.compile(optimizer=Adam(learning_rate=0.0001), loss='categorical_crossentropy', metrics=['acc'])"
      ],
      "execution_count": 33,
      "outputs": []
    },
    {
      "cell_type": "code",
      "metadata": {
        "colab": {
          "base_uri": "https://localhost:8080/"
        },
        "id": "3h_7GPM1aGu5",
        "outputId": "949f0f8f-9c95-4ffe-f5f6-926e7d4935cf"
      },
      "source": [
        "history = model.fit(data['train_images'], data['train_labels'], batch_size=32, epochs=30, validation_data=(data['val_images'], data['val_labels']))"
      ],
      "execution_count": 34,
      "outputs": [
        {
          "output_type": "stream",
          "text": [
            "Epoch 1/30\n",
            "126/126 [==============================] - 4s 28ms/step - loss: 3.1629 - acc: 0.6553 - val_loss: 2.8847 - val_acc: 0.6648\n",
            "Epoch 2/30\n",
            "126/126 [==============================] - 3s 26ms/step - loss: 2.7252 - acc: 0.6658 - val_loss: 2.5965 - val_acc: 0.6791\n",
            "Epoch 3/30\n",
            "126/126 [==============================] - 3s 26ms/step - loss: 2.5000 - acc: 0.6750 - val_loss: 2.4300 - val_acc: 0.6801\n",
            "Epoch 4/30\n",
            "126/126 [==============================] - 3s 25ms/step - loss: 2.3344 - acc: 0.6840 - val_loss: 2.3125 - val_acc: 0.6694\n",
            "Epoch 5/30\n",
            "126/126 [==============================] - 3s 26ms/step - loss: 2.2130 - acc: 0.6887 - val_loss: 2.1501 - val_acc: 0.6894\n",
            "Epoch 6/30\n",
            "126/126 [==============================] - 3s 26ms/step - loss: 2.1008 - acc: 0.6937 - val_loss: 2.0690 - val_acc: 0.6858\n",
            "Epoch 7/30\n",
            "126/126 [==============================] - 3s 26ms/step - loss: 2.0047 - acc: 0.7029 - val_loss: 2.0037 - val_acc: 0.6974\n",
            "Epoch 8/30\n",
            "126/126 [==============================] - 3s 26ms/step - loss: 1.9117 - acc: 0.7204 - val_loss: 1.9143 - val_acc: 0.7097\n",
            "Epoch 9/30\n",
            "126/126 [==============================] - 3s 26ms/step - loss: 1.8416 - acc: 0.7179 - val_loss: 1.8172 - val_acc: 0.7174\n",
            "Epoch 10/30\n",
            "126/126 [==============================] - 3s 26ms/step - loss: 1.7828 - acc: 0.7192 - val_loss: 1.8055 - val_acc: 0.7130\n",
            "Epoch 11/30\n",
            "126/126 [==============================] - 3s 26ms/step - loss: 1.7163 - acc: 0.7317 - val_loss: 1.7336 - val_acc: 0.7297\n",
            "Epoch 12/30\n",
            "126/126 [==============================] - 3s 26ms/step - loss: 1.6569 - acc: 0.7361 - val_loss: 1.6688 - val_acc: 0.7320\n",
            "Epoch 13/30\n",
            "126/126 [==============================] - 3s 26ms/step - loss: 1.6084 - acc: 0.7396 - val_loss: 1.6559 - val_acc: 0.7140\n",
            "Epoch 14/30\n",
            "126/126 [==============================] - 3s 26ms/step - loss: 1.5649 - acc: 0.7421 - val_loss: 1.5812 - val_acc: 0.7330\n",
            "Epoch 15/30\n",
            "126/126 [==============================] - 3s 26ms/step - loss: 1.5132 - acc: 0.7459 - val_loss: 1.5600 - val_acc: 0.7280\n",
            "Epoch 16/30\n",
            "126/126 [==============================] - 3s 26ms/step - loss: 1.4644 - acc: 0.7541 - val_loss: 1.5308 - val_acc: 0.7174\n",
            "Epoch 17/30\n",
            "126/126 [==============================] - 3s 26ms/step - loss: 1.4165 - acc: 0.7594 - val_loss: 1.5074 - val_acc: 0.7240\n",
            "Epoch 18/30\n",
            "126/126 [==============================] - 4s 31ms/step - loss: 1.3953 - acc: 0.7561 - val_loss: 1.5085 - val_acc: 0.7101\n",
            "Epoch 19/30\n",
            "126/126 [==============================] - 3s 26ms/step - loss: 1.3602 - acc: 0.7666 - val_loss: 1.4766 - val_acc: 0.7240\n",
            "Epoch 20/30\n",
            "126/126 [==============================] - 3s 26ms/step - loss: 1.3137 - acc: 0.7718 - val_loss: 1.4579 - val_acc: 0.7207\n",
            "Epoch 21/30\n",
            "126/126 [==============================] - 3s 26ms/step - loss: 1.2999 - acc: 0.7581 - val_loss: 1.4178 - val_acc: 0.7330\n",
            "Epoch 22/30\n",
            "126/126 [==============================] - 3s 26ms/step - loss: 1.2554 - acc: 0.7763 - val_loss: 1.3727 - val_acc: 0.7277\n",
            "Epoch 23/30\n",
            "126/126 [==============================] - 3s 26ms/step - loss: 1.2007 - acc: 0.7841 - val_loss: 1.3970 - val_acc: 0.7314\n",
            "Epoch 24/30\n",
            "126/126 [==============================] - 3s 26ms/step - loss: 1.1825 - acc: 0.7843 - val_loss: 1.3500 - val_acc: 0.7360\n",
            "Epoch 25/30\n",
            "126/126 [==============================] - 3s 26ms/step - loss: 1.1451 - acc: 0.8013 - val_loss: 1.3242 - val_acc: 0.7330\n",
            "Epoch 26/30\n",
            "126/126 [==============================] - 3s 25ms/step - loss: 1.1164 - acc: 0.8023 - val_loss: 1.3468 - val_acc: 0.7284\n",
            "Epoch 27/30\n",
            "126/126 [==============================] - 3s 26ms/step - loss: 1.0817 - acc: 0.8095 - val_loss: 1.3070 - val_acc: 0.7297\n",
            "Epoch 28/30\n",
            "126/126 [==============================] - 3s 25ms/step - loss: 1.0591 - acc: 0.8160 - val_loss: 1.2869 - val_acc: 0.7357\n",
            "Epoch 29/30\n",
            "126/126 [==============================] - 3s 25ms/step - loss: 1.0135 - acc: 0.8275 - val_loss: 1.3442 - val_acc: 0.7280\n",
            "Epoch 30/30\n",
            "126/126 [==============================] - 3s 25ms/step - loss: 1.0082 - acc: 0.8198 - val_loss: 1.3284 - val_acc: 0.7340\n"
          ],
          "name": "stdout"
        }
      ]
    },
    {
      "cell_type": "code",
      "metadata": {
        "colab": {
          "base_uri": "https://localhost:8080/",
          "height": 282
        },
        "id": "ywns2S9GaKEF",
        "outputId": "cf9a0fca-7599-45b0-b04d-4e9199ea23bc"
      },
      "source": [
        "plt.plot(history.history['loss'], 'b-o')\n",
        "plt.plot(history.history['val_loss'], 'r--o')"
      ],
      "execution_count": 35,
      "outputs": [
        {
          "output_type": "execute_result",
          "data": {
            "text/plain": [
              "[<matplotlib.lines.Line2D at 0x7f77c2201c90>]"
            ]
          },
          "metadata": {
            "tags": []
          },
          "execution_count": 35
        },
        {
          "output_type": "display_data",
          "data": {
            "image/png": "[encoded data removed]",
            "text/plain": [
              "<Figure size 432x288 with 1 Axes>"
            ]
          },
          "metadata": {
            "tags": [],
            "needs_background": "light"
          }
        }
      ]
    },
    {
      "cell_type": "code",
      "metadata": {
        "colab": {
          "base_uri": "https://localhost:8080/",
          "height": 282
        },
        "id": "NAmAGsJefxNt",
        "outputId": "515b37ea-be57-42d6-899f-450e9842334a"
      },
      "source": [
        "plt.plot(history.history['acc'], 'b-o')\n",
        "plt.plot(history.history['val_acc'], 'r--o')"
      ],
      "execution_count": 37,
      "outputs": [
        {
          "output_type": "execute_result",
          "data": {
            "text/plain": [
              "[<matplotlib.lines.Line2D at 0x7f77c002dd10>]"
            ]
          },
          "metadata": {
            "tags": []
          },
          "execution_count": 37
        },
        {
          "output_type": "display_data",
          "data": {
            "image/png": "[encoded data removed]",
            "text/plain": [
              "<Figure size 432x288 with 1 Axes>"
            ]
          },
          "metadata": {
            "tags": [],
            "needs_background": "light"
          }
        }
      ]
    },
    {
      "cell_type": "code",
      "metadata": {
        "colab": {
          "base_uri": "https://localhost:8080/"
        },
        "id": "PaVltZrkaP5q",
        "outputId": "7a3ff613-83af-4160-87f8-06f09ab05bda"
      },
      "source": [
        "model.evaluate(data['test_images'], data['test_labels'])"
      ],
      "execution_count": 38,
      "outputs": [
        {
          "output_type": "stream",
          "text": [
            "94/94 [==============================] - 1s 8ms/step - loss: 1.2763 - acc: 0.7494\n"
          ],
          "name": "stdout"
        },
        {
          "output_type": "execute_result",
          "data": {
            "text/plain": [
              "[1.276321530342102, 0.7494176626205444]"
            ]
          },
          "metadata": {
            "tags": []
          },
          "execution_count": 38
        }
      ]
    },
    {
      "cell_type": "code",
      "metadata": {
        "id": "yZqem9cEVjbZ",
        "colab": {
          "base_uri": "https://localhost:8080/",
          "height": 569
        },
        "outputId": "25a87f05-2374-4bfc-a6e8-02980db4c1d9"
      },
      "source": [
        "from sklearn.metrics import confusion_matrix\n",
        "from sklearn.metrics import plot_confusion_matrix\n",
        "import pandas as pd\n",
        "import seaborn as sn\n",
        "\n",
        "\n",
        "pred_test_values = np.argmax(model.predict(data['test_images']), axis=1)\n",
        "y_test_arg = np.argmax(data['test_labels'], axis=1)\n",
        "\n",
        "cm = confusion_matrix(pred_test_values, y_test_arg)\n",
        "print(cm)\n",
        "\n",
        "target_labels = '1234567'\n",
        "df_cm = pd.DataFrame(cm, index = [i for i in target_labels],\n",
        "                  columns = [i for i in target_labels])\n",
        "plt.figure(figsize = (10,7))\n",
        "sn.heatmap(df_cm, annot=True, fmt='g')"
      ],
      "execution_count": 39,
      "outputs": [
        {
          "output_type": "stream",
          "text": [
            "[[  12    2    6    4    3    0    0]\n",
            " [  33  110   52   17   14   25    3]\n",
            " [  15   13  130    2   34   60    0]\n",
            " [   0    0    0    0    0    0    0]\n",
            " [   1    1    5    1   59   17    2]\n",
            " [  18   27  134   10  230 1929   12]\n",
            " [   0    0    1    0    5    6   12]]\n"
          ],
          "name": "stdout"
        },
        {
          "output_type": "execute_result",
          "data": {
            "text/plain": [
              "<matplotlib.axes._subplots.AxesSubplot at 0x7f77ca60ebd0>"
            ]
          },
          "metadata": {
            "tags": []
          },
          "execution_count": 39
        },
        {
          "output_type": "display_data",
          "data": {
            "image/png": "[encoded data removed]",
            "text/plain": [
              "<Figure size 720x504 with 2 Axes>"
            ]
          },
          "metadata": {
            "tags": [],
            "needs_background": "light"
          }
        }
      ]
    },
    {
      "cell_type": "code",
      "metadata": {
        "colab": {
          "base_uri": "https://localhost:8080/"
        },
        "id": "gEOaKVkqrBZK",
        "outputId": "655510b1-39f2-4a39-a98a-c1ae76663689"
      },
      "source": [
        "from sklearn.metrics import classification_report\n",
        "from sklearn.metrics import accuracy_score\n",
        "\n",
        "print(classification_report(y_test_arg, pred_test_values, target_names=target_labels, digits=4))"
      ],
      "execution_count": 40,
      "outputs": [
        {
          "output_type": "stream",
          "text": [
            "              precision    recall  f1-score   support\n",
            "\n",
            "           1     0.4444    0.1519    0.2264        79\n",
            "           2     0.4331    0.7190    0.5405       153\n",
            "           3     0.5118    0.3963    0.4467       328\n",
            "           4     0.0000    0.0000    0.0000        34\n",
            "           5     0.6860    0.1710    0.2738       345\n",
            "           6     0.8174    0.9470    0.8774      2037\n",
            "           7     0.5000    0.4138    0.4528        29\n",
            "\n",
            "    accuracy                         0.7494      3005\n",
            "   macro avg     0.4847    0.3999    0.4025      3005\n",
            "weighted avg     0.7273    0.7494    0.7128      3005\n",
            "\n"
          ],
          "name": "stdout"
        },
        {
          "output_type": "stream",
          "text": [
            "/usr/local/lib/python3.7/dist-packages/sklearn/metrics/_classification.py:1272: UndefinedMetricWarning: Precision and F-score are ill-defined and being set to 0.0 in labels with no predicted samples. Use `zero_division` parameter to control this behavior.\n",
            "  _warn_prf(average, modifier, msg_start, len(result))\n"
          ],
          "name": "stderr"
        }
      ]
    },
    {
      "cell_type": "code",
      "metadata": {
        "id": "MGt33VR39O3H"
      },
      "source": [
        ""
      ],
      "execution_count": null,
      "outputs": []
    }
  ]
}