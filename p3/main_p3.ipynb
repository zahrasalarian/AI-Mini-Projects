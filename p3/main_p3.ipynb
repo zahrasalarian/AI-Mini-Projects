{
  "nbformat": 4,
  "nbformat_minor": 0,
  "metadata": {
    "accelerator": "GPU",
    "colab": {
      "name": "main_p3 (2).ipynb",
      "provenance": [],
      "collapsed_sections": []
    },
    "kernelspec": {
      "display_name": "Python 3",
      "name": "python3"
    },
    "language_info": {
      "name": "python"
    }
  },
  "cells": [
    {
      "cell_type": "markdown",
      "metadata": {
        "id": "BMxk4i8hrTU6"
      },
      "source": [
        "# Load data"
      ]
    },
    {
      "cell_type": "code",
      "metadata": {
        "colab": {
          "base_uri": "https://localhost:8080/"
        },
        "id": "E5fNVEUun2ZF",
        "outputId": "69b724c8-86a1-4d28-e1a0-b74ab66e2a19"
      },
      "source": [
        "!wget -O Data.npz https://zenodo.org/record/4269852/files/dermamnist.npz?download=1"
      ],
      "execution_count": 1,
      "outputs": [
        {
          "output_type": "stream",
          "text": [
            "--2021-08-16 17:38:41--  https://zenodo.org/record/4269852/files/dermamnist.npz?download=1\n",
            "Resolving zenodo.org (zenodo.org)... 137.138.76.77\n",
            "Connecting to zenodo.org (zenodo.org)|137.138.76.77|:443... connected.\n",
            "HTTP request sent, awaiting response... 200 OK\n",
            "Length: 19725078 (19M) [application/octet-stream]\n",
            "Saving to: ‘Data.npz’\n",
            "\n",
            "Data.npz            100%[===================>]  18.81M  2.72MB/s    in 15s     \n",
            "\n",
            "2021-08-16 17:38:59 (1.22 MB/s) - ‘Data.npz’ saved [19725078/19725078]\n",
            "\n"
          ],
          "name": "stdout"
        }
      ]
    },
    {
      "cell_type": "code",
      "metadata": {
        "id": "x7ZUY6vVtbWX"
      },
      "source": [
        "import matplotlib.pyplot as plt   \n",
        "import numpy as np\n",
        "import matplotlib.image as mpimg\n",
        "import cv2\n",
        "from tensorflow.keras.utils import to_categorical\n",
        "import operator"
      ],
      "execution_count": 2,
      "outputs": []
    },
    {
      "cell_type": "code",
      "metadata": {
        "colab": {
          "base_uri": "https://localhost:8080/"
        },
        "id": "9ithl4SfqlN5",
        "outputId": "a21921f6-d107-409a-bf64-44005ba18b91"
      },
      "source": [
        "d = np.load('Data.npz')\n",
        "print(d.files)"
      ],
      "execution_count": 3,
      "outputs": [
        {
          "output_type": "stream",
          "text": [
            "['train_images', 'val_images', 'test_images', 'train_labels', 'val_labels', 'test_labels']\n"
          ],
          "name": "stdout"
        }
      ]
    },
    {
      "cell_type": "code",
      "metadata": {
        "colab": {
          "base_uri": "https://localhost:8080/"
        },
        "id": "KEZ6ktGDq4O_",
        "outputId": "8d6cfe76-f7a6-460e-fd4c-c71c37b86666"
      },
      "source": [
        "print(d['train_labels'].shape)"
      ],
      "execution_count": 4,
      "outputs": [
        {
          "output_type": "stream",
          "text": [
            "(7007, 1)\n"
          ],
          "name": "stdout"
        }
      ]
    },
    {
      "cell_type": "code",
      "metadata": {
        "colab": {
          "base_uri": "https://localhost:8080/",
          "height": 304
        },
        "id": "KWzqjD2xtCYT",
        "outputId": "63e307ae-8cd5-449f-bebb-1cc8bf95808c"
      },
      "source": [
        "print('Train: X=%s, y=%s' % (d['train_images'].shape, d['train_labels'].shape))\n",
        "print('Test: X=%s, y=%s' % (d['test_images'].shape, d['test_labels'].shape))\n",
        "# plot some images\n",
        "for i in range(4):\n",
        "\tplt.subplot(220 + 1 + i)\n",
        "\tplt.imshow(d['train_images'][i])\n",
        "plt.show()"
      ],
      "execution_count": 5,
      "outputs": [
        {
          "output_type": "stream",
          "text": [
            "Train: X=(7007, 28, 28, 3), y=(7007, 1)\n",
            "Test: X=(2005, 28, 28, 3), y=(2005, 1)\n"
          ],
          "name": "stdout"
        },
        {
          "output_type": "display_data",
          "data": {
            "image/png": "[encoded data removed]",
            "text/plain": [
              "<Figure size 432x288 with 4 Axes>"
            ]
          },
          "metadata": {
            "tags": [],
            "needs_background": "light"
          }
        }
      ]
    },
    {
      "cell_type": "code",
      "metadata": {
        "id": "jcb-zZcNwtr4"
      },
      "source": [
        "data = {key: d[key] for key in d.files}"
      ],
      "execution_count": 6,
      "outputs": []
    },
    {
      "cell_type": "code",
      "metadata": {
        "colab": {
          "base_uri": "https://localhost:8080/"
        },
        "id": "9Zuq-fcUK283",
        "outputId": "e71e02f3-01c0-440e-d641-0bcf91d1589c"
      },
      "source": [
        "data['train_images'][0].shape"
      ],
      "execution_count": 7,
      "outputs": [
        {
          "output_type": "execute_result",
          "data": {
            "text/plain": [
              "(28, 28, 3)"
            ]
          },
          "metadata": {
            "tags": []
          },
          "execution_count": 7
        }
      ]
    },
    {
      "cell_type": "markdown",
      "metadata": {
        "id": "1_ioEopHrbiN"
      },
      "source": [
        "# Preprocessing"
      ]
    },
    {
      "cell_type": "code",
      "metadata": {
        "id": "w3Lex-JBPXiJ"
      },
      "source": [
        "# Display one image\n",
        "def display_one(a, title1 = \"Original\"):\n",
        "    plt.imshow(a), plt.title(title1)\n",
        "    plt.xticks([]), plt.yticks([])\n",
        "    plt.show()\n",
        "\n",
        "# Display two images\n",
        "def display(a, b, title1 = \"Original\", title2 = \"Edited\"):\n",
        "    plt.subplot(121), plt.imshow(a), plt.title(title1)\n",
        "    plt.xticks([]), plt.yticks([])\n",
        "    plt.subplot(122), plt.imshow(b), plt.title(title2)\n",
        "    plt.xticks([]), plt.yticks([])\n",
        "    plt.show()"
      ],
      "execution_count": 8,
      "outputs": []
    },
    {
      "cell_type": "markdown",
      "metadata": {
        "id": "pms-SVftPnA5"
      },
      "source": [
        "## Resize Images"
      ]
    },
    {
      "cell_type": "code",
      "metadata": {
        "id": "DPBIiSorLTsP"
      },
      "source": [
        "# resize images\n",
        "def resize_image(data):\n",
        "    img = data\n",
        "    print(len(img))\n",
        "    print('Original size',img[0].shape)\n",
        "    # setting dim of the resize\n",
        "    height = 32\n",
        "    width = 32\n",
        "    dim = (width, height)\n",
        "    res_img = []\n",
        "    for i in range(len(img)):\n",
        "        res = cv2.resize(img[i], dim, interpolation=cv2.INTER_LINEAR)\n",
        "        res_img.append(res)\n",
        "\n",
        "    # Checcking the size\n",
        "    print(\"RESIZED\", res_img[0].shape)\n",
        "    \n",
        "    # Visualizing one of the images in the array\n",
        "    original = res_img[0]\n",
        "    display_one(original)\n",
        "\n",
        "    return np.array(res_img)"
      ],
      "execution_count": 9,
      "outputs": []
    },
    {
      "cell_type": "code",
      "metadata": {
        "colab": {
          "base_uri": "https://localhost:8080/",
          "height": 930
        },
        "id": "6Zuj6Ku4LoZE",
        "outputId": "0e76974d-c92d-4a9f-82e8-8da869ba0982"
      },
      "source": [
        "# Resize all images\n",
        "data = dict({key: resize_image(data[key]) for key in d.files[:3]}, **{key: data[key] for key in d.files[3:]})"
      ],
      "execution_count": 10,
      "outputs": [
        {
          "output_type": "stream",
          "text": [
            "7007\n",
            "Original size (28, 28, 3)\n",
            "RESIZED (32, 32, 3)\n"
          ],
          "name": "stdout"
        },
        {
          "output_type": "display_data",
          "data": {
            "image/png": "[encoded data removed]",
            "text/plain": [
              "<Figure size 432x288 with 1 Axes>"
            ]
          },
          "metadata": {
            "tags": []
          }
        },
        {
          "output_type": "stream",
          "text": [
            "1003\n",
            "Original size (28, 28, 3)\n",
            "RESIZED (32, 32, 3)\n"
          ],
          "name": "stdout"
        },
        {
          "output_type": "display_data",
          "data": {
            "image/png": "[encoded data removed]",
            "text/plain": [
              "<Figure size 432x288 with 1 Axes>"
            ]
          },
          "metadata": {
            "tags": []
          }
        },
        {
          "output_type": "stream",
          "text": [
            "2005\n",
            "Original size (28, 28, 3)\n",
            "RESIZED (32, 32, 3)\n"
          ],
          "name": "stdout"
        },
        {
          "output_type": "display_data",
          "data": {
            "image/png": "[encoded data removed]",
            "text/plain": [
              "<Figure size 432x288 with 1 Axes>"
            ]
          },
          "metadata": {
            "tags": []
          }
        }
      ]
    },
    {
      "cell_type": "code",
      "metadata": {
        "colab": {
          "base_uri": "https://localhost:8080/"
        },
        "id": "vLtFUTBCRF3o",
        "outputId": "b17ffce4-d53e-4417-c6e6-3790b14edbfe"
      },
      "source": [
        "data['val_images'][6].shape"
      ],
      "execution_count": 11,
      "outputs": [
        {
          "output_type": "execute_result",
          "data": {
            "text/plain": [
              "(32, 32, 3)"
            ]
          },
          "metadata": {
            "tags": []
          },
          "execution_count": 11
        }
      ]
    },
    {
      "cell_type": "markdown",
      "metadata": {
        "id": "20jTd0rQrUe1"
      },
      "source": [
        "# Concat train, val and test, then shuffle and split"
      ]
    },
    {
      "cell_type": "code",
      "metadata": {
        "id": "qCwsOLFyrTb2"
      },
      "source": [
        "combined_images = np.concatenate([data['train_images'], data['val_images'], data['test_images']])\n",
        "combined_labels = np.concatenate([data['train_labels'], data['val_labels'], data['test_labels']])\n",
        "\n",
        "original_size = combined_images.shape[0]"
      ],
      "execution_count": 12,
      "outputs": []
    },
    {
      "cell_type": "code",
      "metadata": {
        "colab": {
          "base_uri": "https://localhost:8080/"
        },
        "id": "8NEVcFV8rgaV",
        "outputId": "77b090f1-6300-461b-e227-20ada7f0d18d"
      },
      "source": [
        "combined_images.shape"
      ],
      "execution_count": 13,
      "outputs": [
        {
          "output_type": "execute_result",
          "data": {
            "text/plain": [
              "(10015, 32, 32, 3)"
            ]
          },
          "metadata": {
            "tags": []
          },
          "execution_count": 13
        }
      ]
    },
    {
      "cell_type": "code",
      "metadata": {
        "id": "Qy3sseemrg6K"
      },
      "source": [
        "c = np.c_[combined_images.reshape(len(combined_images), -1), combined_labels.reshape(len(combined_labels), -1)]"
      ],
      "execution_count": 14,
      "outputs": []
    },
    {
      "cell_type": "code",
      "metadata": {
        "id": "uvq2u0EQrl8u"
      },
      "source": [
        "np.random.shuffle(c)"
      ],
      "execution_count": 15,
      "outputs": []
    },
    {
      "cell_type": "code",
      "metadata": {
        "id": "8yMjWKSVrpR4"
      },
      "source": [
        "shuffled_images = c[:, :combined_images.size//len(combined_images)].reshape(combined_images.shape)\n",
        "shuffled_labels = c[:, combined_images.size//len(combined_images):].reshape(combined_labels.shape)"
      ],
      "execution_count": 16,
      "outputs": []
    },
    {
      "cell_type": "code",
      "metadata": {
        "colab": {
          "base_uri": "https://localhost:8080/"
        },
        "id": "c2ZH0EXlruVf",
        "outputId": "828d05db-c278-47bc-93c8-4a1aa6d22000"
      },
      "source": [
        "shuffled_images.shape"
      ],
      "execution_count": 17,
      "outputs": [
        {
          "output_type": "execute_result",
          "data": {
            "text/plain": [
              "(10015, 32, 32, 3)"
            ]
          },
          "metadata": {
            "tags": []
          },
          "execution_count": 17
        }
      ]
    },
    {
      "cell_type": "code",
      "metadata": {
        "colab": {
          "base_uri": "https://localhost:8080/"
        },
        "id": "jISxmcmAD5a9",
        "outputId": "6051334a-3299-46e0-f69e-e6681f0a63b1"
      },
      "source": [
        "shuffled_labels.shape"
      ],
      "execution_count": 18,
      "outputs": [
        {
          "output_type": "execute_result",
          "data": {
            "text/plain": [
              "(10015, 1)"
            ]
          },
          "metadata": {
            "tags": []
          },
          "execution_count": 18
        }
      ]
    },
    {
      "cell_type": "code",
      "metadata": {
        "colab": {
          "base_uri": "https://localhost:8080/",
          "height": 284
        },
        "id": "xdbC68G1sII_",
        "outputId": "66a4c019-efbd-4d98-a3f1-4cda5cf7a30e"
      },
      "source": [
        "plt.imshow(shuffled_images[0])\n",
        "print(shuffled_labels[0])"
      ],
      "execution_count": 19,
      "outputs": [
        {
          "output_type": "stream",
          "text": [
            "[1]\n"
          ],
          "name": "stdout"
        },
        {
          "output_type": "display_data",
          "data": {
            "image/png": "[encoded data removed]",
            "text/plain": [
              "<Figure size 432x288 with 1 Axes>"
            ]
          },
          "metadata": {
            "tags": [],
            "needs_background": "light"
          }
        }
      ]
    },
    {
      "cell_type": "markdown",
      "metadata": {
        "id": "aPsoqwVFqDJC"
      },
      "source": [
        "## Oversampling"
      ]
    },
    {
      "cell_type": "markdown",
      "metadata": {
        "id": "5XlvMNg_GBq3"
      },
      "source": [
        "# Image Data Generator"
      ]
    },
    {
      "cell_type": "code",
      "metadata": {
        "id": "jssWRiLYXtJF"
      },
      "source": [
        "from keras.preprocessing.image import ImageDataGenerator"
      ],
      "execution_count": 20,
      "outputs": []
    },
    {
      "cell_type": "code",
      "metadata": {
        "id": "Y8ckzcFBXyna"
      },
      "source": [
        "datagen = ImageDataGenerator(\n",
        "    rotation_range=10,\n",
        "    width_shift_range=10,\n",
        "    height_shift_range=10,\n",
        "    brightness_range=(1, 1.4),\n",
        "    #shear_range=5,\n",
        "    zoom_range=0.1,\n",
        "    #fill_mode = 'wrap',\n",
        "    horizontal_flip = True,\n",
        "    vertical_flip = True,\n",
        "    rescale = 1/255.,\n",
        "    #validation_split=0.2,\n",
        ")"
      ],
      "execution_count": 21,
      "outputs": []
    },
    {
      "cell_type": "code",
      "metadata": {
        "colab": {
          "base_uri": "https://localhost:8080/"
        },
        "id": "gIBa4x1b0hPu",
        "outputId": "84f58476-738d-4730-98cb-4a2f69a0c239"
      },
      "source": [
        "from tqdm import tqdm\n",
        "\n",
        "result = np.where(shuffled_labels == [6])\n",
        "index_tmp = np.random.choice(result[0].shape[0], 4, replace=False)  \n",
        "index = result[0][index_tmp]\n",
        "shuffled_labels[index]\n",
        "shuffled_images[index]\n",
        "\n",
        "class_count = {}\n",
        "new_images , new_labels = [], []\n",
        "\n",
        "# count number of samples of each class \n",
        "for class_num in range(7):\n",
        "  class_count[class_num] = np.count_nonzero(shuffled_labels == [class_num])\n",
        "\n",
        "max_class_c = max(class_count.items(), key=operator.itemgetter(1))[1]\n",
        "print(max_class_c)\n",
        "\n",
        "for class_num, count in tqdm(class_count.items()):\n",
        "  #print(count)\n",
        "  result = np.where(shuffled_labels == [class_num])\n",
        "  index_tmp = np.random.choice(result[0].shape[0], count, replace=False)  \n",
        "  index = result[0][index_tmp]\n",
        "  imgs = shuffled_images[index]\n",
        "  lbls = shuffled_labels[index]\n",
        "\n",
        "  #print(len(imgs), len(lbls))\n",
        "  counter = 0\n",
        "  diff = max_class_c - count\n",
        "  train_gen = datagen.flow(imgs, lbls, batch_size=1)\n",
        "  \n",
        "  while counter < diff:\n",
        "    #image = image.reshape((-1,) + image.shape)\n",
        "    #train_gen = datagen.flow(image, [0], batch_size=1, shuffle=False)\n",
        "    X, y = train_gen.next()\n",
        "    new_images.append(np.array(X[0]))\n",
        "    new_labels.append(y)\n",
        "\n",
        "    counter += 1"
      ],
      "execution_count": 22,
      "outputs": [
        {
          "output_type": "stream",
          "text": [
            "6705\n"
          ],
          "name": "stdout"
        },
        {
          "output_type": "stream",
          "text": [
            "100%|██████████| 7/7 [00:32<00:00,  4.70s/it]\n"
          ],
          "name": "stderr"
        }
      ]
    },
    {
      "cell_type": "code",
      "metadata": {
        "id": "kuMk0blUbaGC",
        "colab": {
          "base_uri": "https://localhost:8080/"
        },
        "outputId": "49f54d77-c88f-4a09-ddeb-184c4bc407a1"
      },
      "source": [
        "new_labels = np.array(new_labels).reshape(-1,1)\n",
        "new_labels.shape"
      ],
      "execution_count": 23,
      "outputs": [
        {
          "output_type": "execute_result",
          "data": {
            "text/plain": [
              "(36920, 1)"
            ]
          },
          "metadata": {
            "tags": []
          },
          "execution_count": 23
        }
      ]
    },
    {
      "cell_type": "code",
      "metadata": {
        "id": "wSOxbonVi0-Z",
        "colab": {
          "base_uri": "https://localhost:8080/"
        },
        "outputId": "ed1c1760-db05-45af-f3e8-286a0158223e"
      },
      "source": [
        "shuffled_labels.shape"
      ],
      "execution_count": 24,
      "outputs": [
        {
          "output_type": "execute_result",
          "data": {
            "text/plain": [
              "(10015, 1)"
            ]
          },
          "metadata": {
            "tags": []
          },
          "execution_count": 24
        }
      ]
    },
    {
      "cell_type": "code",
      "metadata": {
        "id": "U2G22-ssCg2m"
      },
      "source": [
        "# normalize to range 0-1\n",
        "shuffled_images = shuffled_images/255."
      ],
      "execution_count": 25,
      "outputs": []
    },
    {
      "cell_type": "code",
      "metadata": {
        "id": "YB1kmaXziNeb"
      },
      "source": [
        "# combine new data with older ones\n",
        "combined_images = np.concatenate([shuffled_images, np.array(new_images)])\n",
        "combined_labels = np.concatenate([shuffled_labels, np.array(new_labels)])\n",
        "c = np.c_[combined_images.reshape(len(combined_images), -1), combined_labels.reshape(len(combined_labels), -1)]\n",
        "# shuffle \n",
        "np.random.shuffle(c)\n",
        "# split\n",
        "shuffled_images = c[:, :combined_images.size//len(combined_images)].reshape(combined_images.shape)\n",
        "shuffled_labels = c[:, combined_images.size//len(combined_images):].reshape(combined_labels.shape)"
      ],
      "execution_count": 26,
      "outputs": []
    },
    {
      "cell_type": "code",
      "metadata": {
        "colab": {
          "base_uri": "https://localhost:8080/"
        },
        "id": "NsvtlMz_6CCW",
        "outputId": "4bfc0894-c6e3-4ac6-d331-09e75f974946"
      },
      "source": [
        "print(shuffled_images.shape)\n",
        "print(shuffled_labels.shape)"
      ],
      "execution_count": 28,
      "outputs": [
        {
          "output_type": "stream",
          "text": [
            "(46935, 32, 32, 3)\n",
            "(46935, 1)\n"
          ],
          "name": "stdout"
        }
      ]
    },
    {
      "cell_type": "code",
      "metadata": {
        "id": "CcnZm0os1VsX"
      },
      "source": [
        "# split train, val and test\n",
        "[data['train_images'], data['val_images'], data['test_images']] = np.split(shuffled_images, [int(.8 * len(shuffled_images)), int(.9 * len(shuffled_images))])\n",
        "[data['train_labels'], data['val_labels'], data['test_labels']] = np.split(shuffled_labels, [int(.8 * len(shuffled_labels)), int(.9 * len(shuffled_labels))])"
      ],
      "execution_count": 38,
      "outputs": []
    },
    {
      "cell_type": "code",
      "metadata": {
        "id": "d-CP344Hq_Qs"
      },
      "source": [
        "for tag in list(data.keys())[:3]:\n",
        "  # convert from integers to floats\n",
        "  data[tag] = data[tag].astype('float32')\n",
        "  \n",
        "# one hot y values\n",
        "for tag in list(data.keys())[3:]:\n",
        "  data[tag] = to_categorical(data[tag])"
      ],
      "execution_count": 39,
      "outputs": []
    },
    {
      "cell_type": "code",
      "metadata": {
        "colab": {
          "base_uri": "https://localhost:8080/"
        },
        "id": "hFRRejkIwBdU",
        "outputId": "73019941-1564-4c69-d6a7-443a2f2dd039"
      },
      "source": [
        "data['test_images'].shape"
      ],
      "execution_count": 40,
      "outputs": [
        {
          "output_type": "execute_result",
          "data": {
            "text/plain": [
              "(4694, 32, 32, 3)"
            ]
          },
          "metadata": {
            "tags": []
          },
          "execution_count": 40
        }
      ]
    },
    {
      "cell_type": "markdown",
      "metadata": {
        "id": "jbRz5ZgQZma8"
      },
      "source": [
        "# Custom VGG Model"
      ]
    },
    {
      "cell_type": "code",
      "metadata": {
        "id": "xGLU6TYhZqIT"
      },
      "source": [
        "import tensorflow as tf\n",
        "from tensorflow.keras import Sequential\n",
        "from tensorflow.keras.regularizers import l1, l2\n",
        "from tensorflow.keras.layers import Conv2D, MaxPool2D, Flatten, Dense, Dropout\n",
        "from tensorflow.keras.utils import to_categorical\n",
        "from tensorflow.keras.optimizers import *\n",
        "from tensorflow.keras.losses import *\n",
        "from tensorflow.keras.layers import *\n",
        "from tensorflow.keras.activations import *"
      ],
      "execution_count": 41,
      "outputs": []
    },
    {
      "cell_type": "code",
      "metadata": {
        "colab": {
          "base_uri": "https://localhost:8080/"
        },
        "id": "GYuDQ47lYvVq",
        "outputId": "9df89e0f-caa6-4ef0-897d-84e5cb979c84"
      },
      "source": [
        "model = Sequential()\n",
        "\n",
        "model.add(Conv2D(64, (3, 3), activation='relu', padding='same', input_shape=data['train_images'][0].shape, kernel_regularizer=l2(0.0001), kernel_initializer='he_uniform'))\n",
        "model.add(Conv2D(64, (3, 3), activation='relu', padding='same', kernel_regularizer=l2(0.0001), kernel_initializer='he_uniform'))\n",
        "model.add(MaxPool2D((4, 4), strides=(2, 2)))\n",
        "model.add(Dropout(0.05))\n",
        "\n",
        "model.add(Conv2D(128, (3, 3), activation='relu', padding='same', kernel_initializer='he_uniform'))\n",
        "model.add(Conv2D(128, (3, 3), activation='relu', padding='same', kernel_initializer='he_uniform'))\n",
        "model.add(MaxPool2D((4, 4), strides=(2, 2)))\n",
        "model.add(Dropout(0.1))\n",
        "\n",
        "model.add(Conv2D(128, (3, 3), activation='relu', padding='same', kernel_regularizer=l2(0.0001), kernel_initializer='he_uniform'))\n",
        "model.add(Conv2D(128, (3, 3), activation='relu', padding='same', kernel_regularizer=l2(0.001), kernel_initializer='he_uniform'))\n",
        "model.add(MaxPool2D((4, 4), strides=(2, 2)))\n",
        "model.add(Dropout(0.05))\n",
        "\n",
        "model.add(Flatten())\n",
        "\n",
        "model.add(Dense(64, activation='relu', kernel_regularizer=l2(0.0001), kernel_initializer='he_uniform'))\n",
        "model.add(Dropout(0.05))\n",
        "model.add(Dense(7, activation='softmax'))\n",
        "\n",
        "model.summary()"
      ],
      "execution_count": 42,
      "outputs": [
        {
          "output_type": "stream",
          "text": [
            "Model: \"sequential_1\"\n",
            "_________________________________________________________________\n",
            "Layer (type)                 Output Shape              Param #   \n",
            "=================================================================\n",
            "conv2d_6 (Conv2D)            (None, 32, 32, 64)        1792      \n",
            "_________________________________________________________________\n",
            "conv2d_7 (Conv2D)            (None, 32, 32, 64)        36928     \n",
            "_________________________________________________________________\n",
            "max_pooling2d_3 (MaxPooling2 (None, 15, 15, 64)        0         \n",
            "_________________________________________________________________\n",
            "dropout_2 (Dropout)          (None, 15, 15, 64)        0         \n",
            "_________________________________________________________________\n",
            "conv2d_8 (Conv2D)            (None, 15, 15, 128)       73856     \n",
            "_________________________________________________________________\n",
            "conv2d_9 (Conv2D)            (None, 15, 15, 128)       147584    \n",
            "_________________________________________________________________\n",
            "max_pooling2d_4 (MaxPooling2 (None, 6, 6, 128)         0         \n",
            "_________________________________________________________________\n",
            "dropout_3 (Dropout)          (None, 6, 6, 128)         0         \n",
            "_________________________________________________________________\n",
            "conv2d_10 (Conv2D)           (None, 6, 6, 128)         147584    \n",
            "_________________________________________________________________\n",
            "conv2d_11 (Conv2D)           (None, 6, 6, 128)         147584    \n",
            "_________________________________________________________________\n",
            "max_pooling2d_5 (MaxPooling2 (None, 2, 2, 128)         0         \n",
            "_________________________________________________________________\n",
            "dropout_4 (Dropout)          (None, 2, 2, 128)         0         \n",
            "_________________________________________________________________\n",
            "flatten_1 (Flatten)          (None, 512)               0         \n",
            "_________________________________________________________________\n",
            "dense_2 (Dense)              (None, 64)                32832     \n",
            "_________________________________________________________________\n",
            "dropout_5 (Dropout)          (None, 64)                0         \n",
            "_________________________________________________________________\n",
            "dense_3 (Dense)              (None, 7)                 455       \n",
            "=================================================================\n",
            "Total params: 588,615\n",
            "Trainable params: 588,615\n",
            "Non-trainable params: 0\n",
            "_________________________________________________________________\n"
          ],
          "name": "stdout"
        }
      ]
    },
    {
      "cell_type": "code",
      "metadata": {
        "id": "jqe598n-Z7mW"
      },
      "source": [
        "model.compile(optimizer=Adam(learning_rate=0.0001), loss='categorical_crossentropy', metrics=['acc'])"
      ],
      "execution_count": 43,
      "outputs": []
    },
    {
      "cell_type": "code",
      "metadata": {
        "colab": {
          "base_uri": "https://localhost:8080/"
        },
        "id": "xY-zYHCqlu3X",
        "outputId": "e7ffa391-10ee-40f9-bf7a-85799990e22b"
      },
      "source": [
        "data['train_images'].shape\n",
        "data['train_labels'].shape"
      ],
      "execution_count": 44,
      "outputs": [
        {
          "output_type": "execute_result",
          "data": {
            "text/plain": [
              "(37548, 7)"
            ]
          },
          "metadata": {
            "tags": []
          },
          "execution_count": 44
        }
      ]
    },
    {
      "cell_type": "code",
      "metadata": {
        "colab": {
          "base_uri": "https://localhost:8080/"
        },
        "id": "r-WlYOGglyBy",
        "outputId": "251c6d61-8e93-4f89-958d-eed6d36cb795"
      },
      "source": [
        "data['val_images'].shape\n",
        "data['val_labels'].shape"
      ],
      "execution_count": 45,
      "outputs": [
        {
          "output_type": "execute_result",
          "data": {
            "text/plain": [
              "(4693, 7)"
            ]
          },
          "metadata": {
            "tags": []
          },
          "execution_count": 45
        }
      ]
    },
    {
      "cell_type": "code",
      "metadata": {
        "colab": {
          "base_uri": "https://localhost:8080/"
        },
        "id": "3h_7GPM1aGu5",
        "outputId": "c15d3cfa-0ee1-43b4-b480-774533e22a03"
      },
      "source": [
        "history = model.fit(data['train_images'], data['train_labels'], batch_size=32, epochs=30, validation_data=(data['val_images'], data['val_labels']))"
      ],
      "execution_count": 46,
      "outputs": [
        {
          "output_type": "stream",
          "text": [
            "Epoch 1/30\n",
            "1174/1174 [==============================] - 25s 20ms/step - loss: 1.8747 - acc: 0.3651 - val_loss: 1.4967 - val_acc: 0.5150\n",
            "Epoch 2/30\n",
            "1174/1174 [==============================] - 23s 20ms/step - loss: 1.4641 - acc: 0.5135 - val_loss: 1.3780 - val_acc: 0.5495\n",
            "Epoch 3/30\n",
            "1174/1174 [==============================] - 23s 20ms/step - loss: 1.3587 - acc: 0.5484 - val_loss: 1.2841 - val_acc: 0.5847\n",
            "Epoch 4/30\n",
            "1174/1174 [==============================] - 23s 20ms/step - loss: 1.2746 - acc: 0.5744 - val_loss: 1.2062 - val_acc: 0.5996\n",
            "Epoch 5/30\n",
            "1174/1174 [==============================] - 23s 20ms/step - loss: 1.2022 - acc: 0.6008 - val_loss: 1.1507 - val_acc: 0.6256\n",
            "Epoch 6/30\n",
            "1174/1174 [==============================] - 23s 20ms/step - loss: 1.1390 - acc: 0.6228 - val_loss: 1.1244 - val_acc: 0.6250\n",
            "Epoch 7/30\n",
            "1174/1174 [==============================] - 23s 20ms/step - loss: 1.0872 - acc: 0.6381 - val_loss: 1.0772 - val_acc: 0.6373\n",
            "Epoch 8/30\n",
            "1174/1174 [==============================] - 23s 20ms/step - loss: 1.0390 - acc: 0.6574 - val_loss: 1.0222 - val_acc: 0.6663\n",
            "Epoch 9/30\n",
            "1174/1174 [==============================] - 23s 20ms/step - loss: 0.9959 - acc: 0.6707 - val_loss: 0.9767 - val_acc: 0.6795\n",
            "Epoch 10/30\n",
            "1174/1174 [==============================] - 23s 20ms/step - loss: 0.9511 - acc: 0.6871 - val_loss: 0.9518 - val_acc: 0.6885\n",
            "Epoch 11/30\n",
            "1174/1174 [==============================] - 23s 20ms/step - loss: 0.9160 - acc: 0.7010 - val_loss: 0.9447 - val_acc: 0.6915\n",
            "Epoch 12/30\n",
            "1174/1174 [==============================] - 23s 20ms/step - loss: 0.8790 - acc: 0.7117 - val_loss: 0.9192 - val_acc: 0.6925\n",
            "Epoch 13/30\n",
            "1174/1174 [==============================] - 23s 20ms/step - loss: 0.8494 - acc: 0.7242 - val_loss: 0.8968 - val_acc: 0.7087\n",
            "Epoch 14/30\n",
            "1174/1174 [==============================] - 23s 19ms/step - loss: 0.8196 - acc: 0.7323 - val_loss: 0.8770 - val_acc: 0.7091\n",
            "Epoch 15/30\n",
            "1174/1174 [==============================] - 23s 20ms/step - loss: 0.7947 - acc: 0.7431 - val_loss: 0.8484 - val_acc: 0.7213\n",
            "Epoch 16/30\n",
            "1174/1174 [==============================] - 23s 19ms/step - loss: 0.7656 - acc: 0.7543 - val_loss: 0.8398 - val_acc: 0.7140\n",
            "Epoch 17/30\n",
            "1174/1174 [==============================] - 23s 20ms/step - loss: 0.7380 - acc: 0.7621 - val_loss: 0.8280 - val_acc: 0.7322\n",
            "Epoch 18/30\n",
            "1174/1174 [==============================] - 23s 20ms/step - loss: 0.7151 - acc: 0.7726 - val_loss: 0.8105 - val_acc: 0.7371\n",
            "Epoch 19/30\n",
            "1174/1174 [==============================] - 23s 20ms/step - loss: 0.6929 - acc: 0.7818 - val_loss: 0.8289 - val_acc: 0.7230\n",
            "Epoch 20/30\n",
            "1174/1174 [==============================] - 23s 20ms/step - loss: 0.6665 - acc: 0.7894 - val_loss: 0.7821 - val_acc: 0.7501\n",
            "Epoch 21/30\n",
            "1174/1174 [==============================] - 23s 20ms/step - loss: 0.6483 - acc: 0.7987 - val_loss: 0.7639 - val_acc: 0.7528\n",
            "Epoch 22/30\n",
            "1174/1174 [==============================] - 23s 20ms/step - loss: 0.6259 - acc: 0.8065 - val_loss: 0.8069 - val_acc: 0.7479\n",
            "Epoch 23/30\n",
            "1174/1174 [==============================] - 23s 20ms/step - loss: 0.6083 - acc: 0.8124 - val_loss: 0.7883 - val_acc: 0.7447\n",
            "Epoch 24/30\n",
            "1174/1174 [==============================] - 23s 20ms/step - loss: 0.5806 - acc: 0.8263 - val_loss: 0.7465 - val_acc: 0.7671\n",
            "Epoch 25/30\n",
            "1174/1174 [==============================] - 23s 20ms/step - loss: 0.5665 - acc: 0.8305 - val_loss: 0.7450 - val_acc: 0.7599\n",
            "Epoch 26/30\n",
            "1174/1174 [==============================] - 23s 20ms/step - loss: 0.5469 - acc: 0.8400 - val_loss: 0.7319 - val_acc: 0.7665\n",
            "Epoch 27/30\n",
            "1174/1174 [==============================] - 23s 20ms/step - loss: 0.5274 - acc: 0.8486 - val_loss: 0.7704 - val_acc: 0.7631\n",
            "Epoch 28/30\n",
            "1174/1174 [==============================] - 23s 19ms/step - loss: 0.5063 - acc: 0.8552 - val_loss: 0.7511 - val_acc: 0.7677\n",
            "Epoch 29/30\n",
            "1174/1174 [==============================] - 23s 19ms/step - loss: 0.4874 - acc: 0.8655 - val_loss: 0.7462 - val_acc: 0.7724\n",
            "Epoch 30/30\n",
            "1174/1174 [==============================] - 23s 20ms/step - loss: 0.4741 - acc: 0.8682 - val_loss: 0.7642 - val_acc: 0.7680\n"
          ],
          "name": "stdout"
        }
      ]
    },
    {
      "cell_type": "code",
      "metadata": {
        "colab": {
          "base_uri": "https://localhost:8080/",
          "height": 283
        },
        "id": "ywns2S9GaKEF",
        "outputId": "c2eb3b7e-5ad7-4adc-ce9e-829597e86847"
      },
      "source": [
        "plt.plot(history.history['loss'], 'b-o')\n",
        "plt.plot(history.history['val_loss'], 'r--o')"
      ],
      "execution_count": 47,
      "outputs": [
        {
          "output_type": "execute_result",
          "data": {
            "text/plain": [
              "[<matplotlib.lines.Line2D at 0x7f51dff796d0>]"
            ]
          },
          "metadata": {
            "tags": []
          },
          "execution_count": 47
        },
        {
          "output_type": "display_data",
          "data": {
            "image/png": "[encoded data removed]",
            "text/plain": [
              "<Figure size 432x288 with 1 Axes>"
            ]
          },
          "metadata": {
            "tags": [],
            "needs_background": "light"
          }
        }
      ]
    },
    {
      "cell_type": "code",
      "metadata": {
        "colab": {
          "base_uri": "https://localhost:8080/",
          "height": 283
        },
        "id": "NAmAGsJefxNt",
        "outputId": "0008406b-cfdc-4427-9a55-819f6ce1997e"
      },
      "source": [
        "plt.plot(history.history['acc'], 'b-o')\n",
        "plt.plot(history.history['val_acc'], 'r--o')"
      ],
      "execution_count": 48,
      "outputs": [
        {
          "output_type": "execute_result",
          "data": {
            "text/plain": [
              "[<matplotlib.lines.Line2D at 0x7f51dff4d390>]"
            ]
          },
          "metadata": {
            "tags": []
          },
          "execution_count": 48
        },
        {
          "output_type": "display_data",
          "data": {
            "image/png": "[encoded data removed]",
            "text/plain": [
              "<Figure size 432x288 with 1 Axes>"
            ]
          },
          "metadata": {
            "tags": [],
            "needs_background": "light"
          }
        }
      ]
    },
    {
      "cell_type": "code",
      "metadata": {
        "colab": {
          "base_uri": "https://localhost:8080/"
        },
        "id": "PaVltZrkaP5q",
        "outputId": "6905d5b7-10b6-4881-a3d0-a8acfecc05fe"
      },
      "source": [
        "model.evaluate(data['test_images'], data['test_labels'])"
      ],
      "execution_count": 49,
      "outputs": [
        {
          "output_type": "stream",
          "text": [
            "147/147 [==============================] - 1s 10ms/step - loss: 0.7356 - acc: 0.7718\n"
          ],
          "name": "stdout"
        },
        {
          "output_type": "execute_result",
          "data": {
            "text/plain": [
              "[0.7355631589889526, 0.7718364000320435]"
            ]
          },
          "metadata": {
            "tags": []
          },
          "execution_count": 49
        }
      ]
    },
    {
      "cell_type": "code",
      "metadata": {
        "id": "yZqem9cEVjbZ",
        "colab": {
          "base_uri": "https://localhost:8080/",
          "height": 571
        },
        "outputId": "6e114203-17ea-4943-831d-73dfdae972b6"
      },
      "source": [
        "from sklearn.metrics import confusion_matrix\n",
        "from sklearn.metrics import plot_confusion_matrix\n",
        "import pandas as pd\n",
        "import seaborn as sn\n",
        "\n",
        "\n",
        "pred_test_values = np.argmax(model.predict(data['test_images']), axis=1)\n",
        "y_test_arg = np.argmax(data['test_labels'], axis=1)\n",
        "\n",
        "cm = confusion_matrix(pred_test_values, y_test_arg)\n",
        "print(cm)\n",
        "\n",
        "target_labels = '0123456'\n",
        "df_cm = pd.DataFrame(cm, index = [i for i in target_labels],\n",
        "                  columns = [i for i in target_labels])\n",
        "plt.figure(figsize = (10,7))\n",
        "sn.heatmap(df_cm, annot=True, fmt='g')"
      ],
      "execution_count": 52,
      "outputs": [
        {
          "output_type": "stream",
          "text": [
            "[[563  94 112  12  96   7   0]\n",
            " [ 65 523  68  21  38  12   2]\n",
            " [ 41  35 355   9 149  18   0]\n",
            " [  3   5   5 597   9   0   0]\n",
            " [ 16  13  81   3 303  14   3]\n",
            " [  3   5  52   3  61 606   2]\n",
            " [  1   2   4   0   6   1 676]]\n"
          ],
          "name": "stdout"
        },
        {
          "output_type": "execute_result",
          "data": {
            "text/plain": [
              "<matplotlib.axes._subplots.AxesSubplot at 0x7f51d8735e50>"
            ]
          },
          "metadata": {
            "tags": []
          },
          "execution_count": 52
        },
        {
          "output_type": "display_data",
          "data": {
            "image/png": "[encoded data removed]",
            "text/plain": [
              "<Figure size 720x504 with 2 Axes>"
            ]
          },
          "metadata": {
            "tags": [],
            "needs_background": "light"
          }
        }
      ]
    },
    {
      "cell_type": "code",
      "metadata": {
        "colab": {
          "base_uri": "https://localhost:8080/"
        },
        "id": "gEOaKVkqrBZK",
        "outputId": "3c8365e1-537f-46a3-871b-eeb52e802fc6"
      },
      "source": [
        "from sklearn.metrics import classification_report\n",
        "from sklearn.metrics import accuracy_score\n",
        "\n",
        "print(classification_report(y_test_arg, pred_test_values, target_names=target_labels, digits=4))"
      ],
      "execution_count": 54,
      "outputs": [
        {
          "output_type": "stream",
          "text": [
            "              precision    recall  f1-score   support\n",
            "\n",
            "           0     0.6369    0.8136    0.7145       692\n",
            "           1     0.7174    0.7725    0.7440       677\n",
            "           2     0.5848    0.5244    0.5530       677\n",
            "           3     0.9645    0.9256    0.9446       645\n",
            "           4     0.6998    0.4577    0.5534       662\n",
            "           5     0.8279    0.9210    0.8719       658\n",
            "           6     0.9797    0.9898    0.9847       683\n",
            "\n",
            "    accuracy                         0.7718      4694\n",
            "   macro avg     0.7730    0.7721    0.7666      4694\n",
            "weighted avg     0.7715    0.7718    0.7657      4694\n",
            "\n"
          ],
          "name": "stdout"
        }
      ]
    },
    {
      "cell_type": "markdown",
      "metadata": {
        "id": "ZuK4n6Kg_S_F"
      },
      "source": [
        "# Functional API"
      ]
    },
    {
      "cell_type": "code",
      "metadata": {
        "id": "MGt33VR39O3H"
      },
      "source": [
        "# parameters for the network\n",
        "input_shape = data['train_images'][0].shape\n",
        "batch_size = 32\n",
        "kernel_size = 3\n",
        "filters = [64, 128, 32]\n",
        "dropout = 0.05\n",
        "num_labels = 7"
      ],
      "execution_count": 55,
      "outputs": []
    },
    {
      "cell_type": "code",
      "metadata": {
        "id": "0Gf19wKn_lo5"
      },
      "source": [
        "# import libraries\n",
        "import numpy as np\n",
        "import tensorflow as tf\n",
        "from tensorflow.keras.layers import Dense, Dropout, Input\n",
        "from tensorflow.keras.layers import Conv2D, MaxPooling2D, Flatten\n",
        "from tensorflow.keras.models import Model\n",
        "from tensorflow.keras.datasets import mnist\n",
        "\n",
        "# utiliaing functional API to build cnn layers\n",
        "inputs = Input(shape=input_shape)\n",
        "y = Conv2D(filters=filters[0], kernel_size=kernel_size, activation='relu', padding='same', kernel_regularizer=l2(0.0001), kernel_initializer='he_uniform')(inputs)\n",
        "y = AveragePooling2D((4, 4), strides=(2, 2))(y)\n",
        "y = Dropout(dropout)(y)\n",
        "y = Conv2D(filters=filters[0], kernel_size=kernel_size, activation='tanh', padding='same', kernel_initializer='he_uniform')(y)\n",
        "y = AveragePooling2D((4, 4), strides=(2, 2))(y)\n",
        "y = Conv2D(filters=filters[1], kernel_size=kernel_size, activation='tanh', padding='same', kernel_regularizer=l2(0.0001), kernel_initializer='he_uniform')(y)\n",
        "y = AveragePooling2D((4, 4), strides=(2, 2))(y)\n",
        "y = Conv2D(filters=filters[0], kernel_size=kernel_size, activation='relu', padding='same', kernel_regularizer=l2(0.0001), kernel_initializer='he_uniform')(y)\n",
        "y = Conv2D(filters=filters[0], kernel_size=kernel_size, activation='sigmoid', padding='same', kernel_initializer='he_uniform')(y)\n",
        "y = Conv2D(filters=filters[1], kernel_size=kernel_size, activation='relu', padding='same', kernel_regularizer=l2(0.0001), kernel_initializer='he_uniform')(y)\n",
        "y = Conv2D(filters=filters[1], kernel_size=kernel_size, activation='relu', padding='same', kernel_regularizer=l2(0.0001), kernel_initializer='he_uniform')(y)\n",
        "# Convert image to vector \n",
        "y = Flatten()(y)\n",
        "\n",
        "# Dropout regularization\n",
        "y = Dropout(dropout)(y)\n",
        "outputs = Dense(num_labels, activation='softmax')(y)\n",
        "\n",
        "# model building by supplying inputs/outputs\n",
        "model = Model(inputs=inputs, outputs=outputs)"
      ],
      "execution_count": 62,
      "outputs": []
    },
    {
      "cell_type": "code",
      "metadata": {
        "colab": {
          "base_uri": "https://localhost:8080/"
        },
        "id": "Q4z3IG4A_1t4",
        "outputId": "9678c01b-f166-45ef-9575-de241e0358f7"
      },
      "source": [
        "model.compile(loss='categorical_crossentropy',\n",
        "\t optimizer=Adam(learning_rate=0.001),\n",
        "\t metrics=['accuracy'])\n",
        "model.fit(data['train_images'], \n",
        "data['train_labels'],\n",
        "  validation_data=(data['val_images'], data['val_labels']),\n",
        "  epochs=30,\n",
        "  batch_size=batch_size)"
      ],
      "execution_count": 64,
      "outputs": [
        {
          "output_type": "stream",
          "text": [
            "Epoch 1/30\n",
            "1174/1174 [==============================] - 16s 13ms/step - loss: 1.6121 - accuracy: 0.3828 - val_loss: 1.3662 - val_accuracy: 0.4877\n",
            "Epoch 2/30\n",
            "1174/1174 [==============================] - 14s 12ms/step - loss: 1.3503 - accuracy: 0.4837 - val_loss: 1.2696 - val_accuracy: 0.5154\n",
            "Epoch 3/30\n",
            "1174/1174 [==============================] - 14s 12ms/step - loss: 1.2735 - accuracy: 0.5112 - val_loss: 1.2882 - val_accuracy: 0.5078\n",
            "Epoch 4/30\n",
            "1174/1174 [==============================] - 14s 12ms/step - loss: 1.2249 - accuracy: 0.5328 - val_loss: 1.2107 - val_accuracy: 0.5351\n",
            "Epoch 5/30\n",
            "1174/1174 [==============================] - 14s 12ms/step - loss: 1.1870 - accuracy: 0.5477 - val_loss: 1.1936 - val_accuracy: 0.5451\n",
            "Epoch 6/30\n",
            "1174/1174 [==============================] - 14s 12ms/step - loss: 1.1567 - accuracy: 0.5601 - val_loss: 1.1442 - val_accuracy: 0.5698\n",
            "Epoch 7/30\n",
            "1174/1174 [==============================] - 14s 12ms/step - loss: 1.1399 - accuracy: 0.5689 - val_loss: 1.1467 - val_accuracy: 0.5630\n",
            "Epoch 8/30\n",
            "1174/1174 [==============================] - 14s 12ms/step - loss: 1.1129 - accuracy: 0.5820 - val_loss: 1.1004 - val_accuracy: 0.5877\n",
            "Epoch 9/30\n",
            "1174/1174 [==============================] - 14s 12ms/step - loss: 1.0964 - accuracy: 0.5896 - val_loss: 1.1301 - val_accuracy: 0.5785\n",
            "Epoch 10/30\n",
            "1174/1174 [==============================] - 14s 12ms/step - loss: 1.0698 - accuracy: 0.6048 - val_loss: 1.1011 - val_accuracy: 0.5922\n",
            "Epoch 11/30\n",
            "1174/1174 [==============================] - 14s 12ms/step - loss: 1.0556 - accuracy: 0.6119 - val_loss: 1.1024 - val_accuracy: 0.5900\n",
            "Epoch 12/30\n",
            "1174/1174 [==============================] - 14s 12ms/step - loss: 1.0358 - accuracy: 0.6196 - val_loss: 1.0697 - val_accuracy: 0.6020\n",
            "Epoch 13/30\n",
            "1174/1174 [==============================] - 14s 12ms/step - loss: 1.0209 - accuracy: 0.6275 - val_loss: 1.0746 - val_accuracy: 0.6035\n",
            "Epoch 14/30\n",
            "1174/1174 [==============================] - 14s 12ms/step - loss: 1.0033 - accuracy: 0.6347 - val_loss: 1.0464 - val_accuracy: 0.6130\n",
            "Epoch 15/30\n",
            "1174/1174 [==============================] - 14s 12ms/step - loss: 0.9834 - accuracy: 0.6438 - val_loss: 1.0155 - val_accuracy: 0.6348\n",
            "Epoch 16/30\n",
            "1174/1174 [==============================] - 14s 12ms/step - loss: 0.9676 - accuracy: 0.6536 - val_loss: 1.0786 - val_accuracy: 0.6126\n",
            "Epoch 17/30\n",
            "1174/1174 [==============================] - 14s 12ms/step - loss: 0.9512 - accuracy: 0.6625 - val_loss: 1.0267 - val_accuracy: 0.6294\n",
            "Epoch 18/30\n",
            "1174/1174 [==============================] - 14s 12ms/step - loss: 0.9347 - accuracy: 0.6691 - val_loss: 1.0187 - val_accuracy: 0.6358\n",
            "Epoch 19/30\n",
            "1174/1174 [==============================] - 14s 12ms/step - loss: 0.9292 - accuracy: 0.6725 - val_loss: 1.0836 - val_accuracy: 0.6182\n",
            "Epoch 20/30\n",
            "1174/1174 [==============================] - 14s 12ms/step - loss: 0.9115 - accuracy: 0.6850 - val_loss: 1.0033 - val_accuracy: 0.6469\n",
            "Epoch 21/30\n",
            "1174/1174 [==============================] - 14s 12ms/step - loss: 0.9039 - accuracy: 0.6860 - val_loss: 0.9965 - val_accuracy: 0.6557\n",
            "Epoch 22/30\n",
            "1174/1174 [==============================] - 15s 13ms/step - loss: 0.8896 - accuracy: 0.6928 - val_loss: 1.0578 - val_accuracy: 0.6456\n",
            "Epoch 23/30\n",
            "1174/1174 [==============================] - 14s 12ms/step - loss: 0.8785 - accuracy: 0.6989 - val_loss: 0.9846 - val_accuracy: 0.6618\n",
            "Epoch 24/30\n",
            "1174/1174 [==============================] - 14s 12ms/step - loss: 0.8635 - accuracy: 0.7081 - val_loss: 0.9981 - val_accuracy: 0.6606\n",
            "Epoch 25/30\n",
            "1174/1174 [==============================] - 14s 12ms/step - loss: 0.8516 - accuracy: 0.7130 - val_loss: 0.9871 - val_accuracy: 0.6633\n",
            "Epoch 26/30\n",
            "1174/1174 [==============================] - 15s 13ms/step - loss: 0.8467 - accuracy: 0.7158 - val_loss: 0.9622 - val_accuracy: 0.6606\n",
            "Epoch 27/30\n",
            "1174/1174 [==============================] - 14s 12ms/step - loss: 0.8383 - accuracy: 0.7204 - val_loss: 1.0271 - val_accuracy: 0.6529\n",
            "Epoch 28/30\n",
            "1174/1174 [==============================] - 14s 12ms/step - loss: 0.8289 - accuracy: 0.7224 - val_loss: 1.0570 - val_accuracy: 0.6407\n",
            "Epoch 29/30\n",
            "1174/1174 [==============================] - 14s 12ms/step - loss: 0.8135 - accuracy: 0.7293 - val_loss: 0.9737 - val_accuracy: 0.6753\n",
            "Epoch 30/30\n",
            "1174/1174 [==============================] - 15s 13ms/step - loss: 0.8149 - accuracy: 0.7304 - val_loss: 0.9722 - val_accuracy: 0.6695\n"
          ],
          "name": "stdout"
        },
        {
          "output_type": "execute_result",
          "data": {
            "text/plain": [
              "<tensorflow.python.keras.callbacks.History at 0x7f51c79ccd50>"
            ]
          },
          "metadata": {
            "tags": []
          },
          "execution_count": 64
        }
      ]
    },
    {
      "cell_type": "code",
      "metadata": {
        "id": "B82h6kWcaegd",
        "colab": {
          "base_uri": "https://localhost:8080/"
        },
        "outputId": "6a8dd582-ba7a-46f5-8316-010b6eaba71e"
      },
      "source": [
        "# accuracy evaluation\n",
        "score = model.evaluate(data['test_images'], data['test_labels'],\n",
        "  batch_size=batch_size,\n",
        "  verbose=0)\n",
        "print(\"Test Accuracy: %.1f%%\" % (100.0 * score[1]))"
      ],
      "execution_count": 65,
      "outputs": [
        {
          "output_type": "stream",
          "text": [
            "Test Accuracy: 67.6%\n"
          ],
          "name": "stdout"
        }
      ]
    },
    {
      "cell_type": "code",
      "metadata": {
        "id": "gn6E0Tujch6h",
        "colab": {
          "base_uri": "https://localhost:8080/",
          "height": 571
        },
        "outputId": "dc38430b-7578-4a16-c71d-c9d607fdf30b"
      },
      "source": [
        "pred_test_values = np.argmax(model.predict(data['test_images']), axis=1)\n",
        "y_test_arg = np.argmax(data['test_labels'], axis=1)\n",
        "cm = confusion_matrix(pred_test_values, y_test_arg)\n",
        "print(cm)\n",
        "target_labels = '0123456'\n",
        "df_cm = pd.DataFrame(cm, index = [i for i in target_labels], columns = [i for i in target_labels])\n",
        "plt.figure(figsize = (10,7))\n",
        "sn.heatmap(df_cm, annot=True, fmt='g')"
      ],
      "execution_count": 68,
      "outputs": [
        {
          "output_type": "stream",
          "text": [
            "[[359  59  63  22  76   1   2]\n",
            " [147 468 112  68  65  10  13]\n",
            " [ 45  20 212   7  51  15   0]\n",
            " [ 73  57  40 526  27   2   1]\n",
            " [ 56  39 181  13 357  35   4]\n",
            " [  9   7  49   5  66 591   4]\n",
            " [  3  27  20   4  20   4 659]]\n"
          ],
          "name": "stdout"
        },
        {
          "output_type": "execute_result",
          "data": {
            "text/plain": [
              "<matplotlib.axes._subplots.AxesSubplot at 0x7f51c3e09a90>"
            ]
          },
          "metadata": {
            "tags": []
          },
          "execution_count": 68
        },
        {
          "output_type": "display_data",
          "data": {
            "image/png": "[encoded data removed]",
            "text/plain": [
              "<Figure size 720x504 with 2 Axes>"
            ]
          },
          "metadata": {
            "tags": [],
            "needs_background": "light"
          }
        }
      ]
    },
    {
      "cell_type": "markdown",
      "metadata": {
        "id": "M9AFCyWyOTlF"
      },
      "source": [
        "# Run wihtout preprocessing"
      ]
    },
    {
      "cell_type": "code",
      "metadata": {
        "id": "E2ACeBMlOSlo"
      },
      "source": [
        "d = np.load('Data.npz')\n",
        "data = {key: d[key] for key in d.files}"
      ],
      "execution_count": 82,
      "outputs": []
    },
    {
      "cell_type": "code",
      "metadata": {
        "id": "g9JOU7tePCty"
      },
      "source": [
        "# one hot y values\n",
        "for tag in list(data.keys())[3:]:\n",
        "  data[tag] = to_categorical(data[tag], num_classes=7)"
      ],
      "execution_count": 84,
      "outputs": []
    },
    {
      "cell_type": "code",
      "metadata": {
        "colab": {
          "base_uri": "https://localhost:8080/"
        },
        "id": "rQc9KiwRPTfK",
        "outputId": "92de588d-a4f2-42c0-fed7-f97a8e26d7b1"
      },
      "source": [
        "data['val_labels'][0]"
      ],
      "execution_count": 85,
      "outputs": [
        {
          "output_type": "execute_result",
          "data": {
            "text/plain": [
              "array([0., 0., 0., 0., 0., 1., 0.], dtype=float32)"
            ]
          },
          "metadata": {
            "tags": []
          },
          "execution_count": 85
        }
      ]
    },
    {
      "cell_type": "code",
      "metadata": {
        "colab": {
          "base_uri": "https://localhost:8080/"
        },
        "id": "apGwPhd2OuB4",
        "outputId": "7a18768c-dd41-4d0b-fb6a-9c92bd759858"
      },
      "source": [
        "model = Sequential()\n",
        "\n",
        "model.add(Conv2D(64, (3, 3), activation='relu', padding='same', input_shape=data['train_images'][0].shape, kernel_regularizer=l2(0.0001), kernel_initializer='he_uniform'))\n",
        "model.add(Conv2D(64, (3, 3), activation='relu', padding='same', kernel_regularizer=l2(0.0001), kernel_initializer='he_uniform'))\n",
        "model.add(MaxPool2D((4, 4), strides=(2, 2)))\n",
        "model.add(Dropout(0.05))\n",
        "\n",
        "model.add(Conv2D(128, (3, 3), activation='relu', padding='same', kernel_initializer='he_uniform'))\n",
        "model.add(Conv2D(128, (3, 3), activation='relu', padding='same', kernel_initializer='he_uniform'))\n",
        "model.add(MaxPool2D((4, 4), strides=(2, 2)))\n",
        "model.add(Dropout(0.1))\n",
        "\n",
        "model.add(Conv2D(128, (3, 3), activation='relu', padding='same', kernel_regularizer=l2(0.0001), kernel_initializer='he_uniform'))\n",
        "model.add(Conv2D(128, (3, 3), activation='relu', padding='same', kernel_regularizer=l2(0.001), kernel_initializer='he_uniform'))\n",
        "model.add(MaxPool2D((4, 4), strides=(2, 2)))\n",
        "model.add(Dropout(0.05))\n",
        "\n",
        "model.add(Flatten())\n",
        "\n",
        "model.add(Dense(64, activation='relu', kernel_regularizer=l2(0.0001), kernel_initializer='he_uniform'))\n",
        "model.add(Dropout(0.05))\n",
        "model.add(Dense(7, activation='softmax'))\n",
        "\n",
        "model.summary()"
      ],
      "execution_count": 86,
      "outputs": [
        {
          "output_type": "stream",
          "text": [
            "Model: \"sequential_4\"\n",
            "_________________________________________________________________\n",
            "Layer (type)                 Output Shape              Param #   \n",
            "=================================================================\n",
            "conv2d_52 (Conv2D)           (None, 28, 28, 64)        1792      \n",
            "_________________________________________________________________\n",
            "conv2d_53 (Conv2D)           (None, 28, 28, 64)        36928     \n",
            "_________________________________________________________________\n",
            "max_pooling2d_14 (MaxPooling (None, 13, 13, 64)        0         \n",
            "_________________________________________________________________\n",
            "dropout_22 (Dropout)         (None, 13, 13, 64)        0         \n",
            "_________________________________________________________________\n",
            "conv2d_54 (Conv2D)           (None, 13, 13, 128)       73856     \n",
            "_________________________________________________________________\n",
            "conv2d_55 (Conv2D)           (None, 13, 13, 128)       147584    \n",
            "_________________________________________________________________\n",
            "max_pooling2d_15 (MaxPooling (None, 5, 5, 128)         0         \n",
            "_________________________________________________________________\n",
            "dropout_23 (Dropout)         (None, 5, 5, 128)         0         \n",
            "_________________________________________________________________\n",
            "conv2d_56 (Conv2D)           (None, 5, 5, 128)         147584    \n",
            "_________________________________________________________________\n",
            "conv2d_57 (Conv2D)           (None, 5, 5, 128)         147584    \n",
            "_________________________________________________________________\n",
            "max_pooling2d_16 (MaxPooling (None, 1, 1, 128)         0         \n",
            "_________________________________________________________________\n",
            "dropout_24 (Dropout)         (None, 1, 1, 128)         0         \n",
            "_________________________________________________________________\n",
            "flatten_8 (Flatten)          (None, 128)               0         \n",
            "_________________________________________________________________\n",
            "dense_12 (Dense)             (None, 64)                8256      \n",
            "_________________________________________________________________\n",
            "dropout_25 (Dropout)         (None, 64)                0         \n",
            "_________________________________________________________________\n",
            "dense_13 (Dense)             (None, 7)                 455       \n",
            "=================================================================\n",
            "Total params: 564,039\n",
            "Trainable params: 564,039\n",
            "Non-trainable params: 0\n",
            "_________________________________________________________________\n"
          ],
          "name": "stdout"
        }
      ]
    },
    {
      "cell_type": "code",
      "metadata": {
        "colab": {
          "base_uri": "https://localhost:8080/"
        },
        "id": "3iIXJB_jO0Qb",
        "outputId": "06d68972-a596-436e-a18d-9b4b15660f5f"
      },
      "source": [
        "model.compile(optimizer=Adam(learning_rate=0.0001), loss='categorical_crossentropy', metrics=['acc'])\n",
        "history = model.fit(data['train_images'], data['train_labels'], batch_size=32, epochs=30, validation_data=(data['val_images'], data['val_labels']))"
      ],
      "execution_count": 87,
      "outputs": [
        {
          "output_type": "stream",
          "text": [
            "Epoch 1/30\n",
            "219/219 [==============================] - 50s 21ms/step - loss: 34.1726 - acc: 0.5022 - val_loss: 2.6228 - val_acc: 0.6620\n",
            "Epoch 2/30\n",
            "219/219 [==============================] - 4s 18ms/step - loss: 3.7564 - acc: 0.5362 - val_loss: 1.6498 - val_acc: 0.5244\n",
            "Epoch 3/30\n",
            "219/219 [==============================] - 4s 18ms/step - loss: 1.9570 - acc: 0.5544 - val_loss: 1.4051 - val_acc: 0.6022\n",
            "Epoch 4/30\n",
            "219/219 [==============================] - 4s 18ms/step - loss: 1.6448 - acc: 0.5867 - val_loss: 1.4070 - val_acc: 0.5663\n",
            "Epoch 5/30\n",
            "219/219 [==============================] - 4s 18ms/step - loss: 1.5191 - acc: 0.6075 - val_loss: 1.3540 - val_acc: 0.6471\n",
            "Epoch 6/30\n",
            "219/219 [==============================] - 4s 18ms/step - loss: 1.4444 - acc: 0.6287 - val_loss: 1.3371 - val_acc: 0.6311\n",
            "Epoch 7/30\n",
            "219/219 [==============================] - 4s 18ms/step - loss: 1.4156 - acc: 0.6329 - val_loss: 1.3080 - val_acc: 0.6411\n",
            "Epoch 8/30\n",
            "219/219 [==============================] - 4s 18ms/step - loss: 1.3632 - acc: 0.6448 - val_loss: 1.3223 - val_acc: 0.6600\n",
            "Epoch 9/30\n",
            "219/219 [==============================] - 4s 18ms/step - loss: 1.3421 - acc: 0.6475 - val_loss: 1.2770 - val_acc: 0.6670\n",
            "Epoch 10/30\n",
            "219/219 [==============================] - 4s 18ms/step - loss: 1.3257 - acc: 0.6549 - val_loss: 1.2925 - val_acc: 0.6540\n",
            "Epoch 11/30\n",
            "219/219 [==============================] - 4s 18ms/step - loss: 1.2964 - acc: 0.6573 - val_loss: 1.2277 - val_acc: 0.6680\n",
            "Epoch 12/30\n",
            "219/219 [==============================] - 4s 18ms/step - loss: 1.2732 - acc: 0.6686 - val_loss: 1.2290 - val_acc: 0.6680\n",
            "Epoch 13/30\n",
            "219/219 [==============================] - 4s 18ms/step - loss: 1.2539 - acc: 0.6678 - val_loss: 1.2335 - val_acc: 0.6640\n",
            "Epoch 14/30\n",
            "219/219 [==============================] - 4s 18ms/step - loss: 1.2373 - acc: 0.6708 - val_loss: 1.2274 - val_acc: 0.6710\n",
            "Epoch 15/30\n",
            "219/219 [==============================] - 4s 18ms/step - loss: 1.2307 - acc: 0.6715 - val_loss: 1.1934 - val_acc: 0.6939\n",
            "Epoch 16/30\n",
            "219/219 [==============================] - 4s 18ms/step - loss: 1.2223 - acc: 0.6743 - val_loss: 1.1759 - val_acc: 0.6790\n",
            "Epoch 17/30\n",
            "219/219 [==============================] - 4s 18ms/step - loss: 1.2168 - acc: 0.6710 - val_loss: 1.1861 - val_acc: 0.6869\n",
            "Epoch 18/30\n",
            "219/219 [==============================] - 4s 18ms/step - loss: 1.2013 - acc: 0.6763 - val_loss: 1.1501 - val_acc: 0.6919\n",
            "Epoch 19/30\n",
            "219/219 [==============================] - 4s 18ms/step - loss: 1.1924 - acc: 0.6775 - val_loss: 1.2227 - val_acc: 0.6600\n",
            "Epoch 20/30\n",
            "219/219 [==============================] - 4s 18ms/step - loss: 1.1880 - acc: 0.6807 - val_loss: 1.1695 - val_acc: 0.6929\n",
            "Epoch 21/30\n",
            "219/219 [==============================] - 4s 18ms/step - loss: 1.1805 - acc: 0.6796 - val_loss: 1.1368 - val_acc: 0.6959\n",
            "Epoch 22/30\n",
            "219/219 [==============================] - 4s 18ms/step - loss: 1.1612 - acc: 0.6796 - val_loss: 1.1846 - val_acc: 0.6869\n",
            "Epoch 23/30\n",
            "219/219 [==============================] - 4s 18ms/step - loss: 1.1564 - acc: 0.6805 - val_loss: 1.1274 - val_acc: 0.6989\n",
            "Epoch 24/30\n",
            "219/219 [==============================] - 4s 18ms/step - loss: 1.1408 - acc: 0.6879 - val_loss: 1.1245 - val_acc: 0.6830\n",
            "Epoch 25/30\n",
            "219/219 [==============================] - 4s 18ms/step - loss: 1.1426 - acc: 0.6839 - val_loss: 1.1241 - val_acc: 0.6929\n",
            "Epoch 26/30\n",
            "219/219 [==============================] - 4s 18ms/step - loss: 1.1329 - acc: 0.6867 - val_loss: 1.1104 - val_acc: 0.6869\n",
            "Epoch 27/30\n",
            "219/219 [==============================] - 4s 18ms/step - loss: 1.1253 - acc: 0.6916 - val_loss: 1.1176 - val_acc: 0.6909\n",
            "Epoch 28/30\n",
            "219/219 [==============================] - 4s 18ms/step - loss: 1.1129 - acc: 0.6896 - val_loss: 1.1230 - val_acc: 0.6919\n",
            "Epoch 29/30\n",
            "219/219 [==============================] - 4s 18ms/step - loss: 1.0977 - acc: 0.6933 - val_loss: 1.0986 - val_acc: 0.6989\n",
            "Epoch 30/30\n",
            "219/219 [==============================] - 4s 18ms/step - loss: 1.0941 - acc: 0.6942 - val_loss: 1.1249 - val_acc: 0.7079\n"
          ],
          "name": "stdout"
        }
      ]
    },
    {
      "cell_type": "code",
      "metadata": {
        "colab": {
          "base_uri": "https://localhost:8080/",
          "height": 283
        },
        "id": "jf51mkF1O53h",
        "outputId": "5835f392-fab9-4fd5-9582-ca0ce5366f13"
      },
      "source": [
        "plt.plot(history.history['loss'], 'b-o')\n",
        "plt.plot(history.history['val_loss'], 'r--o')"
      ],
      "execution_count": 89,
      "outputs": [
        {
          "output_type": "execute_result",
          "data": {
            "text/plain": [
              "[<matplotlib.lines.Line2D at 0x7f51cc86cdd0>]"
            ]
          },
          "metadata": {
            "tags": []
          },
          "execution_count": 89
        },
        {
          "output_type": "display_data",
          "data": {
            "image/png": "[encoded data removed]",
            "text/plain": [
              "<Figure size 432x288 with 1 Axes>"
            ]
          },
          "metadata": {
            "tags": [],
            "needs_background": "light"
          }
        }
      ]
    },
    {
      "cell_type": "code",
      "metadata": {
        "colab": {
          "base_uri": "https://localhost:8080/",
          "height": 283
        },
        "id": "uPjGt57RRcZt",
        "outputId": "05005d2c-d542-49e2-b2fb-0ad87ab13331"
      },
      "source": [
        "plt.plot(history.history['acc'], 'b-o')\n",
        "plt.plot(history.history['val_acc'], 'r--o')"
      ],
      "execution_count": 91,
      "outputs": [
        {
          "output_type": "execute_result",
          "data": {
            "text/plain": [
              "[<matplotlib.lines.Line2D at 0x7f528d1c7c50>]"
            ]
          },
          "metadata": {
            "tags": []
          },
          "execution_count": 91
        },
        {
          "output_type": "display_data",
          "data": {
            "image/png": "[encoded data removed]",
            "text/plain": [
              "<Figure size 432x288 with 1 Axes>"
            ]
          },
          "metadata": {
            "tags": [],
            "needs_background": "light"
          }
        }
      ]
    },
    {
      "cell_type": "markdown",
      "metadata": {
        "id": "Mi2E6-KcRkGW"
      },
      "source": [
        "## همانطور که مشخص است هیچ پیشرفت قابل توجهی حاصل نشده است و همچنین دقت حاصل نیز به دلیل این که داده ها بالانس نشده هستند دقت واقعی نیست."
      ]
    },
    {
      "cell_type": "code",
      "metadata": {
        "colab": {
          "base_uri": "https://localhost:8080/",
          "height": 571
        },
        "id": "Q3r5zSLgRgNq",
        "outputId": "cdb35d9c-1661-43a4-aba1-4a9359918cb1"
      },
      "source": [
        "pred_test_values = np.argmax(model.predict(data['test_images']), axis=1)\n",
        "y_test_arg = np.argmax(data['test_labels'], axis=1)\n",
        "cm = confusion_matrix(pred_test_values, y_test_arg)\n",
        "print(cm)\n",
        "target_labels = '0123456'\n",
        "df_cm = pd.DataFrame(cm, index = [i for i in target_labels], columns = [i for i in target_labels])\n",
        "plt.figure(figsize = (10,7))\n",
        "sn.heatmap(df_cm, annot=True, fmt='g')"
      ],
      "execution_count": 92,
      "outputs": [
        {
          "output_type": "stream",
          "text": [
            "[[   9    3   10    0    4    1    0]\n",
            " [  24   33   32    5    9   18    2]\n",
            " [  11   35   63   12   20   51    2]\n",
            " [   0    0    0    0    0    0    0]\n",
            " [  13   12   24    1   64   29    7]\n",
            " [   9   19   91    5  123 1235    7]\n",
            " [   0    1    0    0    3    7   11]]\n"
          ],
          "name": "stdout"
        },
        {
          "output_type": "execute_result",
          "data": {
            "text/plain": [
              "<matplotlib.axes._subplots.AxesSubplot at 0x7f528d1eaa50>"
            ]
          },
          "metadata": {
            "tags": []
          },
          "execution_count": 92
        },
        {
          "output_type": "display_data",
          "data": {
            "image/png": "[encoded data removed]",
            "text/plain": [
              "<Figure size 720x504 with 2 Axes>"
            ]
          },
          "metadata": {
            "tags": [],
            "needs_background": "light"
          }
        }
      ]
    },
    {
      "cell_type": "code",
      "metadata": {
        "colab": {
          "base_uri": "https://localhost:8080/"
        },
        "id": "7A9qp1YGR1qO",
        "outputId": "d50eebdd-bfac-47c8-cc83-6130bc6fafa6"
      },
      "source": [
        "print(classification_report(y_test_arg, pred_test_values, target_names=target_labels, digits=4))"
      ],
      "execution_count": 93,
      "outputs": [
        {
          "output_type": "stream",
          "text": [
            "              precision    recall  f1-score   support\n",
            "\n",
            "           0     0.3333    0.1364    0.1935        66\n",
            "           1     0.2683    0.3204    0.2920       103\n",
            "           2     0.3247    0.2864    0.3043       220\n",
            "           3     0.0000    0.0000    0.0000        23\n",
            "           4     0.4267    0.2870    0.3432       223\n",
            "           5     0.8294    0.9210    0.8728      1341\n",
            "           6     0.5000    0.3793    0.4314        29\n",
            "\n",
            "    accuracy                         0.7057      2005\n",
            "   macro avg     0.3832    0.3329    0.3482      2005\n",
            "weighted avg     0.6698    0.7057    0.6829      2005\n",
            "\n"
          ],
          "name": "stdout"
        },
        {
          "output_type": "stream",
          "text": [
            "/usr/local/lib/python3.7/dist-packages/sklearn/metrics/_classification.py:1272: UndefinedMetricWarning: Precision and F-score are ill-defined and being set to 0.0 in labels with no predicted samples. Use `zero_division` parameter to control this behavior.\n",
            "  _warn_prf(average, modifier, msg_start, len(result))\n"
          ],
          "name": "stderr"
        }
      ]
    },
    {
      "cell_type": "markdown",
      "metadata": {
        "id": "zVinkmUbR9RI"
      },
      "source": [
        "## همانطور که از نمودارهای بالا مشخص است تنها نتایج کلاس 5 به دلایلی که در گزارش ذکر شده است خوب است و بقیه ی کلاس ها نتایج بدی داشته اند و این اهمیت پیش پردازش و تمامی کارهایی که به تفصیل در گزارش ذکر شده و انجام شده اند را نشان می دهد."
      ]
    },
    {
      "cell_type": "code",
      "metadata": {
        "id": "ajEm86VjR7h0"
      },
      "source": [
        ""
      ],
      "execution_count": null,
      "outputs": []
    }
  ]
}